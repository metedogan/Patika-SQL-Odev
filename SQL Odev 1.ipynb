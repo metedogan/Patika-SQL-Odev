{
    "metadata": {
        "kernelspec": {
            "name": "SQL",
            "display_name": "SQL",
            "language": "sql"
        },
        "language_info": {
            "name": "sql",
            "version": ""
        }
    },
    "nbformat_minor": 2,
    "nbformat": 4,
    "cells": [
        {
            "cell_type": "markdown",
            "source": [
                "- film tablosunda bulunan title ve description sütunlarındaki verileri sıralayınız."
            ],
            "metadata": {
                "azdata_cell_guid": "f36aa3d7-cf1b-41eb-9ee7-5454a007a0ec"
            },
            "attachments": {}
        },
        {
            "cell_type": "code",
            "source": [
                "SELECT title, description \r\n",
                "FROM film;"
            ],
            "metadata": {
                "azdata_cell_guid": "aee2eb03-2b33-4ea3-83f0-ad935602259b",
                "language": "sql"
            },
            "outputs": [],
            "execution_count": null
        },
        {
            "cell_type": "markdown",
            "source": [
                "- film tablosunda bulunan tüm sütunlardaki verileri film uzunluğu (length) 60 dan büyük VE 75 ten küçük olma koşullarıyla sıralayınız."
            ],
            "metadata": {
                "azdata_cell_guid": "dc4216fe-9f4a-4edd-ad37-4408412d60f2"
            },
            "attachments": {}
        },
        {
            "cell_type": "code",
            "source": [
                "SELECT * \r\n",
                "FROM film \r\n",
                "WHERE length BETWEEN 60 AND 75;"
            ],
            "metadata": {
                "azdata_cell_guid": "332bd9d2-0000-4d3d-99ea-573bf8132877",
                "language": "sql"
            },
            "outputs": [],
            "execution_count": null
        },
        {
            "cell_type": "markdown",
            "source": [
                "- film tablosunda bulunan tüm sütunlardaki verileri rental\\_rate 0.99 VE replacement\\_cost 12.99 VEYA 28.99 olma koşullarıyla sıralayınız."
            ],
            "metadata": {
                "language": "sql",
                "azdata_cell_guid": "231e3404-f8a6-46ac-90f5-259316a1899d"
            },
            "attachments": {}
        },
        {
            "cell_type": "code",
            "source": [
                "SELECT * \r\n",
                "FROM film\r\n",
                "WHERE rental_rate = 0.99 AND (replacement_cost = 12.99 or replacement_cost = 28.99);"
            ],
            "metadata": {
                "language": "sql",
                "azdata_cell_guid": "92b84b50-03c4-4b8e-a292-a2b02a1eb0a5"
            },
            "outputs": [],
            "execution_count": null
        },
        {
            "cell_type": "markdown",
            "source": [
                "- customer tablosunda bulunan first\\_name sütunundaki değeri 'Mary' olan müşterinin last\\_name sütunundaki değeri nedir?"
            ],
            "metadata": {
                "language": "sql",
                "azdata_cell_guid": "d12ffbb7-5924-4f60-ae88-a22a1544de84"
            },
            "attachments": {}
        },
        {
            "cell_type": "code",
            "source": [
                "SELECT last_name \r\n",
                "FROM customer\r\n",
                "WHERE first_name = 'Mary';"
            ],
            "metadata": {
                "language": "sql",
                "azdata_cell_guid": "529cf8c5-110b-4850-b01b-c4d9a48d8d5e"
            },
            "outputs": [],
            "execution_count": null
        },
        {
            "cell_type": "markdown",
            "source": [
                "- film tablosundaki uzunluğu(length) 50 ten büyük OLMAYIP aynı zamanda rental\\_rate değeri 2.99 veya 4.99 OLMAYAN verileri sıralayınız."
            ],
            "metadata": {
                "language": "sql",
                "azdata_cell_guid": "570dac7d-b18f-451b-b694-3a7fec9a9958"
            },
            "attachments": {}
        },
        {
            "cell_type": "code",
            "source": [
                "SELECT * \r\n",
                "FROM film\r\n",
                "WHERE length <= 50 AND (rental_rate <> 2.99 AND rental_rate <> 4.99) "
            ],
            "metadata": {
                "language": "sql",
                "azdata_cell_guid": "033ceeff-57b8-4346-84bb-edb50ac7e7f5"
            },
            "outputs": [],
            "execution_count": null
        }
    ]
}