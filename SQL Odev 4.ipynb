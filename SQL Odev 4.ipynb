{
    "metadata": {
        "kernelspec": {
            "name": "SQL",
            "display_name": "SQL",
            "language": "sql"
        },
        "language_info": {
            "name": "sql",
            "version": ""
        }
    },
    "nbformat_minor": 2,
    "nbformat": 4,
    "cells": [
        {
            "cell_type": "markdown",
            "source": [
                "- film tablosunda bulunan replacement\\_cost sütununda bulunan birbirinden farklı değerleri sıralayınız."
            ],
            "metadata": {
                "azdata_cell_guid": "01a3f51b-d206-43de-8ab4-fa7f015a10a8"
            },
            "attachments": {}
        },
        {
            "cell_type": "code",
            "source": [
                "SELECT DISTINCT replacement_cost FROM film;"
            ],
            "metadata": {
                "azdata_cell_guid": "721e9c30-9fe6-4329-bd12-7a28a7b6ad27",
                "language": "sql"
            },
            "outputs": [
                {
                    "output_type": "display_data",
                    "data": {
                        "text/html": "(21 row(s) affected)"
                    },
                    "metadata": {}
                },
                {
                    "output_type": "display_data",
                    "data": {
                        "text/html": "Total execution time: 00:00:00.002"
                    },
                    "metadata": {}
                },
                {
                    "output_type": "execute_result",
                    "metadata": {},
                    "execution_count": 6,
                    "data": {
                        "application/vnd.dataresource+json": {
                            "schema": {
                                "fields": [
                                    {
                                        "name": "replacement_cost"
                                    }
                                ]
                            },
                            "data": [
                                {
                                    "0": "18.99"
                                },
                                {
                                    "0": "15.99"
                                },
                                {
                                    "0": "29.99"
                                },
                                {
                                    "0": "14.99"
                                },
                                {
                                    "0": "25.99"
                                },
                                {
                                    "0": "23.99"
                                },
                                {
                                    "0": "12.99"
                                },
                                {
                                    "0": "16.99"
                                },
                                {
                                    "0": "28.99"
                                },
                                {
                                    "0": "27.99"
                                },
                                {
                                    "0": "21.99"
                                },
                                {
                                    "0": "10.99"
                                },
                                {
                                    "0": "24.99"
                                },
                                {
                                    "0": "11.99"
                                },
                                {
                                    "0": "17.99"
                                },
                                {
                                    "0": "13.99"
                                },
                                {
                                    "0": "20.99"
                                },
                                {
                                    "0": "22.99"
                                },
                                {
                                    "0": "9.99"
                                },
                                {
                                    "0": "26.99"
                                },
                                {
                                    "0": "19.99"
                                }
                            ]
                        },
                        "text/html": [
                            "<table>",
                            "<tr><th>replacement_cost</th></tr>",
                            "<tr><td>18.99</td></tr>",
                            "<tr><td>15.99</td></tr>",
                            "<tr><td>29.99</td></tr>",
                            "<tr><td>14.99</td></tr>",
                            "<tr><td>25.99</td></tr>",
                            "<tr><td>23.99</td></tr>",
                            "<tr><td>12.99</td></tr>",
                            "<tr><td>16.99</td></tr>",
                            "<tr><td>28.99</td></tr>",
                            "<tr><td>27.99</td></tr>",
                            "<tr><td>21.99</td></tr>",
                            "<tr><td>10.99</td></tr>",
                            "<tr><td>24.99</td></tr>",
                            "<tr><td>11.99</td></tr>",
                            "<tr><td>17.99</td></tr>",
                            "<tr><td>13.99</td></tr>",
                            "<tr><td>20.99</td></tr>",
                            "<tr><td>22.99</td></tr>",
                            "<tr><td>9.99</td></tr>",
                            "<tr><td>26.99</td></tr>",
                            "<tr><td>19.99</td></tr>",
                            "</table>"
                        ]
                    }
                }
            ],
            "execution_count": 6
        },
        {
            "cell_type": "markdown",
            "source": [
                "- film tablosunda bulunan replacement\\_cost sütununda birbirinden farklı kaç tane veri vardır?"
            ],
            "metadata": {
                "azdata_cell_guid": "2839433b-e0e1-42b7-94d5-65e61dd38e92"
            },
            "attachments": {}
        },
        {
            "cell_type": "code",
            "source": [
                "SELECT COUNT (DISTINCT replacement_cost) FROM film;"
            ],
            "metadata": {
                "azdata_cell_guid": "5fec5d7a-60b5-453b-a79a-be5cdd7130f4",
                "language": "sql"
            },
            "outputs": [
                {
                    "output_type": "display_data",
                    "data": {
                        "text/html": "(1 row(s) affected)"
                    },
                    "metadata": {}
                },
                {
                    "output_type": "display_data",
                    "data": {
                        "text/html": "Total execution time: 00:00:00.002"
                    },
                    "metadata": {}
                },
                {
                    "output_type": "execute_result",
                    "metadata": {},
                    "execution_count": 7,
                    "data": {
                        "application/vnd.dataresource+json": {
                            "schema": {
                                "fields": [
                                    {
                                        "name": "count"
                                    }
                                ]
                            },
                            "data": [
                                {
                                    "0": "21"
                                }
                            ]
                        },
                        "text/html": [
                            "<table>",
                            "<tr><th>count</th></tr>",
                            "<tr><td>21</td></tr>",
                            "</table>"
                        ]
                    }
                }
            ],
            "execution_count": 7
        },
        {
            "cell_type": "markdown",
            "source": [
                "- film tablosunda bulunan film isimlerinde (title) kaç tanesini T karakteri ile başlar ve aynı zamanda rating 'G' ye eşittir?"
            ],
            "metadata": {
                "azdata_cell_guid": "fa9c4de8-2e96-4330-8110-533f65d98e91"
            },
            "attachments": {}
        },
        {
            "cell_type": "code",
            "source": [
                "SELECT COUNT (title) FROM film\r\n",
                "WHERE title LIKE 'T%' AND rating = 'G';"
            ],
            "metadata": {
                "azdata_cell_guid": "b5b1719f-b5d8-45c7-b5db-eb40d0808b5e",
                "language": "sql"
            },
            "outputs": [
                {
                    "output_type": "display_data",
                    "data": {
                        "text/html": "(1 row(s) affected)"
                    },
                    "metadata": {}
                },
                {
                    "output_type": "display_data",
                    "data": {
                        "text/html": "Total execution time: 00:00:00.002"
                    },
                    "metadata": {}
                },
                {
                    "output_type": "execute_result",
                    "metadata": {},
                    "execution_count": 8,
                    "data": {
                        "application/vnd.dataresource+json": {
                            "schema": {
                                "fields": [
                                    {
                                        "name": "count"
                                    }
                                ]
                            },
                            "data": [
                                {
                                    "0": "9"
                                }
                            ]
                        },
                        "text/html": [
                            "<table>",
                            "<tr><th>count</th></tr>",
                            "<tr><td>9</td></tr>",
                            "</table>"
                        ]
                    }
                }
            ],
            "execution_count": 8
        },
        {
            "cell_type": "markdown",
            "source": [
                "- country tablosunda bulunan ülke isimlerinden (country) kaç tanesi 5 karakterden oluşmaktadır?"
            ],
            "metadata": {
                "azdata_cell_guid": "f4494c98-3497-4512-9af8-fe14d0726e33"
            },
            "attachments": {}
        },
        {
            "cell_type": "code",
            "source": [
                "SELECT COUNT (country) FROM country\r\n",
                "WHERE country LIKE '_____';"
            ],
            "metadata": {
                "azdata_cell_guid": "97ca2147-758c-48f4-ae30-def92177f699",
                "language": "sql"
            },
            "outputs": [
                {
                    "output_type": "display_data",
                    "data": {
                        "text/html": "(1 row(s) affected)"
                    },
                    "metadata": {}
                },
                {
                    "output_type": "display_data",
                    "data": {
                        "text/html": "Total execution time: 00:00:00.003"
                    },
                    "metadata": {}
                },
                {
                    "output_type": "execute_result",
                    "metadata": {},
                    "execution_count": 9,
                    "data": {
                        "application/vnd.dataresource+json": {
                            "schema": {
                                "fields": [
                                    {
                                        "name": "count"
                                    }
                                ]
                            },
                            "data": [
                                {
                                    "0": "13"
                                }
                            ]
                        },
                        "text/html": [
                            "<table>",
                            "<tr><th>count</th></tr>",
                            "<tr><td>13</td></tr>",
                            "</table>"
                        ]
                    }
                }
            ],
            "execution_count": 9
        },
        {
            "cell_type": "markdown",
            "source": [
                "- city tablosundaki şehir isimlerinin kaç tanesi 'R' veya r karakteri ile biter?"
            ],
            "metadata": {
                "azdata_cell_guid": "23949fba-9c32-437c-9260-e4273a98bd08"
            },
            "attachments": {}
        },
        {
            "cell_type": "code",
            "source": [
                "SELECT COUNT (city) FROM city\r\n",
                "WHERE city LIKE '%r' OR city LIKE '%R'"
            ],
            "metadata": {
                "azdata_cell_guid": "346eed59-3699-4485-9c2f-9478f8901005",
                "language": "sql"
            },
            "outputs": [
                {
                    "output_type": "display_data",
                    "data": {
                        "text/html": "(1 row(s) affected)"
                    },
                    "metadata": {}
                },
                {
                    "output_type": "display_data",
                    "data": {
                        "text/html": "Total execution time: 00:00:00.001"
                    },
                    "metadata": {}
                },
                {
                    "output_type": "execute_result",
                    "metadata": {},
                    "execution_count": 10,
                    "data": {
                        "application/vnd.dataresource+json": {
                            "schema": {
                                "fields": [
                                    {
                                        "name": "count"
                                    }
                                ]
                            },
                            "data": [
                                {
                                    "0": "33"
                                }
                            ]
                        },
                        "text/html": [
                            "<table>",
                            "<tr><th>count</th></tr>",
                            "<tr><td>33</td></tr>",
                            "</table>"
                        ]
                    }
                }
            ],
            "execution_count": 10
        }
    ]
}