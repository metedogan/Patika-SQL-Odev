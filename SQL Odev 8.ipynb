{
    "metadata": {
        "kernelspec": {
            "name": "SQL",
            "display_name": "SQL",
            "language": "sql"
        },
        "language_info": {
            "name": "sql",
            "version": ""
        }
    },
    "nbformat_minor": 2,
    "nbformat": 4,
    "cells": [
        {
            "cell_type": "markdown",
            "source": [
                "- test veritabanınızda employee isimli sütun bilgileri id(INTEGER), name VARCHAR(50), birthday DATE, email VARCHAR(100) olan bir tablo oluşturalım."
            ],
            "metadata": {
                "azdata_cell_guid": "5b43caec-0817-4ff4-ba6f-95416dc2ddbf"
            },
            "attachments": {}
        },
        {
            "cell_type": "code",
            "source": [
                "CREATE TABLE employee (\r\n",
                "\tid INTEGER,\r\n",
                "\tname VARCHAR(50),\r\n",
                "\tbirhday DATE,\r\n",
                "\temail VARCHAR(100)\r\n",
                ");"
            ],
            "metadata": {
                "azdata_cell_guid": "7580a8cc-f3bd-4235-9003-f224b4427dd4",
                "language": "sql",
                "tags": []
            },
            "outputs": [],
            "execution_count": null
        },
        {
            "cell_type": "markdown",
            "source": [
                "### \n",
                "\n",
                "- Oluşturduğumuz employee tablosuna 'Mockaroo' servisini kullanarak 50 adet veri ekleyelim."
            ],
            "metadata": {
                "azdata_cell_guid": "ecbba130-5883-4a28-bfc2-e6824afd9dd9"
            },
            "attachments": {}
        },
        {
            "cell_type": "code",
            "source": [
                "insert into employee (id, name, birthday, email) values (1, 'Frank Yashaev', '27-03-1974', 'fyashaev0@slashdot.org');\r\n",
                "insert into employee (id, name, birthday, email) values (2, 'Bibbie Corss', '13-10-1905', 'bcorss1@statcounter.com');\r\n",
                "insert into employee (id, name, birthday, email) values (3, 'Eulalie Gronauer', null, 'egronauer2@opensource.org');\r\n",
                "insert into employee (id, name, birthday, email) values (4, 'Louie Maypole', '01-03-1948', 'lmaypole3@japanpost.jp');\r\n",
                "insert into employee (id, name, birthday, email) values (5, 'Syman Vanichkin', '25-09-1948', 'svanichkin4@vimeo.com');\r\n",
                "insert into employee (id, name, birthday, email) values (6, 'Robbie Entwistle', null, 'rentwistle5@wp.com');\r\n",
                "insert into employee (id, name, birthday, email) values (7, 'Jared Orwell', null, 'jorwell6@ucoz.com');\r\n",
                "insert into employee (id, name, birthday, email) values (8, 'Lindsay Lengthorn', null, 'llengthorn7@state.gov');\r\n",
                "insert into employee (id, name, birthday, email) values (9, 'Madelyn Souter', '11-01-1962', 'msouter8@jigsy.com');\r\n",
                "insert into employee (id, name, birthday, email) values (10, 'Wallie Leachman', '10-03-1975', 'wleachman9@mit.edu');\r\n",
                "insert into employee (id, name, birthday, email) values (11, 'Herold Berthomier', '22-03-1953', 'hberthomiera@springer.com');\r\n",
                "insert into employee (id, name, birthday, email) values (12, 'Arlina St. Hill', '13-09-1919', 'astb@dmoz.org');\r\n",
                "insert into employee (id, name, birthday, email) values (13, 'Brandy Bradbury', '09-09-1989', 'bbradburyc@friendfeed.com');\r\n",
                "insert into employee (id, name, birthday, email) values (14, 'Scarlet Dobsons', '29-05-1904', 'sdobsonsd@i2i.jp');\r\n",
                "insert into employee (id, name, birthday, email) values (15, 'Hunt Sandcraft', '14-10-1945', 'hsandcrafte@dmoz.org');\r\n",
                "insert into employee (id, name, birthday, email) values (16, 'Maggy Belt', '06-08-1982', 'mbeltf@nih.gov');\r\n",
                "insert into employee (id, name, birthday, email) values (17, 'Kerwinn Juris', '28-09-1993', 'kjurisg@networkadvertising.org');\r\n",
                "insert into employee (id, name, birthday, email) values (18, 'Ingeborg Butner', null, null);\r\n",
                "insert into employee (id, name, birthday, email) values (19, 'Benjamin Luisetti', '28-03-1937', 'bluisettii@miibeian.gov.cn');\r\n",
                "insert into employee (id, name, birthday, email) values (20, 'Gerrilee Elcom', '26-06-1949', 'gelcomj@eventbrite.com');\r\n",
                "insert into employee (id, name, birthday, email) values (21, 'Wilek Schult', '16-12-1961', 'wschultk@plala.or.jp');\r\n",
                "insert into employee (id, name, birthday, email) values (22, 'Oriana Pudden', '14-12-1931', 'opuddenl@examiner.com');\r\n",
                "insert into employee (id, name, birthday, email) values (23, 'Noll Caldwall', '07-02-1970', 'ncaldwallm@scribd.com');\r\n",
                "insert into employee (id, name, birthday, email) values (24, 'Armand Leaf', '01-08-1909', 'aleafn@ask.com');\r\n",
                "insert into employee (id, name, birthday, email) values (25, 'Leta Caldera', '09-10-1902', 'lcalderao@economist.com');\r\n",
                "insert into employee (id, name, birthday, email) values (26, 'Norrie Kreuzer', '09-04-1944', 'nkreuzerp@who.int');\r\n",
                "insert into employee (id, name, birthday, email) values (27, 'Ara Brager', '23-10-1907', 'abragerq@craigslist.org');\r\n",
                "insert into employee (id, name, birthday, email) values (28, 'Koo Allsworth', '05-04-1924', null);\r\n",
                "insert into employee (id, name, birthday, email) values (29, 'Aloysius Bather', '05-01-1978', 'abathers@chicagotribune.com');\r\n",
                "insert into employee (id, name, birthday, email) values (30, 'Ruprecht Underdown', '23-10-1986', 'runderdownt@1688.com');\r\n",
                "insert into employee (id, name, birthday, email) values (31, 'Mace McEwen', null, 'mmcewenu@bing.com');\r\n",
                "insert into employee (id, name, birthday, email) values (32, 'Glory McTrustram', '25-01-1918', 'gmctrustramv@eventbrite.com');\r\n",
                "insert into employee (id, name, birthday, email) values (33, 'Caspar Eddicott', '19-01-1910', 'ceddicottw@time.com');\r\n",
                "insert into employee (id, name, birthday, email) values (34, 'Velma Tummons', '08-07-1943', 'vtummonsx@blogspot.com');\r\n",
                "insert into employee (id, name, birthday, email) values (35, 'Stanfield Crickett', '12-08-1963', 'scricketty@icq.com');\r\n",
                "insert into employee (id, name, birthday, email) values (36, 'Rubetta Trunchion', '26-09-1972', 'rtrunchionz@t-online.de');\r\n",
                "insert into employee (id, name, birthday, email) values (37, 'Sandy Delves', null, 'sdelves10@mapy.cz');\r\n",
                "insert into employee (id, name, birthday, email) values (38, 'Atlanta Saben', '29-01-1939', 'asaben11@google.ca');\r\n",
                "insert into employee (id, name, birthday, email) values (39, 'Jen Rosentholer', '28-04-1954', 'jrosentholer12@sun.com');\r\n",
                "insert into employee (id, name, birthday, email) values (40, 'Jammal Langhorne', '31-08-1961', 'jlanghorne13@wikimedia.org');\r\n",
                "insert into employee (id, name, birthday, email) values (41, 'Casper Pylkynyton', '01-05-1945', 'cpylkynyton14@zdnet.com');\r\n",
                "insert into employee (id, name, birthday, email) values (42, 'Kennith Mapplebeck', null, 'kmapplebeck15@skype.com');\r\n",
                "insert into employee (id, name, birthday, email) values (43, 'Gilbertine Blakeway', null, 'gblakeway16@phoca.cz');\r\n",
                "insert into employee (id, name, birthday, email) values (44, 'Engracia Leggen', '11-01-1921', 'eleggen17@com.com');\r\n",
                "insert into employee (id, name, birthday, email) values (45, 'Ludwig MacCafferty', '09-09-1919', 'lmaccafferty18@geocities.jp');\r\n",
                "insert into employee (id, name, birthday, email) values (46, 'Alyse Griffith', '15-04-1938', 'agriffith19@economist.com');\r\n",
                "insert into employee (id, name, birthday, email) values (47, 'Karolina Padson', '18-03-1988', 'kpadson1a@typepad.com');\r\n",
                "insert into employee (id, name, birthday, email) values (48, 'Tillie Dmiterko', '15-10-1964', 'tdmiterko1b@mit.edu');\r\n",
                "insert into employee (id, name, birthday, email) values (49, 'Alley Wanka', '30-09-1953', 'awanka1c@slashdot.org');\r\n",
                "insert into employee (id, name, birthday, email) values (50, 'Aristotle Jurkiewicz', '09-01-1954', null);\r\n",
                ""
            ],
            "metadata": {
                "azdata_cell_guid": "d591743c-9ed3-45a8-a7fc-45d604c148de",
                "language": "sql",
                "tags": []
            },
            "outputs": [],
            "execution_count": null
        },
        {
            "cell_type": "markdown",
            "source": [
                "### \n",
                "\n",
                "- Sütunların her birine göre diğer sütunları güncelleyecek 5 adet UPDATE işlemi yapalım."
            ],
            "metadata": {
                "azdata_cell_guid": "8fcf6391-926b-42b8-ace8-c85d1c218eda"
            },
            "attachments": {}
        },
        {
            "cell_type": "code",
            "source": [
                "UPDATE employee \r\n",
                "SET name = 'John Doe'\r\n",
                "WHERE id = 1;\r\n",
                "\r\n",
                "UPDATE employee\r\n",
                "SET birthday = '01-01-1901'\r\n",
                "WHERE name = 'John Doe';\r\n",
                "\r\n",
                "UPDATE employee\r\n",
                "SET email = 'ozlem@gokkaya.com'\r\n",
                "WHERE birthday = '01-01-1901';\r\n",
                "\r\n",
                "UPDATE employee\r\n",
                "SET name = 'Melisa Kaya'\r\n",
                "WHERE email = 'ozlem@gokkaya.com';\r\n",
                "\r\n",
                "UPDATE employee\r\n",
                "SET birthday = '07-09-2002'\r\n",
                "WHERE name = 'Melisa Kaya';\r\n",
                ""
            ],
            "metadata": {
                "azdata_cell_guid": "c52960c9-2dea-4677-a347-c438d5d95b6b",
                "language": "sql",
                "tags": []
            },
            "outputs": [],
            "execution_count": null
        },
        {
            "cell_type": "markdown",
            "source": [
                "### \n",
                "\n",
                "- Sütunların her birine göre ilgili satırı silecek 5 adet DELETE işlemi yapalım."
            ],
            "metadata": {
                "azdata_cell_guid": "911e9e60-1e86-47f1-b4c9-9f2f78290bd4"
            },
            "attachments": {}
        },
        {
            "cell_type": "code",
            "source": [
                "DELETE FROM employee\r\n",
                "WHERE id = 1;\r\n",
                "\r\n",
                "DELETE FROM employee\r\n",
                "WHERE name = 'John Doe';\r\n",
                "\r\n",
                "DELETE FROM employee\r\n",
                "WHERE email = 'ozlem@gokkaya.com';\r\n",
                "\r\n",
                "DELETE FROM employee\r\n",
                "WHERE birthday = '01-01-1901';\r\n",
                "\r\n",
                "DELETE FROM employee\r\n",
                "WHERE name = 'Melisa Kaya';"
            ],
            "metadata": {
                "azdata_cell_guid": "533ca4c2-e693-4e16-b2f5-94b5f3678991",
                "language": "sql"
            },
            "outputs": [
                {
                    "output_type": "display_data",
                    "data": {
                        "text/html": "Commands completed successfully"
                    },
                    "metadata": {}
                },
                {
                    "output_type": "display_data",
                    "data": {
                        "text/html": "Commands completed successfully"
                    },
                    "metadata": {}
                },
                {
                    "output_type": "display_data",
                    "data": {
                        "text/html": "Commands completed successfully"
                    },
                    "metadata": {}
                },
                {
                    "output_type": "display_data",
                    "data": {
                        "text/html": "Commands completed successfully"
                    },
                    "metadata": {}
                },
                {
                    "output_type": "display_data",
                    "data": {
                        "text/html": "Commands completed successfully"
                    },
                    "metadata": {}
                },
                {
                    "output_type": "display_data",
                    "data": {
                        "text/html": "Total execution time: 00:00:00.006"
                    },
                    "metadata": {}
                }
            ],
            "execution_count": 7
        }
    ]
}