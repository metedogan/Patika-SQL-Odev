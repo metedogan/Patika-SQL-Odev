{
    "metadata": {
        "kernelspec": {
            "name": "SQL",
            "display_name": "SQL",
            "language": "sql"
        },
        "language_info": {
            "name": "sql",
            "version": ""
        }
    },
    "nbformat_minor": 2,
    "nbformat": 4,
    "cells": [
        {
            "cell_type": "markdown",
            "source": [
                "- film tablosunda bulunan rental\\_rate sütunundaki değerlerin ortalaması nedir?"
            ],
            "metadata": {
                "azdata_cell_guid": "9d9e22ac-24cb-430a-9b3a-1dc809cf8030"
            },
            "attachments": {}
        },
        {
            "cell_type": "code",
            "source": [
                "SELECT AVG(rental_rate) FROM film;"
            ],
            "metadata": {
                "azdata_cell_guid": "3bd27b58-b321-4d3e-a69e-12d8051b25e7",
                "language": "sql"
            },
            "outputs": [
                {
                    "output_type": "display_data",
                    "data": {
                        "text/html": "(1 row(s) affected)"
                    },
                    "metadata": {}
                },
                {
                    "output_type": "display_data",
                    "data": {
                        "text/html": "Total execution time: 00:00:00.009"
                    },
                    "metadata": {}
                },
                {
                    "output_type": "execute_result",
                    "metadata": {},
                    "execution_count": 1,
                    "data": {
                        "application/vnd.dataresource+json": {
                            "schema": {
                                "fields": [
                                    {
                                        "name": "avg"
                                    }
                                ]
                            },
                            "data": [
                                {
                                    "0": "2.9800000000000000"
                                }
                            ]
                        },
                        "text/html": [
                            "<table>",
                            "<tr><th>avg</th></tr>",
                            "<tr><td>2.9800000000000000</td></tr>",
                            "</table>"
                        ]
                    }
                }
            ],
            "execution_count": 1
        },
        {
            "cell_type": "markdown",
            "source": [
                "- film tablosunda bulunan filmlerden kaç tanesi 'C' karakteri ile başlar?"
            ],
            "metadata": {
                "azdata_cell_guid": "3da0e8da-0df4-4a5a-b527-b90a61a8cf0d"
            },
            "attachments": {}
        },
        {
            "cell_type": "code",
            "source": [
                "SELECT COUNT(title) FROM film\r\n",
                "WHERE title LIKE 'C%';"
            ],
            "metadata": {
                "azdata_cell_guid": "0d16d4d4-d2ee-46af-883c-f77844b256fa",
                "language": "sql"
            },
            "outputs": [
                {
                    "output_type": "display_data",
                    "data": {
                        "text/html": "(1 row(s) affected)"
                    },
                    "metadata": {}
                },
                {
                    "output_type": "display_data",
                    "data": {
                        "text/html": "Total execution time: 00:00:00.003"
                    },
                    "metadata": {}
                },
                {
                    "output_type": "execute_result",
                    "metadata": {},
                    "execution_count": 2,
                    "data": {
                        "application/vnd.dataresource+json": {
                            "schema": {
                                "fields": [
                                    {
                                        "name": "count"
                                    }
                                ]
                            },
                            "data": [
                                {
                                    "0": "92"
                                }
                            ]
                        },
                        "text/html": [
                            "<table>",
                            "<tr><th>count</th></tr>",
                            "<tr><td>92</td></tr>",
                            "</table>"
                        ]
                    }
                }
            ],
            "execution_count": 2
        },
        {
            "cell_type": "markdown",
            "source": [
                "- film tablosunda bulunan filmlerden rental\\_rate değeri 0.99 a eşit olan en uzun (length) film kaç dakikadır?"
            ],
            "metadata": {
                "azdata_cell_guid": "be06d98e-8559-499c-bc9d-c19e273f622f"
            },
            "attachments": {}
        },
        {
            "cell_type": "code",
            "source": [
                "SELECT MAX(length) FROM film\r\n",
                "WHERE rental_rate = 0.99;"
            ],
            "metadata": {
                "azdata_cell_guid": "5feef330-c2cf-4716-9346-8ec44ffde891",
                "language": "sql"
            },
            "outputs": [
                {
                    "output_type": "display_data",
                    "data": {
                        "text/html": "(1 row(s) affected)"
                    },
                    "metadata": {}
                },
                {
                    "output_type": "display_data",
                    "data": {
                        "text/html": "Total execution time: 00:00:00.004"
                    },
                    "metadata": {}
                },
                {
                    "output_type": "execute_result",
                    "metadata": {},
                    "execution_count": 3,
                    "data": {
                        "application/vnd.dataresource+json": {
                            "schema": {
                                "fields": [
                                    {
                                        "name": "max"
                                    }
                                ]
                            },
                            "data": [
                                {
                                    "0": "184"
                                }
                            ]
                        },
                        "text/html": [
                            "<table>",
                            "<tr><th>max</th></tr>",
                            "<tr><td>184</td></tr>",
                            "</table>"
                        ]
                    }
                }
            ],
            "execution_count": 3
        },
        {
            "cell_type": "markdown",
            "source": [
                "- film tablosunda bulunan filmlerin uzunluğu 150 dakikadan büyük olanlarına ait kaç farklı replacement\\_cost değeri vardır?"
            ],
            "metadata": {
                "azdata_cell_guid": "1d4a9b7a-dcad-43af-98f6-b964b0379e26"
            },
            "attachments": {}
        },
        {
            "cell_type": "code",
            "source": [
                "SELECT DISTINCT COUNT(replacement_cost) \r\n",
                "FROM film\r\n",
                "WHERE length > 150;"
            ],
            "metadata": {
                "azdata_cell_guid": "298a7984-d661-442e-9ff6-258f20a71cab",
                "language": "sql"
            },
            "outputs": [
                {
                    "output_type": "display_data",
                    "data": {
                        "text/html": "(1 row(s) affected)"
                    },
                    "metadata": {}
                },
                {
                    "output_type": "display_data",
                    "data": {
                        "text/html": "Total execution time: 00:00:00.002"
                    },
                    "metadata": {}
                },
                {
                    "output_type": "execute_result",
                    "metadata": {},
                    "execution_count": 4,
                    "data": {
                        "application/vnd.dataresource+json": {
                            "schema": {
                                "fields": [
                                    {
                                        "name": "count"
                                    }
                                ]
                            },
                            "data": [
                                {
                                    "0": "242"
                                }
                            ]
                        },
                        "text/html": [
                            "<table>",
                            "<tr><th>count</th></tr>",
                            "<tr><td>242</td></tr>",
                            "</table>"
                        ]
                    }
                }
            ],
            "execution_count": 4
        }
    ]
}