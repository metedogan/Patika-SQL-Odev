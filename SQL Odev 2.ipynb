{
    "metadata": {
        "kernelspec": {
            "name": "SQL",
            "display_name": "SQL",
            "language": "sql"
        },
        "language_info": {
            "name": "sql",
            "version": ""
        }
    },
    "nbformat_minor": 2,
    "nbformat": 4,
    "cells": [
        {
            "cell_type": "markdown",
            "source": [
                "- film tablosunda bulunan tüm sütunlardaki verileri replacement cost değeri 12.99 dan büyük eşit ve 16.99 küçük olma koşuluyla sıralayınız ( BETWEEN - AND yapısını kullanınız.)"
            ],
            "metadata": {
                "azdata_cell_guid": "b929fc84-e07a-473f-a73a-5245590ec6a8"
            },
            "attachments": {}
        },
        {
            "cell_type": "code",
            "source": [
                "SELECT *\r\n",
                "FROM film\r\n",
                "WHERE replacement_cost BETWEEN 12.99 AND 16.98"
            ],
            "metadata": {
                "azdata_cell_guid": "8f057a16-ea39-4093-826f-6dc98e209ccf",
                "language": "sql"
            },
            "outputs": [],
            "execution_count": 7
        },
        {
            "cell_type": "markdown",
            "source": [
                "- actor tablosunda bulunan first\\_name ve last\\_name sütunlardaki verileri first\\_name 'Penelope' veya 'Nick' veya 'Ed' değerleri olması koşuluyla sıralayınız. ( IN operatörünü kullanınız.)"
            ],
            "metadata": {
                "azdata_cell_guid": "27521c31-066c-40ad-9b9f-361b6338a1a4"
            },
            "attachments": {}
        },
        {
            "cell_type": "code",
            "source": [
                "SELECT first_name , last_name \r\n",
                "FROM actor \r\n",
                "WHERE first_name IN('Penelope', 'Nick', 'Ed');"
            ],
            "metadata": {
                "azdata_cell_guid": "1dd70f26-53f4-4d23-84f0-61b008d51d05",
                "language": "sql"
            },
            "outputs": [],
            "execution_count": 6
        },
        {
            "cell_type": "markdown",
            "source": [
                "- film tablosunda bulunan tüm sütunlardaki verileri rental\\_rate 0.99, 2.99, 4.99 VE replacement\\_cost 12.99, 15.99, 28.99 olma koşullarıyla sıralayınız. ( IN operatörünü kullanınız.)"
            ],
            "metadata": {
                "azdata_cell_guid": "5357df2e-b716-4c05-9a8c-d9aedecfadf4"
            },
            "attachments": {}
        },
        {
            "cell_type": "code",
            "source": [
                "SELECT * \r\n",
                "FROM film \r\n",
                "WHERE rental_rate IN (0.99, 2.99, 4.99) AND replacement_cost IN (12.99, 15.99, 28.99)"
            ],
            "metadata": {
                "azdata_cell_guid": "d87ad291-ef47-459e-85df-3f906701043c",
                "language": "sql"
            },
            "outputs": [],
            "execution_count": 8
        }
    ]
}