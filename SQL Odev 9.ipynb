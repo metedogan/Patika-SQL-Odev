{
    "metadata": {
        "kernelspec": {
            "name": "SQL",
            "display_name": "SQL",
            "language": "sql"
        },
        "language_info": {
            "name": "sql",
            "version": ""
        }
    },
    "nbformat_minor": 2,
    "nbformat": 4,
    "cells": [
        {
            "cell_type": "code",
            "source": [
                "--city tablosu ile country tablosunda bulunan şehir (city) ve ülke (country) isimlerini birlikte görebileceğimiz INNER JOIN sorgusunu yazınız.\r\n",
                "\r\n",
                "SELECT city, country\r\n",
                "FROM city\r\n",
                "INNER JOIN country\r\n",
                "ON city.country_id = country.country_id;\r\n",
                ""
            ],
            "metadata": {
                "azdata_cell_guid": "c5e0d4c2-3419-4fea-9122-73700f3b9bd2",
                "language": "sql",
                "tags": []
            },
            "outputs": [],
            "execution_count": null
        },
        {
            "cell_type": "code",
            "source": [
                "--customer tablosu ile payment tablosunda bulunan payment_id ile customer tablosundaki first_name ve last_name isimlerini birlikte görebileceğimiz INNER JOIN sorgusunu yazınız.\r\n",
                "\r\n",
                "SELECT payment_id, first_name, last_name\r\n",
                "FROM customer\r\n",
                "INNER JOIN payment\r\n",
                "ON customer.customer_id = payment.customer_id"
            ],
            "metadata": {
                "language": "sql",
                "azdata_cell_guid": "5312a27c-8322-4fb3-a427-3a8badb937af"
            },
            "outputs": [],
            "execution_count": null
        },
        {
            "cell_type": "code",
            "source": [
                "--customer tablosu ile rental tablosunda bulunan rental_id ile customer tablosundaki first_name ve last_name isimlerini birlikte görebileceğimiz INNER JOIN sorgusunu yazınız.\r\n",
                "\r\n",
                "SELECT rental_id, first_name, last_name\r\n",
                "FROM customer\r\n",
                "INNER JOIN rental\r\n",
                "ON customer.customer_id = rental.customer_id"
            ],
            "metadata": {
                "language": "sql",
                "azdata_cell_guid": "5d8d8784-e2dd-478b-be31-9e7750dee426"
            },
            "outputs": [],
            "execution_count": null
        }
    ]
}