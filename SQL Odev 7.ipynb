{
    "metadata": {
        "kernelspec": {
            "name": "SQL",
            "display_name": "SQL",
            "language": "sql"
        },
        "language_info": {
            "name": "sql",
            "version": ""
        }
    },
    "nbformat_minor": 2,
    "nbformat": 4,
    "cells": [
        {
            "cell_type": "markdown",
            "source": [
                "## \n",
                "\n",
                "- film tablosunda bulunan filmleri rating değerlerine göre gruplayınız."
            ],
            "metadata": {
                "azdata_cell_guid": "c65f3686-adf6-488c-af75-f53c3793d3ef"
            },
            "attachments": {}
        },
        {
            "cell_type": "code",
            "source": [
                "SELECT rating FROM film\r\n",
                "GROUP BY rating;"
            ],
            "metadata": {
                "azdata_cell_guid": "917e14d4-09a6-46ea-91c7-ee96607e766b",
                "language": "sql"
            },
            "outputs": [
                {
                    "output_type": "display_data",
                    "data": {
                        "text/html": "(5 row(s) affected)"
                    },
                    "metadata": {}
                },
                {
                    "output_type": "display_data",
                    "data": {
                        "text/html": "Total execution time: 00:00:00.024"
                    },
                    "metadata": {}
                },
                {
                    "output_type": "execute_result",
                    "metadata": {},
                    "execution_count": 1,
                    "data": {
                        "application/vnd.dataresource+json": {
                            "schema": {
                                "fields": [
                                    {
                                        "name": "rating"
                                    }
                                ]
                            },
                            "data": [
                                {
                                    "0": "R"
                                },
                                {
                                    "0": "NC-17"
                                },
                                {
                                    "0": "PG"
                                },
                                {
                                    "0": "G"
                                },
                                {
                                    "0": "PG-13"
                                }
                            ]
                        },
                        "text/html": [
                            "<table>",
                            "<tr><th>rating</th></tr>",
                            "<tr><td>R</td></tr>",
                            "<tr><td>NC-17</td></tr>",
                            "<tr><td>PG</td></tr>",
                            "<tr><td>G</td></tr>",
                            "<tr><td>PG-13</td></tr>",
                            "</table>"
                        ]
                    }
                }
            ],
            "execution_count": 1
        },
        {
            "cell_type": "markdown",
            "source": [
                "# \n",
                "\n",
                "- film tablosunda bulunan filmleri replacement\\_cost sütununa göre grupladığımızda film sayısı 50 den fazla olan replacement\\_cost değerini ve karşılık gelen film sayısını sıralayınız."
            ],
            "metadata": {
                "azdata_cell_guid": "119a8148-b6b0-468a-8310-3e67d18fd1fc"
            },
            "attachments": {}
        },
        {
            "cell_type": "code",
            "source": [
                "SELECT replacement_cost, COUNT(*) FROM film\r\n",
                "GROUP BY replacement_cost\r\n",
                "HAVING COUNT(replacement_cost) > 50;"
            ],
            "metadata": {
                "azdata_cell_guid": "196cbf67-0ecf-4509-8854-ff9f9f3346d8",
                "language": "sql"
            },
            "outputs": [
                {
                    "output_type": "display_data",
                    "data": {
                        "text/html": "(8 row(s) affected)"
                    },
                    "metadata": {}
                },
                {
                    "output_type": "display_data",
                    "data": {
                        "text/html": "Total execution time: 00:00:00.003"
                    },
                    "metadata": {}
                },
                {
                    "output_type": "execute_result",
                    "metadata": {},
                    "execution_count": 2,
                    "data": {
                        "application/vnd.dataresource+json": {
                            "schema": {
                                "fields": [
                                    {
                                        "name": "replacement_cost"
                                    },
                                    {
                                        "name": "count"
                                    }
                                ]
                            },
                            "data": [
                                {
                                    "0": "29.99",
                                    "1": "53"
                                },
                                {
                                    "0": "14.99",
                                    "1": "51"
                                },
                                {
                                    "0": "12.99",
                                    "1": "55"
                                },
                                {
                                    "0": "27.99",
                                    "1": "53"
                                },
                                {
                                    "0": "21.99",
                                    "1": "55"
                                },
                                {
                                    "0": "13.99",
                                    "1": "55"
                                },
                                {
                                    "0": "20.99",
                                    "1": "57"
                                },
                                {
                                    "0": "22.99",
                                    "1": "55"
                                }
                            ]
                        },
                        "text/html": [
                            "<table>",
                            "<tr><th>replacement_cost</th><th>count</th></tr>",
                            "<tr><td>29.99</td><td>53</td></tr>",
                            "<tr><td>14.99</td><td>51</td></tr>",
                            "<tr><td>12.99</td><td>55</td></tr>",
                            "<tr><td>27.99</td><td>53</td></tr>",
                            "<tr><td>21.99</td><td>55</td></tr>",
                            "<tr><td>13.99</td><td>55</td></tr>",
                            "<tr><td>20.99</td><td>57</td></tr>",
                            "<tr><td>22.99</td><td>55</td></tr>",
                            "</table>"
                        ]
                    }
                }
            ],
            "execution_count": 2
        },
        {
            "cell_type": "markdown",
            "source": [
                "# \n",
                "\n",
                "- <span style=\"box-sizing: border-box; font-weight: bolder; color: rgb(229, 227, 223); font-family: Nunito, sans-serif; font-size: 16px; letter-spacing: -0.64px; background-color: rgb(0, 0, 0);\">customer</span> <span style=\"color: rgb(229, 227, 223); font-family: Nunito, sans-serif; font-size: 16px; letter-spacing: -0.64px; background-color: rgb(0, 0, 0);\">&nbsp;tablosunda bulunan store_id değerlerine karşılık gelen müşteri sayılarını nelerdir?</span>"
            ],
            "metadata": {
                "language": "sql",
                "azdata_cell_guid": "5d651475-2ac6-43a6-96e5-8e160abeb490"
            },
            "attachments": {}
        },
        {
            "cell_type": "code",
            "source": [
                "SELECT store_id, COUNT(*) FROM customer\r\n",
                "GROUP BY store_id;"
            ],
            "metadata": {
                "azdata_cell_guid": "aaa2cc6d-c1c0-4532-b3e5-04d22eedcded",
                "language": "sql"
            },
            "outputs": [
                {
                    "output_type": "display_data",
                    "data": {
                        "text/html": "(2 row(s) affected)"
                    },
                    "metadata": {}
                },
                {
                    "output_type": "display_data",
                    "data": {
                        "text/html": "Total execution time: 00:00:00.008"
                    },
                    "metadata": {}
                },
                {
                    "output_type": "execute_result",
                    "metadata": {},
                    "execution_count": 3,
                    "data": {
                        "application/vnd.dataresource+json": {
                            "schema": {
                                "fields": [
                                    {
                                        "name": "store_id"
                                    },
                                    {
                                        "name": "count"
                                    }
                                ]
                            },
                            "data": [
                                {
                                    "0": "1",
                                    "1": "326"
                                },
                                {
                                    "0": "2",
                                    "1": "273"
                                }
                            ]
                        },
                        "text/html": [
                            "<table>",
                            "<tr><th>store_id</th><th>count</th></tr>",
                            "<tr><td>1</td><td>326</td></tr>",
                            "<tr><td>2</td><td>273</td></tr>",
                            "</table>"
                        ]
                    }
                }
            ],
            "execution_count": 3
        },
        {
            "cell_type": "markdown",
            "source": [
                "- <span style=\"box-sizing: border-box; font-weight: bolder; color: rgb(229, 227, 223); font-family: Nunito, sans-serif; font-size: 16px; letter-spacing: -0.64px; background-color: rgb(0, 0, 0);\">city</span> <span style=\"color: rgb(229, 227, 223); font-family: Nunito, sans-serif; font-size: 16px; letter-spacing: -0.64px; background-color: rgb(0, 0, 0);\">&nbsp;tablosunda bulunan şehir verilerini&nbsp;</span> <span style=\"box-sizing: border-box; font-weight: bolder; color: rgb(229, 227, 223); font-family: Nunito, sans-serif; font-size: 16px; letter-spacing: -0.64px; background-color: rgb(0, 0, 0);\">country_id</span> <span style=\"color: rgb(229, 227, 223); font-family: Nunito, sans-serif; font-size: 16px; letter-spacing: -0.64px; background-color: rgb(0, 0, 0);\">&nbsp;sütununa göre gruplandırdıktan sonra en fazla şehir sayısı barındıran country_id bilgisini ve şehir sayısını paylaşınız.</span>"
            ],
            "metadata": {
                "azdata_cell_guid": "5fc5ce00-4433-4c44-8ebf-621d80cda8dd"
            },
            "attachments": {}
        },
        {
            "cell_type": "code",
            "source": [
                "SELECT country_id, COUNT(*) FROM city\r\n",
                "GROUP BY country_id\r\n",
                "ORDER BY COUNT(*) DESC;"
            ],
            "metadata": {
                "azdata_cell_guid": "f346ea30-0b76-4db6-84be-9bed4de188f4",
                "language": "sql"
            },
            "outputs": [
                {
                    "output_type": "display_data",
                    "data": {
                        "text/html": "(109 row(s) affected)"
                    },
                    "metadata": {}
                },
                {
                    "output_type": "display_data",
                    "data": {
                        "text/html": "Total execution time: 00:00:00.004"
                    },
                    "metadata": {}
                },
                {
                    "output_type": "execute_result",
                    "metadata": {},
                    "execution_count": 4,
                    "data": {
                        "application/vnd.dataresource+json": {
                            "schema": {
                                "fields": [
                                    {
                                        "name": "country_id"
                                    },
                                    {
                                        "name": "count"
                                    }
                                ]
                            },
                            "data": [
                                {
                                    "0": "44",
                                    "1": "60"
                                },
                                {
                                    "0": "23",
                                    "1": "53"
                                },
                                {
                                    "0": "103",
                                    "1": "35"
                                },
                                {
                                    "0": "50",
                                    "1": "31"
                                },
                                {
                                    "0": "60",
                                    "1": "30"
                                },
                                {
                                    "0": "80",
                                    "1": "28"
                                },
                                {
                                    "0": "15",
                                    "1": "28"
                                },
                                {
                                    "0": "75",
                                    "1": "20"
                                },
                                {
                                    "0": "97",
                                    "1": "15"
                                },
                                {
                                    "0": "45",
                                    "1": "14"
                                },
                                {
                                    "0": "69",
                                    "1": "13"
                                },
                                {
                                    "0": "6",
                                    "1": "13"
                                },
                                {
                                    "0": "85",
                                    "1": "11"
                                },
                                {
                                    "0": "92",
                                    "1": "10"
                                },
                                {
                                    "0": "76",
                                    "1": "8"
                                },
                                {
                                    "0": "46",
                                    "1": "8"
                                },
                                {
                                    "0": "102",
                                    "1": "8"
                                },
                                {
                                    "0": "49",
                                    "1": "7"
                                },
                                {
                                    "0": "38",
                                    "1": "7"
                                },
                                {
                                    "0": "104",
                                    "1": "7"
                                },
                                {
                                    "0": "20",
                                    "1": "7"
                                },
                                {
                                    "0": "29",
                                    "1": "6"
                                },
                                {
                                    "0": "24",
                                    "1": "6"
                                },
                                {
                                    "0": "105",
                                    "1": "6"
                                },
                                {
                                    "0": "100",
                                    "1": "6"
                                },
                                {
                                    "0": "86",
                                    "1": "5"
                                },
                                {
                                    "0": "67",
                                    "1": "5"
                                },
                                {
                                    "0": "87",
                                    "1": "5"
                                },
                                {
                                    "0": "82",
                                    "1": "5"
                                },
                                {
                                    "0": "72",
                                    "1": "5"
                                },
                                {
                                    "0": "107",
                                    "1": "4"
                                },
                                {
                                    "0": "34",
                                    "1": "4"
                                },
                                {
                                    "0": "74",
                                    "1": "4"
                                },
                                {
                                    "0": "48",
                                    "1": "4"
                                },
                                {
                                    "0": "2",
                                    "1": "3"
                                },
                                {
                                    "0": "73",
                                    "1": "3"
                                },
                                {
                                    "0": "59",
                                    "1": "3"
                                },
                                {
                                    "0": "27",
                                    "1": "3"
                                },
                                {
                                    "0": "22",
                                    "1": "3"
                                },
                                {
                                    "0": "93",
                                    "1": "3"
                                },
                                {
                                    "0": "101",
                                    "1": "3"
                                },
                                {
                                    "0": "63",
                                    "1": "3"
                                },
                                {
                                    "0": "28",
                                    "1": "3"
                                },
                                {
                                    "0": "12",
                                    "1": "3"
                                },
                                {
                                    "0": "9",
                                    "1": "3"
                                },
                                {
                                    "0": "94",
                                    "1": "3"
                                },
                                {
                                    "0": "91",
                                    "1": "3"
                                },
                                {
                                    "0": "62",
                                    "1": "3"
                                },
                                {
                                    "0": "108",
                                    "1": "2"
                                },
                                {
                                    "0": "71",
                                    "1": "2"
                                },
                                {
                                    "0": "51",
                                    "1": "2"
                                },
                                {
                                    "0": "52",
                                    "1": "2"
                                },
                                {
                                    "0": "19",
                                    "1": "2"
                                },
                                {
                                    "0": "77",
                                    "1": "2"
                                },
                                {
                                    "0": "17",
                                    "1": "2"
                                },
                                {
                                    "0": "54",
                                    "1": "2"
                                },
                                {
                                    "0": "4",
                                    "1": "2"
                                },
                                {
                                    "0": "10",
                                    "1": "2"
                                },
                                {
                                    "0": "39",
                                    "1": "2"
                                },
                                {
                                    "0": "89",
                                    "1": "2"
                                },
                                {
                                    "0": "36",
                                    "1": "2"
                                },
                                {
                                    "0": "14",
                                    "1": "2"
                                },
                                {
                                    "0": "13",
                                    "1": "2"
                                },
                                {
                                    "0": "78",
                                    "1": "2"
                                },
                                {
                                    "0": "25",
                                    "1": "2"
                                },
                                {
                                    "0": "18",
                                    "1": "2"
                                },
                                {
                                    "0": "64",
                                    "1": "2"
                                },
                                {
                                    "0": "84",
                                    "1": "1"
                                },
                                {
                                    "0": "30",
                                    "1": "1"
                                },
                                {
                                    "0": "106",
                                    "1": "1"
                                },
                                {
                                    "0": "58",
                                    "1": "1"
                                },
                                {
                                    "0": "31",
                                    "1": "1"
                                },
                                {
                                    "0": "61",
                                    "1": "1"
                                },
                                {
                                    "0": "81",
                                    "1": "1"
                                },
                                {
                                    "0": "8",
                                    "1": "1"
                                },
                                {
                                    "0": "66",
                                    "1": "1"
                                },
                                {
                                    "0": "109",
                                    "1": "1"
                                },
                                {
                                    "0": "55",
                                    "1": "1"
                                },
                                {
                                    "0": "57",
                                    "1": "1"
                                },
                                {
                                    "0": "16",
                                    "1": "1"
                                },
                                {
                                    "0": "95",
                                    "1": "1"
                                },
                                {
                                    "0": "26",
                                    "1": "1"
                                },
                                {
                                    "0": "99",
                                    "1": "1"
                                },
                                {
                                    "0": "41",
                                    "1": "1"
                                },
                                {
                                    "0": "79",
                                    "1": "1"
                                },
                                {
                                    "0": "32",
                                    "1": "1"
                                },
                                {
                                    "0": "53",
                                    "1": "1"
                                },
                                {
                                    "0": "7",
                                    "1": "1"
                                },
                                {
                                    "0": "43",
                                    "1": "1"
                                },
                                {
                                    "0": "40",
                                    "1": "1"
                                },
                                {
                                    "0": "88",
                                    "1": "1"
                                },
                                {
                                    "0": "70",
                                    "1": "1"
                                },
                                {
                                    "0": "42",
                                    "1": "1"
                                },
                                {
                                    "0": "68",
                                    "1": "1"
                                },
                                {
                                    "0": "11",
                                    "1": "1"
                                },
                                {
                                    "0": "98",
                                    "1": "1"
                                },
                                {
                                    "0": "47",
                                    "1": "1"
                                },
                                {
                                    "0": "65",
                                    "1": "1"
                                },
                                {
                                    "0": "33",
                                    "1": "1"
                                },
                                {
                                    "0": "83",
                                    "1": "1"
                                },
                                {
                                    "0": "96",
                                    "1": "1"
                                },
                                {
                                    "0": "90",
                                    "1": "1"
                                },
                                {
                                    "0": "1",
                                    "1": "1"
                                },
                                {
                                    "0": "35",
                                    "1": "1"
                                },
                                {
                                    "0": "56",
                                    "1": "1"
                                },
                                {
                                    "0": "5",
                                    "1": "1"
                                },
                                {
                                    "0": "37",
                                    "1": "1"
                                },
                                {
                                    "0": "3",
                                    "1": "1"
                                },
                                {
                                    "0": "21",
                                    "1": "1"
                                }
                            ]
                        },
                        "text/html": [
                            "<table>",
                            "<tr><th>country_id</th><th>count</th></tr>",
                            "<tr><td>44</td><td>60</td></tr>",
                            "<tr><td>23</td><td>53</td></tr>",
                            "<tr><td>103</td><td>35</td></tr>",
                            "<tr><td>50</td><td>31</td></tr>",
                            "<tr><td>60</td><td>30</td></tr>",
                            "<tr><td>80</td><td>28</td></tr>",
                            "<tr><td>15</td><td>28</td></tr>",
                            "<tr><td>75</td><td>20</td></tr>",
                            "<tr><td>97</td><td>15</td></tr>",
                            "<tr><td>45</td><td>14</td></tr>",
                            "<tr><td>69</td><td>13</td></tr>",
                            "<tr><td>6</td><td>13</td></tr>",
                            "<tr><td>85</td><td>11</td></tr>",
                            "<tr><td>92</td><td>10</td></tr>",
                            "<tr><td>76</td><td>8</td></tr>",
                            "<tr><td>46</td><td>8</td></tr>",
                            "<tr><td>102</td><td>8</td></tr>",
                            "<tr><td>49</td><td>7</td></tr>",
                            "<tr><td>38</td><td>7</td></tr>",
                            "<tr><td>104</td><td>7</td></tr>",
                            "<tr><td>20</td><td>7</td></tr>",
                            "<tr><td>29</td><td>6</td></tr>",
                            "<tr><td>24</td><td>6</td></tr>",
                            "<tr><td>105</td><td>6</td></tr>",
                            "<tr><td>100</td><td>6</td></tr>",
                            "<tr><td>86</td><td>5</td></tr>",
                            "<tr><td>67</td><td>5</td></tr>",
                            "<tr><td>87</td><td>5</td></tr>",
                            "<tr><td>82</td><td>5</td></tr>",
                            "<tr><td>72</td><td>5</td></tr>",
                            "<tr><td>107</td><td>4</td></tr>",
                            "<tr><td>34</td><td>4</td></tr>",
                            "<tr><td>74</td><td>4</td></tr>",
                            "<tr><td>48</td><td>4</td></tr>",
                            "<tr><td>2</td><td>3</td></tr>",
                            "<tr><td>73</td><td>3</td></tr>",
                            "<tr><td>59</td><td>3</td></tr>",
                            "<tr><td>27</td><td>3</td></tr>",
                            "<tr><td>22</td><td>3</td></tr>",
                            "<tr><td>93</td><td>3</td></tr>",
                            "<tr><td>101</td><td>3</td></tr>",
                            "<tr><td>63</td><td>3</td></tr>",
                            "<tr><td>28</td><td>3</td></tr>",
                            "<tr><td>12</td><td>3</td></tr>",
                            "<tr><td>9</td><td>3</td></tr>",
                            "<tr><td>94</td><td>3</td></tr>",
                            "<tr><td>91</td><td>3</td></tr>",
                            "<tr><td>62</td><td>3</td></tr>",
                            "<tr><td>108</td><td>2</td></tr>",
                            "<tr><td>71</td><td>2</td></tr>",
                            "<tr><td>51</td><td>2</td></tr>",
                            "<tr><td>52</td><td>2</td></tr>",
                            "<tr><td>19</td><td>2</td></tr>",
                            "<tr><td>77</td><td>2</td></tr>",
                            "<tr><td>17</td><td>2</td></tr>",
                            "<tr><td>54</td><td>2</td></tr>",
                            "<tr><td>4</td><td>2</td></tr>",
                            "<tr><td>10</td><td>2</td></tr>",
                            "<tr><td>39</td><td>2</td></tr>",
                            "<tr><td>89</td><td>2</td></tr>",
                            "<tr><td>36</td><td>2</td></tr>",
                            "<tr><td>14</td><td>2</td></tr>",
                            "<tr><td>13</td><td>2</td></tr>",
                            "<tr><td>78</td><td>2</td></tr>",
                            "<tr><td>25</td><td>2</td></tr>",
                            "<tr><td>18</td><td>2</td></tr>",
                            "<tr><td>64</td><td>2</td></tr>",
                            "<tr><td>84</td><td>1</td></tr>",
                            "<tr><td>30</td><td>1</td></tr>",
                            "<tr><td>106</td><td>1</td></tr>",
                            "<tr><td>58</td><td>1</td></tr>",
                            "<tr><td>31</td><td>1</td></tr>",
                            "<tr><td>61</td><td>1</td></tr>",
                            "<tr><td>81</td><td>1</td></tr>",
                            "<tr><td>8</td><td>1</td></tr>",
                            "<tr><td>66</td><td>1</td></tr>",
                            "<tr><td>109</td><td>1</td></tr>",
                            "<tr><td>55</td><td>1</td></tr>",
                            "<tr><td>57</td><td>1</td></tr>",
                            "<tr><td>16</td><td>1</td></tr>",
                            "<tr><td>95</td><td>1</td></tr>",
                            "<tr><td>26</td><td>1</td></tr>",
                            "<tr><td>99</td><td>1</td></tr>",
                            "<tr><td>41</td><td>1</td></tr>",
                            "<tr><td>79</td><td>1</td></tr>",
                            "<tr><td>32</td><td>1</td></tr>",
                            "<tr><td>53</td><td>1</td></tr>",
                            "<tr><td>7</td><td>1</td></tr>",
                            "<tr><td>43</td><td>1</td></tr>",
                            "<tr><td>40</td><td>1</td></tr>",
                            "<tr><td>88</td><td>1</td></tr>",
                            "<tr><td>70</td><td>1</td></tr>",
                            "<tr><td>42</td><td>1</td></tr>",
                            "<tr><td>68</td><td>1</td></tr>",
                            "<tr><td>11</td><td>1</td></tr>",
                            "<tr><td>98</td><td>1</td></tr>",
                            "<tr><td>47</td><td>1</td></tr>",
                            "<tr><td>65</td><td>1</td></tr>",
                            "<tr><td>33</td><td>1</td></tr>",
                            "<tr><td>83</td><td>1</td></tr>",
                            "<tr><td>96</td><td>1</td></tr>",
                            "<tr><td>90</td><td>1</td></tr>",
                            "<tr><td>1</td><td>1</td></tr>",
                            "<tr><td>35</td><td>1</td></tr>",
                            "<tr><td>56</td><td>1</td></tr>",
                            "<tr><td>5</td><td>1</td></tr>",
                            "<tr><td>37</td><td>1</td></tr>",
                            "<tr><td>3</td><td>1</td></tr>",
                            "<tr><td>21</td><td>1</td></tr>",
                            "</table>"
                        ]
                    }
                }
            ],
            "execution_count": 4
        }
    ]
}