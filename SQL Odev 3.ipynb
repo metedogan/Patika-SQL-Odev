{
    "metadata": {
        "kernelspec": {
            "name": "SQL",
            "display_name": "SQL",
            "language": "sql"
        },
        "language_info": {
            "name": "sql",
            "version": ""
        }
    },
    "nbformat_minor": 2,
    "nbformat": 4,
    "cells": [
        {
            "cell_type": "markdown",
            "source": [
                "- country tablosunda bulunan country sütunundaki ülke isimlerinden 'A' karakteri ile başlayıp 'a' karakteri ile sonlananları sıralayınız."
            ],
            "metadata": {
                "azdata_cell_guid": "5dbe964c-11a3-4bea-8972-5e093a472601"
            },
            "attachments": {}
        },
        {
            "cell_type": "code",
            "source": [
                "SELECT country FROM country WHERE country LIKE 'A%a';"
            ],
            "metadata": {
                "azdata_cell_guid": "25a4ea83-c151-472c-92e7-1d3c0a51b827",
                "language": "sql"
            },
            "outputs": [
                {
                    "output_type": "display_data",
                    "data": {
                        "text/html": "(8 row(s) affected)"
                    },
                    "metadata": {}
                },
                {
                    "output_type": "display_data",
                    "data": {
                        "text/html": "Total execution time: 00:00:00"
                    },
                    "metadata": {}
                },
                {
                    "output_type": "execute_result",
                    "metadata": {},
                    "execution_count": 1,
                    "data": {
                        "application/vnd.dataresource+json": {
                            "schema": {
                                "fields": [
                                    {
                                        "name": "country"
                                    }
                                ]
                            },
                            "data": [
                                {
                                    "0": "Algeria"
                                },
                                {
                                    "0": "American Samoa"
                                },
                                {
                                    "0": "Angola"
                                },
                                {
                                    "0": "Anguilla"
                                },
                                {
                                    "0": "Argentina"
                                },
                                {
                                    "0": "Armenia"
                                },
                                {
                                    "0": "Australia"
                                },
                                {
                                    "0": "Austria"
                                }
                            ]
                        },
                        "text/html": [
                            "<table>",
                            "<tr><th>country</th></tr>",
                            "<tr><td>Algeria</td></tr>",
                            "<tr><td>American Samoa</td></tr>",
                            "<tr><td>Angola</td></tr>",
                            "<tr><td>Anguilla</td></tr>",
                            "<tr><td>Argentina</td></tr>",
                            "<tr><td>Armenia</td></tr>",
                            "<tr><td>Australia</td></tr>",
                            "<tr><td>Austria</td></tr>",
                            "</table>"
                        ]
                    }
                }
            ],
            "execution_count": 1
        },
        {
            "cell_type": "markdown",
            "source": [
                "- country tablosunda bulunan country sütunundaki ülke isimlerinden en az 6 karakterden oluşan ve sonu 'n' karakteri ile sonlananları sıralayınız."
            ],
            "metadata": {
                "language": "sql",
                "azdata_cell_guid": "6861aa99-980f-47aa-891e-a0dbf4ca9e16"
            },
            "attachments": {}
        },
        {
            "cell_type": "code",
            "source": [
                "SELECT country\r\n",
                "FROM country \r\n",
                "WHERE country LIKE '%____n';"
            ],
            "metadata": {
                "language": "sql",
                "azdata_cell_guid": "00760db6-17bf-4132-a025-5442f01ee246"
            },
            "outputs": [
                {
                    "output_type": "display_data",
                    "data": {
                        "text/html": "(16 row(s) affected)"
                    },
                    "metadata": {}
                },
                {
                    "output_type": "display_data",
                    "data": {
                        "text/html": "Total execution time: 00:00:00.003"
                    },
                    "metadata": {}
                },
                {
                    "output_type": "execute_result",
                    "metadata": {},
                    "execution_count": 3,
                    "data": {
                        "application/vnd.dataresource+json": {
                            "schema": {
                                "fields": [
                                    {
                                        "name": "country"
                                    }
                                ]
                            },
                            "data": [
                                {
                                    "0": "Afghanistan"
                                },
                                {
                                    "0": "Azerbaijan"
                                },
                                {
                                    "0": "Bahrain"
                                },
                                {
                                    "0": "Cameroon"
                                },
                                {
                                    "0": "Japan"
                                },
                                {
                                    "0": "Kazakstan"
                                },
                                {
                                    "0": "Liechtenstein"
                                },
                                {
                                    "0": "Pakistan"
                                },
                                {
                                    "0": "Runion"
                                },
                                {
                                    "0": "Russian Federation"
                                },
                                {
                                    "0": "Spain"
                                },
                                {
                                    "0": "Sudan"
                                },
                                {
                                    "0": "Sweden"
                                },
                                {
                                    "0": "Taiwan"
                                },
                                {
                                    "0": "Turkmenistan"
                                },
                                {
                                    "0": "Yemen"
                                }
                            ]
                        },
                        "text/html": [
                            "<table>",
                            "<tr><th>country</th></tr>",
                            "<tr><td>Afghanistan</td></tr>",
                            "<tr><td>Azerbaijan</td></tr>",
                            "<tr><td>Bahrain</td></tr>",
                            "<tr><td>Cameroon</td></tr>",
                            "<tr><td>Japan</td></tr>",
                            "<tr><td>Kazakstan</td></tr>",
                            "<tr><td>Liechtenstein</td></tr>",
                            "<tr><td>Pakistan</td></tr>",
                            "<tr><td>Runion</td></tr>",
                            "<tr><td>Russian Federation</td></tr>",
                            "<tr><td>Spain</td></tr>",
                            "<tr><td>Sudan</td></tr>",
                            "<tr><td>Sweden</td></tr>",
                            "<tr><td>Taiwan</td></tr>",
                            "<tr><td>Turkmenistan</td></tr>",
                            "<tr><td>Yemen</td></tr>",
                            "</table>"
                        ]
                    }
                }
            ],
            "execution_count": 3
        },
        {
            "cell_type": "markdown",
            "source": [
                "- film tablosunda bulunan title sütunundaki film isimlerinden en az 4 adet büyük ya da küçük harf farketmesizin 'T' karakteri içeren film isimlerini sıralayınız."
            ],
            "metadata": {
                "language": "sql",
                "azdata_cell_guid": "1cd3734d-043a-4165-8199-52b7edba22da"
            },
            "attachments": {}
        },
        {
            "cell_type": "code",
            "source": [
                "SELECT title \r\n",
                "FROM film \r\n",
                "WHERE title ~~* '%t%t%t%t%';"
            ],
            "metadata": {
                "language": "sql",
                "azdata_cell_guid": "46b6b05c-6581-4602-9022-3d6e31e5be58"
            },
            "outputs": [
                {
                    "output_type": "display_data",
                    "data": {
                        "text/html": "(9 row(s) affected)"
                    },
                    "metadata": {}
                },
                {
                    "output_type": "display_data",
                    "data": {
                        "text/html": "Total execution time: 00:00:00.008"
                    },
                    "metadata": {}
                },
                {
                    "output_type": "execute_result",
                    "metadata": {},
                    "execution_count": 4,
                    "data": {
                        "application/vnd.dataresource+json": {
                            "schema": {
                                "fields": [
                                    {
                                        "name": "title"
                                    }
                                ]
                            },
                            "data": [
                                {
                                    "0": "Antitrust Tomatoes"
                                },
                                {
                                    "0": "Attraction Newton"
                                },
                                {
                                    "0": "Desperate Trainspotting"
                                },
                                {
                                    "0": "Entrapment Satisfaction"
                                },
                                {
                                    "0": "Haunted Antitrust"
                                },
                                {
                                    "0": "Potter Connecticut"
                                },
                                {
                                    "0": "Streetcar Intentions"
                                },
                                {
                                    "0": "Temple Attraction"
                                },
                                {
                                    "0": "Trainspotting Strangers"
                                }
                            ]
                        },
                        "text/html": [
                            "<table>",
                            "<tr><th>title</th></tr>",
                            "<tr><td>Antitrust Tomatoes</td></tr>",
                            "<tr><td>Attraction Newton</td></tr>",
                            "<tr><td>Desperate Trainspotting</td></tr>",
                            "<tr><td>Entrapment Satisfaction</td></tr>",
                            "<tr><td>Haunted Antitrust</td></tr>",
                            "<tr><td>Potter Connecticut</td></tr>",
                            "<tr><td>Streetcar Intentions</td></tr>",
                            "<tr><td>Temple Attraction</td></tr>",
                            "<tr><td>Trainspotting Strangers</td></tr>",
                            "</table>"
                        ]
                    }
                }
            ],
            "execution_count": 4
        },
        {
            "cell_type": "markdown",
            "source": [
                "- film tablosunda bulunan tüm sütunlardaki verilerden title 'C' karakteri ile başlayan ve uzunluğu (length) 90 dan büyük olan ve rental\\_rate 2.99 olan verileri sıralayınız."
            ],
            "metadata": {
                "language": "sql",
                "azdata_cell_guid": "c687bc51-1f46-4a86-bb80-92210ce38afa"
            },
            "attachments": {}
        },
        {
            "cell_type": "code",
            "source": [
                "SELECT * \r\n",
                "FROM film \r\n",
                "WHERE title LIKE 'C%' AND length > 90 AND rental_rate = 2.99;"
            ],
            "metadata": {
                "language": "sql",
                "azdata_cell_guid": "ce8cc677-affe-4e41-9253-77f97b481f7f"
            },
            "outputs": [
                {
                    "output_type": "display_data",
                    "data": {
                        "text/html": "(20 row(s) affected)"
                    },
                    "metadata": {}
                },
                {
                    "output_type": "display_data",
                    "data": {
                        "text/html": "Total execution time: 00:00:00.009"
                    },
                    "metadata": {}
                },
                {
                    "output_type": "execute_result",
                    "metadata": {},
                    "execution_count": 5,
                    "data": {
                        "application/vnd.dataresource+json": {
                            "schema": {
                                "fields": [
                                    {
                                        "name": "film_id"
                                    },
                                    {
                                        "name": "title"
                                    },
                                    {
                                        "name": "description"
                                    },
                                    {
                                        "name": "release_year"
                                    },
                                    {
                                        "name": "language_id"
                                    },
                                    {
                                        "name": "rental_duration"
                                    },
                                    {
                                        "name": "rental_rate"
                                    },
                                    {
                                        "name": "length"
                                    },
                                    {
                                        "name": "replacement_cost"
                                    },
                                    {
                                        "name": "rating"
                                    },
                                    {
                                        "name": "last_update"
                                    },
                                    {
                                        "name": "special_features"
                                    },
                                    {
                                        "name": "fulltext"
                                    }
                                ]
                            },
                            "data": [
                                {
                                    "0": "115",
                                    "1": "Campus Remember",
                                    "2": "A Astounding Drama of a Crocodile And a Mad Cow who must Build a Robot in A Jet Boat",
                                    "3": "2006",
                                    "4": "1",
                                    "5": "5",
                                    "6": "2.99",
                                    "7": "167",
                                    "8": "27.99",
                                    "9": "R",
                                    "10": "2013-05-26T14:50:58.951000",
                                    "11": "[\"Behind the Scenes\"]",
                                    "12": "'astound':4 'boat':21 'build':15 'campus':1 'cow':12 'crocodil':8 'drama':5 'jet':20 'mad':11 'must':14 'rememb':2 'robot':17"
                                },
                                {
                                    "0": "121",
                                    "1": "Carol Texas",
                                    "2": "A Astounding Character Study of a Composer And a Student who must Overcome a Composer in A Monastery",
                                    "3": "2006",
                                    "4": "1",
                                    "5": "4",
                                    "6": "2.99",
                                    "7": "151",
                                    "8": "15.99",
                                    "9": "PG",
                                    "10": "2013-05-26T14:50:58.951000",
                                    "11": "[\"Trailers\", \"Behind the Scenes\"]",
                                    "12": "'astound':4 'carol':1 'charact':5 'compos':9,17 'monasteri':20 'must':14 'overcom':15 'student':12 'studi':6 'texa':2"
                                },
                                {
                                    "0": "129",
                                    "1": "Cause Date",
                                    "2": "A Taut Tale of a Explorer And a Pastry Chef who must Conquer a Hunter in A MySQL Convention",
                                    "3": "2006",
                                    "4": "1",
                                    "5": "3",
                                    "6": "2.99",
                                    "7": "179",
                                    "8": "16.99",
                                    "9": "R",
                                    "10": "2013-05-26T14:50:58.951000",
                                    "11": "[\"Commentaries\", \"Deleted Scenes\", \"Behind the Scenes\"]",
                                    "12": "'caus':1 'chef':12 'conquer':15 'convent':21 'date':2 'explor':8 'hunter':17 'must':14 'mysql':20 'pastri':11 'tale':5 'taut':4"
                                },
                                {
                                    "0": "136",
                                    "1": "Chaplin License",
                                    "2": "A Boring Drama of a Dog And a Forensic Psychologist who must Outrace a Explorer in Ancient India",
                                    "3": "2006",
                                    "4": "1",
                                    "5": "7",
                                    "6": "2.99",
                                    "7": "146",
                                    "8": "26.99",
                                    "9": "NC-17",
                                    "10": "2013-05-26T14:50:58.951000",
                                    "11": "[\"Behind the Scenes\"]",
                                    "12": "'ancient':19 'bore':4 'chaplin':1 'dog':8 'drama':5 'explor':17 'forens':11 'india':20 'licens':2 'must':14 'outrac':15 'psychologist':12"
                                },
                                {
                                    "0": "146",
                                    "1": "Chitty Lock",
                                    "2": "A Boring Epistle of a Boat And a Database Administrator who must Kill a Sumo Wrestler in The First Manned Space Station",
                                    "3": "2006",
                                    "4": "1",
                                    "5": "6",
                                    "6": "2.99",
                                    "7": "107",
                                    "8": "24.99",
                                    "9": "G",
                                    "10": "2013-05-26T14:50:58.951000",
                                    "11": "[\"Commentaries\"]",
                                    "12": "'administr':12 'boat':8 'bore':4 'chitti':1 'databas':11 'epistl':5 'first':21 'kill':15 'lock':2 'man':22 'must':14 'space':23 'station':24 'sumo':17 'wrestler':18"
                                },
                                {
                                    "0": "148",
                                    "1": "Chocolate Duck",
                                    "2": "A Unbelieveable Story of a Mad Scientist And a Technical Writer who must Discover a Composer in Ancient China",
                                    "3": "2006",
                                    "4": "1",
                                    "5": "3",
                                    "6": "2.99",
                                    "7": "132",
                                    "8": "13.99",
                                    "9": "R",
                                    "10": "2013-05-26T14:50:58.951000",
                                    "11": "[\"Trailers\", \"Commentaries\", \"Behind the Scenes\"]",
                                    "12": "'ancient':20 'china':21 'chocol':1 'compos':18 'discov':16 'duck':2 'mad':8 'must':15 'scientist':9 'stori':5 'technic':12 'unbeliev':4 'writer':13"
                                },
                                {
                                    "0": "150",
                                    "1": "Cider Desire",
                                    "2": "A Stunning Character Study of a Composer And a Mad Cow who must Succumb a Cat in Soviet Georgia",
                                    "3": "2006",
                                    "4": "1",
                                    "5": "7",
                                    "6": "2.99",
                                    "7": "101",
                                    "8": "9.99",
                                    "9": "PG",
                                    "10": "2013-05-26T14:50:58.951000",
                                    "11": "[\"Behind the Scenes\"]",
                                    "12": "'cat':18 'charact':5 'cider':1 'compos':9 'cow':13 'desir':2 'georgia':21 'mad':12 'must':15 'soviet':20 'studi':6 'stun':4 'succumb':16"
                                },
                                {
                                    "0": "158",
                                    "1": "Clones Pinocchio",
                                    "2": "A Amazing Drama of a Car And a Robot who must Pursue a Dentist in New Orleans",
                                    "3": "2006",
                                    "4": "1",
                                    "5": "6",
                                    "6": "2.99",
                                    "7": "124",
                                    "8": "16.99",
                                    "9": "R",
                                    "10": "2013-05-26T14:50:58.951000",
                                    "11": "[\"Behind the Scenes\"]",
                                    "12": "'amaz':4 'car':8 'clone':1 'dentist':16 'drama':5 'must':13 'new':18 'orlean':19 'pinocchio':2 'pursu':14 'robot':11"
                                },
                                {
                                    "0": "162",
                                    "1": "Clueless Bucket",
                                    "2": "A Taut Tale of a Car And a Pioneer who must Conquer a Sumo Wrestler in An Abandoned Fun House",
                                    "3": "2006",
                                    "4": "1",
                                    "5": "4",
                                    "6": "2.99",
                                    "7": "95",
                                    "8": "13.99",
                                    "9": "R",
                                    "10": "2013-05-26T14:50:58.951000",
                                    "11": "[\"Trailers\", \"Deleted Scenes\", \"Behind the Scenes\"]",
                                    "12": "'abandon':20 'bucket':2 'car':8 'clueless':1 'conquer':14 'fun':21 'hous':22 'must':13 'pioneer':11 'sumo':16 'tale':5 'taut':4 'wrestler':17"
                                },
                                {
                                    "0": "184",
                                    "1": "Core Suit",
                                    "2": "A Unbelieveable Tale of a Car And a Explorer who must Confront a Boat in A Manhattan Penthouse",
                                    "3": "2006",
                                    "4": "1",
                                    "5": "3",
                                    "6": "2.99",
                                    "7": "92",
                                    "8": "24.99",
                                    "9": "PG-13",
                                    "10": "2013-05-26T14:50:58.951000",
                                    "11": "[\"Deleted Scenes\"]",
                                    "12": "'boat':16 'car':8 'confront':14 'core':1 'explor':11 'manhattan':19 'must':13 'penthous':20 'suit':2 'tale':5 'unbeliev':4"
                                },
                                {
                                    "0": "166",
                                    "1": "Color Philadelphia",
                                    "2": "A Thoughtful Panorama of a Car And a Crocodile who must Sink a Monkey in The Sahara Desert",
                                    "3": "2006",
                                    "4": "1",
                                    "5": "6",
                                    "6": "2.99",
                                    "7": "149",
                                    "8": "19.99",
                                    "9": "G",
                                    "10": "2013-05-26T14:50:58.951000",
                                    "11": "[\"Commentaries\", \"Behind the Scenes\"]",
                                    "12": "'car':8 'color':1 'crocodil':11 'desert':20 'monkey':16 'must':13 'panorama':5 'philadelphia':2 'sahara':19 'sink':14 'thought':4"
                                },
                                {
                                    "0": "175",
                                    "1": "Confused Candles",
                                    "2": "A Stunning Epistle of a Cat And a Forensic Psychologist who must Confront a Pioneer in A Baloon",
                                    "3": "2006",
                                    "4": "1",
                                    "5": "3",
                                    "6": "2.99",
                                    "7": "122",
                                    "8": "27.99",
                                    "9": "PG-13",
                                    "10": "2013-05-26T14:50:58.951000",
                                    "11": "[\"Trailers\", \"Commentaries\", \"Deleted Scenes\", \"Behind the Scenes\"]",
                                    "12": "'baloon':20 'candl':2 'cat':8 'confront':15 'confus':1 'epistl':5 'forens':11 'must':14 'pioneer':17 'psychologist':12 'stun':4"
                                },
                                {
                                    "0": "180",
                                    "1": "Conspiracy Spirit",
                                    "2": "A Awe-Inspiring Story of a Student And a Frisbee who must Conquer a Crocodile in An Abandoned Mine Shaft",
                                    "3": "2006",
                                    "4": "1",
                                    "5": "4",
                                    "6": "2.99",
                                    "7": "184",
                                    "8": "27.99",
                                    "9": "PG-13",
                                    "10": "2013-05-26T14:50:58.951000",
                                    "11": "[\"Trailers\", \"Commentaries\"]",
                                    "12": "'abandon':21 'awe':5 'awe-inspir':4 'conquer':16 'conspiraci':1 'crocodil':18 'frisbe':13 'inspir':6 'mine':22 'must':15 'shaft':23 'spirit':2 'stori':7 'student':10"
                                },
                                {
                                    "0": "181",
                                    "1": "Contact Anonymous",
                                    "2": "A Insightful Display of a A Shark And a Monkey who must Face a Database Administrator in Ancient India",
                                    "3": "2006",
                                    "4": "1",
                                    "5": "7",
                                    "6": "2.99",
                                    "7": "166",
                                    "8": "10.99",
                                    "9": "PG-13",
                                    "10": "2013-05-26T14:50:58.951000",
                                    "11": "[\"Commentaries\"]",
                                    "12": "'administr':18 'ancient':20 'anonym':2 'contact':1 'databas':17 'display':5 'face':15 'india':21 'insight':4 'monkey':12 'must':14 'shark':9"
                                },
                                {
                                    "0": "185",
                                    "1": "Cowboy Doom",
                                    "2": "A Astounding Drama of a Boy And a Lumberjack who must Fight a Butler in A Baloon",
                                    "3": "2006",
                                    "4": "1",
                                    "5": "3",
                                    "6": "2.99",
                                    "7": "146",
                                    "8": "10.99",
                                    "9": "PG",
                                    "10": "2013-05-26T14:50:58.951000",
                                    "11": "[\"Commentaries\", \"Deleted Scenes\", \"Behind the Scenes\"]",
                                    "12": "'astound':4 'baloon':19 'boy':8 'butler':16 'cowboy':1 'doom':2 'drama':5 'fight':14 'lumberjack':11 'must':13"
                                },
                                {
                                    "0": "188",
                                    "1": "Crazy Home",
                                    "2": "A Fanciful Panorama of a Boy And a Woman who must Vanquish a Database Administrator in The Outback",
                                    "3": "2006",
                                    "4": "1",
                                    "5": "7",
                                    "6": "2.99",
                                    "7": "136",
                                    "8": "24.99",
                                    "9": "PG",
                                    "10": "2013-05-26T14:50:58.951000",
                                    "11": "[\"Commentaries\", \"Deleted Scenes\"]",
                                    "12": "'administr':17 'boy':8 'crazi':1 'databas':16 'fanci':4 'home':2 'must':13 'outback':20 'panorama':5 'vanquish':14 'woman':11"
                                },
                                {
                                    "0": "193",
                                    "1": "Crossroads Casualties",
                                    "2": "A Intrepid Documentary of a Sumo Wrestler And a Astronaut who must Battle a Composer in The Outback",
                                    "3": "2006",
                                    "4": "1",
                                    "5": "5",
                                    "6": "2.99",
                                    "7": "153",
                                    "8": "20.99",
                                    "9": "G",
                                    "10": "2013-05-26T14:50:58.951000",
                                    "11": "[\"Trailers\", \"Commentaries\", \"Behind the Scenes\"]",
                                    "12": "'astronaut':12 'battl':15 'casualti':2 'compos':17 'crossroad':1 'documentari':5 'intrepid':4 'must':14 'outback':20 'sumo':8 'wrestler':9"
                                },
                                {
                                    "0": "197",
                                    "1": "Crusade Honey",
                                    "2": "A Fast-Paced Reflection of a Explorer And a Butler who must Battle a Madman in An Abandoned Amusement Park",
                                    "3": "2006",
                                    "4": "1",
                                    "5": "4",
                                    "6": "2.99",
                                    "7": "112",
                                    "8": "27.99",
                                    "9": "R",
                                    "10": "2013-05-26T14:50:58.951000",
                                    "11": "[\"Commentaries\"]",
                                    "12": "'abandon':21 'amus':22 'battl':16 'butler':13 'crusad':1 'explor':10 'fast':5 'fast-pac':4 'honey':2 'madman':18 'must':15 'pace':6 'park':23 'reflect':7"
                                },
                                {
                                    "0": "198",
                                    "1": "Crystal Breaking",
                                    "2": "A Fast-Paced Character Study of a Feminist And a Explorer who must Face a Pastry Chef in Ancient Japan",
                                    "3": "2006",
                                    "4": "1",
                                    "5": "6",
                                    "6": "2.99",
                                    "7": "184",
                                    "8": "22.99",
                                    "9": "NC-17",
                                    "10": "2013-05-26T14:50:58.951000",
                                    "11": "[\"Trailers\", \"Commentaries\"]",
                                    "12": "'ancient':22 'break':2 'charact':7 'chef':20 'crystal':1 'explor':14 'face':17 'fast':5 'fast-pac':4 'feminist':11 'japan':23 'must':16 'pace':6 'pastri':19 'studi':8"
                                },
                                {
                                    "0": "201",
                                    "1": "Cyclone Family",
                                    "2": "A Lacklusture Drama of a Student And a Monkey who must Sink a Womanizer in A MySQL Convention",
                                    "3": "2006",
                                    "4": "1",
                                    "5": "7",
                                    "6": "2.99",
                                    "7": "176",
                                    "8": "18.99",
                                    "9": "PG",
                                    "10": "2013-05-26T14:50:58.951000",
                                    "11": "[\"Trailers\", \"Deleted Scenes\"]",
                                    "12": "'convent':20 'cyclon':1 'drama':5 'famili':2 'lacklustur':4 'monkey':11 'must':13 'mysql':19 'sink':14 'student':8 'woman':16"
                                }
                            ]
                        },
                        "text/html": [
                            "<table>",
                            "<tr><th>film_id</th><th>title</th><th>description</th><th>release_year</th><th>language_id</th><th>rental_duration</th><th>rental_rate</th><th>length</th><th>replacement_cost</th><th>rating</th><th>last_update</th><th>special_features</th><th>fulltext</th></tr>",
                            "<tr><td>115</td><td>Campus Remember</td><td>A Astounding Drama of a Crocodile And a Mad Cow who must Build a Robot in A Jet Boat</td><td>2006</td><td>1</td><td>5</td><td>2.99</td><td>167</td><td>27.99</td><td>R</td><td>2013-05-26T14:50:58.951000</td><td>[&quot;Behind the Scenes&quot;]</td><td>'astound':4 'boat':21 'build':15 'campus':1 'cow':12 'crocodil':8 'drama':5 'jet':20 'mad':11 'must':14 'rememb':2 'robot':17</td></tr>",
                            "<tr><td>121</td><td>Carol Texas</td><td>A Astounding Character Study of a Composer And a Student who must Overcome a Composer in A Monastery</td><td>2006</td><td>1</td><td>4</td><td>2.99</td><td>151</td><td>15.99</td><td>PG</td><td>2013-05-26T14:50:58.951000</td><td>[&quot;Trailers&quot;, &quot;Behind the Scenes&quot;]</td><td>'astound':4 'carol':1 'charact':5 'compos':9,17 'monasteri':20 'must':14 'overcom':15 'student':12 'studi':6 'texa':2</td></tr>",
                            "<tr><td>129</td><td>Cause Date</td><td>A Taut Tale of a Explorer And a Pastry Chef who must Conquer a Hunter in A MySQL Convention</td><td>2006</td><td>1</td><td>3</td><td>2.99</td><td>179</td><td>16.99</td><td>R</td><td>2013-05-26T14:50:58.951000</td><td>[&quot;Commentaries&quot;, &quot;Deleted Scenes&quot;, &quot;Behind the Scenes&quot;]</td><td>'caus':1 'chef':12 'conquer':15 'convent':21 'date':2 'explor':8 'hunter':17 'must':14 'mysql':20 'pastri':11 'tale':5 'taut':4</td></tr>",
                            "<tr><td>136</td><td>Chaplin License</td><td>A Boring Drama of a Dog And a Forensic Psychologist who must Outrace a Explorer in Ancient India</td><td>2006</td><td>1</td><td>7</td><td>2.99</td><td>146</td><td>26.99</td><td>NC-17</td><td>2013-05-26T14:50:58.951000</td><td>[&quot;Behind the Scenes&quot;]</td><td>'ancient':19 'bore':4 'chaplin':1 'dog':8 'drama':5 'explor':17 'forens':11 'india':20 'licens':2 'must':14 'outrac':15 'psychologist':12</td></tr>",
                            "<tr><td>146</td><td>Chitty Lock</td><td>A Boring Epistle of a Boat And a Database Administrator who must Kill a Sumo Wrestler in The First Manned Space Station</td><td>2006</td><td>1</td><td>6</td><td>2.99</td><td>107</td><td>24.99</td><td>G</td><td>2013-05-26T14:50:58.951000</td><td>[&quot;Commentaries&quot;]</td><td>'administr':12 'boat':8 'bore':4 'chitti':1 'databas':11 'epistl':5 'first':21 'kill':15 'lock':2 'man':22 'must':14 'space':23 'station':24 'sumo':17 'wrestler':18</td></tr>",
                            "<tr><td>148</td><td>Chocolate Duck</td><td>A Unbelieveable Story of a Mad Scientist And a Technical Writer who must Discover a Composer in Ancient China</td><td>2006</td><td>1</td><td>3</td><td>2.99</td><td>132</td><td>13.99</td><td>R</td><td>2013-05-26T14:50:58.951000</td><td>[&quot;Trailers&quot;, &quot;Commentaries&quot;, &quot;Behind the Scenes&quot;]</td><td>'ancient':20 'china':21 'chocol':1 'compos':18 'discov':16 'duck':2 'mad':8 'must':15 'scientist':9 'stori':5 'technic':12 'unbeliev':4 'writer':13</td></tr>",
                            "<tr><td>150</td><td>Cider Desire</td><td>A Stunning Character Study of a Composer And a Mad Cow who must Succumb a Cat in Soviet Georgia</td><td>2006</td><td>1</td><td>7</td><td>2.99</td><td>101</td><td>9.99</td><td>PG</td><td>2013-05-26T14:50:58.951000</td><td>[&quot;Behind the Scenes&quot;]</td><td>'cat':18 'charact':5 'cider':1 'compos':9 'cow':13 'desir':2 'georgia':21 'mad':12 'must':15 'soviet':20 'studi':6 'stun':4 'succumb':16</td></tr>",
                            "<tr><td>158</td><td>Clones Pinocchio</td><td>A Amazing Drama of a Car And a Robot who must Pursue a Dentist in New Orleans</td><td>2006</td><td>1</td><td>6</td><td>2.99</td><td>124</td><td>16.99</td><td>R</td><td>2013-05-26T14:50:58.951000</td><td>[&quot;Behind the Scenes&quot;]</td><td>'amaz':4 'car':8 'clone':1 'dentist':16 'drama':5 'must':13 'new':18 'orlean':19 'pinocchio':2 'pursu':14 'robot':11</td></tr>",
                            "<tr><td>162</td><td>Clueless Bucket</td><td>A Taut Tale of a Car And a Pioneer who must Conquer a Sumo Wrestler in An Abandoned Fun House</td><td>2006</td><td>1</td><td>4</td><td>2.99</td><td>95</td><td>13.99</td><td>R</td><td>2013-05-26T14:50:58.951000</td><td>[&quot;Trailers&quot;, &quot;Deleted Scenes&quot;, &quot;Behind the Scenes&quot;]</td><td>'abandon':20 'bucket':2 'car':8 'clueless':1 'conquer':14 'fun':21 'hous':22 'must':13 'pioneer':11 'sumo':16 'tale':5 'taut':4 'wrestler':17</td></tr>",
                            "<tr><td>184</td><td>Core Suit</td><td>A Unbelieveable Tale of a Car And a Explorer who must Confront a Boat in A Manhattan Penthouse</td><td>2006</td><td>1</td><td>3</td><td>2.99</td><td>92</td><td>24.99</td><td>PG-13</td><td>2013-05-26T14:50:58.951000</td><td>[&quot;Deleted Scenes&quot;]</td><td>'boat':16 'car':8 'confront':14 'core':1 'explor':11 'manhattan':19 'must':13 'penthous':20 'suit':2 'tale':5 'unbeliev':4</td></tr>",
                            "<tr><td>166</td><td>Color Philadelphia</td><td>A Thoughtful Panorama of a Car And a Crocodile who must Sink a Monkey in The Sahara Desert</td><td>2006</td><td>1</td><td>6</td><td>2.99</td><td>149</td><td>19.99</td><td>G</td><td>2013-05-26T14:50:58.951000</td><td>[&quot;Commentaries&quot;, &quot;Behind the Scenes&quot;]</td><td>'car':8 'color':1 'crocodil':11 'desert':20 'monkey':16 'must':13 'panorama':5 'philadelphia':2 'sahara':19 'sink':14 'thought':4</td></tr>",
                            "<tr><td>175</td><td>Confused Candles</td><td>A Stunning Epistle of a Cat And a Forensic Psychologist who must Confront a Pioneer in A Baloon</td><td>2006</td><td>1</td><td>3</td><td>2.99</td><td>122</td><td>27.99</td><td>PG-13</td><td>2013-05-26T14:50:58.951000</td><td>[&quot;Trailers&quot;, &quot;Commentaries&quot;, &quot;Deleted Scenes&quot;, &quot;Behind the Scenes&quot;]</td><td>'baloon':20 'candl':2 'cat':8 'confront':15 'confus':1 'epistl':5 'forens':11 'must':14 'pioneer':17 'psychologist':12 'stun':4</td></tr>",
                            "<tr><td>180</td><td>Conspiracy Spirit</td><td>A Awe-Inspiring Story of a Student And a Frisbee who must Conquer a Crocodile in An Abandoned Mine Shaft</td><td>2006</td><td>1</td><td>4</td><td>2.99</td><td>184</td><td>27.99</td><td>PG-13</td><td>2013-05-26T14:50:58.951000</td><td>[&quot;Trailers&quot;, &quot;Commentaries&quot;]</td><td>'abandon':21 'awe':5 'awe-inspir':4 'conquer':16 'conspiraci':1 'crocodil':18 'frisbe':13 'inspir':6 'mine':22 'must':15 'shaft':23 'spirit':2 'stori':7 'student':10</td></tr>",
                            "<tr><td>181</td><td>Contact Anonymous</td><td>A Insightful Display of a A Shark And a Monkey who must Face a Database Administrator in Ancient India</td><td>2006</td><td>1</td><td>7</td><td>2.99</td><td>166</td><td>10.99</td><td>PG-13</td><td>2013-05-26T14:50:58.951000</td><td>[&quot;Commentaries&quot;]</td><td>'administr':18 'ancient':20 'anonym':2 'contact':1 'databas':17 'display':5 'face':15 'india':21 'insight':4 'monkey':12 'must':14 'shark':9</td></tr>",
                            "<tr><td>185</td><td>Cowboy Doom</td><td>A Astounding Drama of a Boy And a Lumberjack who must Fight a Butler in A Baloon</td><td>2006</td><td>1</td><td>3</td><td>2.99</td><td>146</td><td>10.99</td><td>PG</td><td>2013-05-26T14:50:58.951000</td><td>[&quot;Commentaries&quot;, &quot;Deleted Scenes&quot;, &quot;Behind the Scenes&quot;]</td><td>'astound':4 'baloon':19 'boy':8 'butler':16 'cowboy':1 'doom':2 'drama':5 'fight':14 'lumberjack':11 'must':13</td></tr>",
                            "<tr><td>188</td><td>Crazy Home</td><td>A Fanciful Panorama of a Boy And a Woman who must Vanquish a Database Administrator in The Outback</td><td>2006</td><td>1</td><td>7</td><td>2.99</td><td>136</td><td>24.99</td><td>PG</td><td>2013-05-26T14:50:58.951000</td><td>[&quot;Commentaries&quot;, &quot;Deleted Scenes&quot;]</td><td>'administr':17 'boy':8 'crazi':1 'databas':16 'fanci':4 'home':2 'must':13 'outback':20 'panorama':5 'vanquish':14 'woman':11</td></tr>",
                            "<tr><td>193</td><td>Crossroads Casualties</td><td>A Intrepid Documentary of a Sumo Wrestler And a Astronaut who must Battle a Composer in The Outback</td><td>2006</td><td>1</td><td>5</td><td>2.99</td><td>153</td><td>20.99</td><td>G</td><td>2013-05-26T14:50:58.951000</td><td>[&quot;Trailers&quot;, &quot;Commentaries&quot;, &quot;Behind the Scenes&quot;]</td><td>'astronaut':12 'battl':15 'casualti':2 'compos':17 'crossroad':1 'documentari':5 'intrepid':4 'must':14 'outback':20 'sumo':8 'wrestler':9</td></tr>",
                            "<tr><td>197</td><td>Crusade Honey</td><td>A Fast-Paced Reflection of a Explorer And a Butler who must Battle a Madman in An Abandoned Amusement Park</td><td>2006</td><td>1</td><td>4</td><td>2.99</td><td>112</td><td>27.99</td><td>R</td><td>2013-05-26T14:50:58.951000</td><td>[&quot;Commentaries&quot;]</td><td>'abandon':21 'amus':22 'battl':16 'butler':13 'crusad':1 'explor':10 'fast':5 'fast-pac':4 'honey':2 'madman':18 'must':15 'pace':6 'park':23 'reflect':7</td></tr>",
                            "<tr><td>198</td><td>Crystal Breaking</td><td>A Fast-Paced Character Study of a Feminist And a Explorer who must Face a Pastry Chef in Ancient Japan</td><td>2006</td><td>1</td><td>6</td><td>2.99</td><td>184</td><td>22.99</td><td>NC-17</td><td>2013-05-26T14:50:58.951000</td><td>[&quot;Trailers&quot;, &quot;Commentaries&quot;]</td><td>'ancient':22 'break':2 'charact':7 'chef':20 'crystal':1 'explor':14 'face':17 'fast':5 'fast-pac':4 'feminist':11 'japan':23 'must':16 'pace':6 'pastri':19 'studi':8</td></tr>",
                            "<tr><td>201</td><td>Cyclone Family</td><td>A Lacklusture Drama of a Student And a Monkey who must Sink a Womanizer in A MySQL Convention</td><td>2006</td><td>1</td><td>7</td><td>2.99</td><td>176</td><td>18.99</td><td>PG</td><td>2013-05-26T14:50:58.951000</td><td>[&quot;Trailers&quot;, &quot;Deleted Scenes&quot;]</td><td>'convent':20 'cyclon':1 'drama':5 'famili':2 'lacklustur':4 'monkey':11 'must':13 'mysql':19 'sink':14 'student':8 'woman':16</td></tr>",
                            "</table>"
                        ]
                    }
                }
            ],
            "execution_count": 5
        }
    ]
}