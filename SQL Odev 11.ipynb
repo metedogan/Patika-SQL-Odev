{
    "metadata": {
        "kernelspec": {
            "name": "SQL",
            "display_name": "SQL",
            "language": "sql"
        },
        "language_info": {
            "name": "sql",
            "version": ""
        }
    },
    "nbformat_minor": 2,
    "nbformat": 4,
    "cells": [
        {
            "cell_type": "markdown",
            "source": [
                "- actor ve customer tablolarında bulunan first\\_name sütunları için tüm verileri sıralayalım."
            ],
            "metadata": {
                "azdata_cell_guid": "fd1db1ed-aa65-4369-8db2-0b70b0a28e78"
            },
            "attachments": {}
        },
        {
            "cell_type": "code",
            "source": [
                "SELECT first_name FROM actor\r\n",
                "UNION ALL\r\n",
                "SELECT first_name FROM customer;"
            ],
            "metadata": {
                "azdata_cell_guid": "ccb75eae-3f58-45cd-8ace-f5503e343d0c",
                "language": "sql"
            },
            "outputs": [],
            "execution_count": null
        },
        {
            "cell_type": "markdown",
            "source": [
                "- actor ve customer tablolarında bulunan first\\_name sütunları için kesişen verileri sıralayalım."
            ],
            "metadata": {
                "azdata_cell_guid": "b1ee158c-c6e2-467a-a845-50054aa7c144"
            },
            "attachments": {}
        },
        {
            "cell_type": "code",
            "source": [
                "SELECT first_name FROM actor\r\n",
                "INTERSECT\r\n",
                "SELECT first_name FROM customer;"
            ],
            "metadata": {
                "azdata_cell_guid": "fd849446-a8ea-4c91-bae4-7a84c23e54d2",
                "language": "sql"
            },
            "outputs": [],
            "execution_count": null
        },
        {
            "cell_type": "markdown",
            "source": [
                "- actor ve customer tablolarında bulunan first\\_name sütunları için ilk tabloda bulunan ancak ikinci tabloda bulunmayan verileri sıralayalım."
            ],
            "metadata": {
                "azdata_cell_guid": "77be90c8-1513-41c1-bd45-b25d9aa5ecdc"
            },
            "attachments": {}
        },
        {
            "cell_type": "code",
            "source": [
                "SELECT first_name FROM actor\r\n",
                "EXCEPT\r\n",
                "SELECT first_name FROM customer;"
            ],
            "metadata": {
                "azdata_cell_guid": "25aea23a-b418-401d-8bfc-9fc17714a7f5",
                "language": "sql"
            },
            "outputs": [],
            "execution_count": null
        },
        {
            "cell_type": "markdown",
            "source": [
                "- İlk 3 sorguyu tekrar eden veriler için de yapalım."
            ],
            "metadata": {
                "azdata_cell_guid": "780a7980-b34a-4b5f-b9c1-1f0ba82e8756"
            },
            "attachments": {}
        },
        {
            "cell_type": "code",
            "source": [
                "SELECT first_name FROM actor\r\n",
                "EXCEPT ALL\r\n",
                "SELECT first_name FROM customer;"
            ],
            "metadata": {
                "azdata_cell_guid": "4d345754-2653-4688-bdab-21ecdf41d9a8",
                "language": "sql"
            },
            "outputs": [],
            "execution_count": null
        }
    ]
}