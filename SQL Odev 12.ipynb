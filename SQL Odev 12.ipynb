{
    "metadata": {
        "kernelspec": {
            "name": "SQL",
            "display_name": "SQL",
            "language": "sql"
        },
        "language_info": {
            "name": "sql",
            "version": ""
        }
    },
    "nbformat_minor": 2,
    "nbformat": 4,
    "cells": [
        {
            "cell_type": "markdown",
            "source": [
                "### \n",
                "\n",
                "- film tablosunda film uzunluğu length sütununda gösterilmektedir. Uzunluğu ortalama film uzunluğundan fazla kaç tane film vardır?"
            ],
            "metadata": {
                "azdata_cell_guid": "7101baa1-7ee6-4412-bc18-45e8662ea06b"
            },
            "attachments": {}
        },
        {
            "cell_type": "code",
            "source": [
                "SELECT COUNT(*)\r\n",
                "FROM film\r\n",
                "WHERE length > (\r\n",
                "    SELECT AVG(length)\r\n",
                "    FROM film\r\n",
                ");"
            ],
            "metadata": {
                "azdata_cell_guid": "d021947c-c56f-4e85-9f28-bc637eaec583",
                "language": "sql"
            },
            "outputs": [
                {
                    "output_type": "display_data",
                    "data": {
                        "text/html": "(1 row(s) affected)"
                    },
                    "metadata": {}
                },
                {
                    "output_type": "display_data",
                    "data": {
                        "text/html": "Total execution time: 00:00:00.002"
                    },
                    "metadata": {}
                },
                {
                    "output_type": "execute_result",
                    "metadata": {},
                    "execution_count": 7,
                    "data": {
                        "application/vnd.dataresource+json": {
                            "schema": {
                                "fields": [
                                    {
                                        "name": "count"
                                    }
                                ]
                            },
                            "data": [
                                {
                                    "0": "489"
                                }
                            ]
                        },
                        "text/html": [
                            "<table>",
                            "<tr><th>count</th></tr>",
                            "<tr><td>489</td></tr>",
                            "</table>"
                        ]
                    }
                }
            ],
            "execution_count": 7
        },
        {
            "cell_type": "markdown",
            "source": [
                "### \n",
                "\n",
                "- film tablosunda en yüksek rental\\_rate değerine sahip kaç tane film vardır?"
            ],
            "metadata": {
                "azdata_cell_guid": "66fb7a05-5cda-4757-ae11-ec2b7b7c548e"
            },
            "attachments": {}
        },
        {
            "cell_type": "code",
            "source": [
                "SELECT COUNT(*)\r\n",
                "FROM film\r\n",
                "WHERE rental_rate = (\r\n",
                "    SELECT MAX(rental_rate)\r\n",
                "    FROM film   \r\n",
                ");"
            ],
            "metadata": {
                "azdata_cell_guid": "df0973d7-925d-4e4e-8615-b433f03fb79a",
                "language": "sql"
            },
            "outputs": [
                {
                    "output_type": "display_data",
                    "data": {
                        "text/html": "(1 row(s) affected)"
                    },
                    "metadata": {}
                },
                {
                    "output_type": "display_data",
                    "data": {
                        "text/html": "Total execution time: 00:00:00.008"
                    },
                    "metadata": {}
                },
                {
                    "output_type": "execute_result",
                    "metadata": {},
                    "execution_count": 6,
                    "data": {
                        "application/vnd.dataresource+json": {
                            "schema": {
                                "fields": [
                                    {
                                        "name": "count"
                                    }
                                ]
                            },
                            "data": [
                                {
                                    "0": "336"
                                }
                            ]
                        },
                        "text/html": [
                            "<table>",
                            "<tr><th>count</th></tr>",
                            "<tr><td>336</td></tr>",
                            "</table>"
                        ]
                    }
                }
            ],
            "execution_count": 6
        },
        {
            "cell_type": "markdown",
            "source": [
                "### \n",
                "\n",
                "- film tablosunda en düşük rental\\_rate ve en düşün replacement\\_cost değerlerine sahip filmleri sıralayınız."
            ],
            "metadata": {
                "language": "sql",
                "azdata_cell_guid": "886c3609-7a18-4521-87f9-de6fdf5afd8d"
            },
            "attachments": {}
        },
        {
            "cell_type": "code",
            "source": [
                "SELECT title, rental_rate, replacement_cost\r\n",
                "FROM film\r\n",
                "WHERE rental_rate = (\r\n",
                "    SELECT MIN(rental_rate) \r\n",
                "    FROM film\r\n",
                ") \r\n",
                "AND replacement_cost = (\r\n",
                "    SELECT MIN(replacement_cost) \r\n",
                "    FROM film\r\n",
                ");\r\n",
                ""
            ],
            "metadata": {
                "language": "sql",
                "azdata_cell_guid": "f11fb9c7-5361-49eb-8162-d6b3bfa290c1"
            },
            "outputs": [
                {
                    "output_type": "display_data",
                    "data": {
                        "text/html": "(15 row(s) affected)"
                    },
                    "metadata": {}
                },
                {
                    "output_type": "display_data",
                    "data": {
                        "text/html": "Total execution time: 00:00:00.002"
                    },
                    "metadata": {}
                },
                {
                    "output_type": "execute_result",
                    "metadata": {},
                    "execution_count": 14,
                    "data": {
                        "application/vnd.dataresource+json": {
                            "schema": {
                                "fields": [
                                    {
                                        "name": "title"
                                    },
                                    {
                                        "name": "rental_rate"
                                    },
                                    {
                                        "name": "replacement_cost"
                                    }
                                ]
                            },
                            "data": [
                                {
                                    "0": "Anaconda Confessions",
                                    "1": "0.99",
                                    "2": "9.99"
                                },
                                {
                                    "0": "Deliverance Mulholland",
                                    "1": "0.99",
                                    "2": "9.99"
                                },
                                {
                                    "0": "Encino Elf",
                                    "1": "0.99",
                                    "2": "9.99"
                                },
                                {
                                    "0": "Factory Dragon",
                                    "1": "0.99",
                                    "2": "9.99"
                                },
                                {
                                    "0": "Gandhi Kwai",
                                    "1": "0.99",
                                    "2": "9.99"
                                },
                                {
                                    "0": "Newton Labyrinth",
                                    "1": "0.99",
                                    "2": "9.99"
                                },
                                {
                                    "0": "Notorious Reunion",
                                    "1": "0.99",
                                    "2": "9.99"
                                },
                                {
                                    "0": "Papi Necklace",
                                    "1": "0.99",
                                    "2": "9.99"
                                },
                                {
                                    "0": "Roxanne Rebel",
                                    "1": "0.99",
                                    "2": "9.99"
                                },
                                {
                                    "0": "Sun Confessions",
                                    "1": "0.99",
                                    "2": "9.99"
                                },
                                {
                                    "0": "Talented Homicide",
                                    "1": "0.99",
                                    "2": "9.99"
                                },
                                {
                                    "0": "Theory Mermaid",
                                    "1": "0.99",
                                    "2": "9.99"
                                },
                                {
                                    "0": "Valentine Vanishing",
                                    "1": "0.99",
                                    "2": "9.99"
                                },
                                {
                                    "0": "Wait Cider",
                                    "1": "0.99",
                                    "2": "9.99"
                                },
                                {
                                    "0": "Young Language",
                                    "1": "0.99",
                                    "2": "9.99"
                                }
                            ]
                        },
                        "text/html": [
                            "<table>",
                            "<tr><th>title</th><th>rental_rate</th><th>replacement_cost</th></tr>",
                            "<tr><td>Anaconda Confessions</td><td>0.99</td><td>9.99</td></tr>",
                            "<tr><td>Deliverance Mulholland</td><td>0.99</td><td>9.99</td></tr>",
                            "<tr><td>Encino Elf</td><td>0.99</td><td>9.99</td></tr>",
                            "<tr><td>Factory Dragon</td><td>0.99</td><td>9.99</td></tr>",
                            "<tr><td>Gandhi Kwai</td><td>0.99</td><td>9.99</td></tr>",
                            "<tr><td>Newton Labyrinth</td><td>0.99</td><td>9.99</td></tr>",
                            "<tr><td>Notorious Reunion</td><td>0.99</td><td>9.99</td></tr>",
                            "<tr><td>Papi Necklace</td><td>0.99</td><td>9.99</td></tr>",
                            "<tr><td>Roxanne Rebel</td><td>0.99</td><td>9.99</td></tr>",
                            "<tr><td>Sun Confessions</td><td>0.99</td><td>9.99</td></tr>",
                            "<tr><td>Talented Homicide</td><td>0.99</td><td>9.99</td></tr>",
                            "<tr><td>Theory Mermaid</td><td>0.99</td><td>9.99</td></tr>",
                            "<tr><td>Valentine Vanishing</td><td>0.99</td><td>9.99</td></tr>",
                            "<tr><td>Wait Cider</td><td>0.99</td><td>9.99</td></tr>",
                            "<tr><td>Young Language</td><td>0.99</td><td>9.99</td></tr>",
                            "</table>"
                        ]
                    }
                }
            ],
            "execution_count": 14
        },
        {
            "cell_type": "markdown",
            "source": [
                "### \n",
                "\n",
                "- payment tablosunda en fazla sayıda alışveriş yapan müşterileri(customer) sıralayınız."
            ],
            "metadata": {
                "language": "sql",
                "azdata_cell_guid": "b86f5f8c-e2b9-4cf3-b201-2419e6e19723"
            },
            "attachments": {}
        },
        {
            "cell_type": "code",
            "source": [
                "SELECT customer_id, SUM(amount)\r\n",
                "FROM payment\r\n",
                "GROUP BY customer_id\r\n",
                "ORDER BY SUM(amount) DESC;"
            ],
            "metadata": {
                "language": "sql",
                "azdata_cell_guid": "73b7e802-f6ab-4427-87f7-e5fc98e3eba3"
            },
            "outputs": [
                {
                    "output_type": "display_data",
                    "data": {
                        "text/html": "(599 row(s) affected)"
                    },
                    "metadata": {}
                },
                {
                    "output_type": "display_data",
                    "data": {
                        "text/html": "Total execution time: 00:00:00.013"
                    },
                    "metadata": {}
                },
                {
                    "output_type": "execute_result",
                    "metadata": {},
                    "execution_count": 19,
                    "data": {
                        "application/vnd.dataresource+json": {
                            "schema": {
                                "fields": [
                                    {
                                        "name": "customer_id"
                                    },
                                    {
                                        "name": "sum"
                                    }
                                ]
                            },
                            "data": [
                                {
                                    "0": "148",
                                    "1": "211.55"
                                },
                                {
                                    "0": "526",
                                    "1": "208.58"
                                },
                                {
                                    "0": "178",
                                    "1": "194.61"
                                },
                                {
                                    "0": "137",
                                    "1": "191.62"
                                },
                                {
                                    "0": "144",
                                    "1": "189.60"
                                },
                                {
                                    "0": "459",
                                    "1": "183.63"
                                },
                                {
                                    "0": "181",
                                    "1": "167.67"
                                },
                                {
                                    "0": "410",
                                    "1": "167.62"
                                },
                                {
                                    "0": "236",
                                    "1": "166.61"
                                },
                                {
                                    "0": "403",
                                    "1": "162.67"
                                },
                                {
                                    "0": "522",
                                    "1": "161.68"
                                },
                                {
                                    "0": "469",
                                    "1": "158.65"
                                },
                                {
                                    "0": "470",
                                    "1": "157.69"
                                },
                                {
                                    "0": "373",
                                    "1": "156.66"
                                },
                                {
                                    "0": "259",
                                    "1": "154.70"
                                },
                                {
                                    "0": "468",
                                    "1": "154.66"
                                },
                                {
                                    "0": "462",
                                    "1": "152.69"
                                },
                                {
                                    "0": "372",
                                    "1": "152.68"
                                },
                                {
                                    "0": "187",
                                    "1": "151.73"
                                },
                                {
                                    "0": "550",
                                    "1": "151.69"
                                },
                                {
                                    "0": "176",
                                    "1": "151.68"
                                },
                                {
                                    "0": "532",
                                    "1": "149.69"
                                },
                                {
                                    "0": "75",
                                    "1": "149.61"
                                },
                                {
                                    "0": "209",
                                    "1": "147.71"
                                },
                                {
                                    "0": "86",
                                    "1": "146.68"
                                },
                                {
                                    "0": "26",
                                    "1": "146.68"
                                },
                                {
                                    "0": "21",
                                    "1": "146.68"
                                },
                                {
                                    "0": "211",
                                    "1": "146.67"
                                },
                                {
                                    "0": "346",
                                    "1": "145.70"
                                },
                                {
                                    "0": "366",
                                    "1": "145.64"
                                },
                                {
                                    "0": "50",
                                    "1": "144.70"
                                },
                                {
                                    "0": "360",
                                    "1": "144.68"
                                },
                                {
                                    "0": "348",
                                    "1": "144.66"
                                },
                                {
                                    "0": "513",
                                    "1": "143.70"
                                },
                                {
                                    "0": "454",
                                    "1": "143.68"
                                },
                                {
                                    "0": "347",
                                    "1": "142.70"
                                },
                                {
                                    "0": "390",
                                    "1": "142.69"
                                },
                                {
                                    "0": "267",
                                    "1": "142.67"
                                },
                                {
                                    "0": "257",
                                    "1": "142.66"
                                },
                                {
                                    "0": "39",
                                    "1": "141.71"
                                },
                                {
                                    "0": "78",
                                    "1": "141.69"
                                },
                                {
                                    "0": "362",
                                    "1": "140.69"
                                },
                                {
                                    "0": "363",
                                    "1": "139.72"
                                },
                                {
                                    "0": "368",
                                    "1": "139.69"
                                },
                                {
                                    "0": "119",
                                    "1": "139.69"
                                },
                                {
                                    "0": "66",
                                    "1": "139.67"
                                },
                                {
                                    "0": "237",
                                    "1": "138.69"
                                },
                                {
                                    "0": "29",
                                    "1": "138.65"
                                },
                                {
                                    "0": "87",
                                    "1": "137.72"
                                },
                                {
                                    "0": "80",
                                    "1": "137.70"
                                },
                                {
                                    "0": "439",
                                    "1": "137.67"
                                },
                                {
                                    "0": "558",
                                    "1": "135.72"
                                },
                                {
                                    "0": "494",
                                    "1": "135.70"
                                },
                                {
                                    "0": "576",
                                    "1": "135.68"
                                },
                                {
                                    "0": "591",
                                    "1": "134.73"
                                },
                                {
                                    "0": "467",
                                    "1": "134.72"
                                },
                                {
                                    "0": "479",
                                    "1": "134.71"
                                },
                                {
                                    "0": "210",
                                    "1": "134.70"
                                },
                                {
                                    "0": "120",
                                    "1": "134.70"
                                },
                                {
                                    "0": "204",
                                    "1": "134.69"
                                },
                                {
                                    "0": "15",
                                    "1": "134.68"
                                },
                                {
                                    "0": "5",
                                    "1": "134.65"
                                },
                                {
                                    "0": "349",
                                    "1": "133.72"
                                },
                                {
                                    "0": "404",
                                    "1": "133.71"
                                },
                                {
                                    "0": "172",
                                    "1": "133.70"
                                },
                                {
                                    "0": "197",
                                    "1": "133.68"
                                },
                                {
                                    "0": "265",
                                    "1": "132.72"
                                },
                                {
                                    "0": "533",
                                    "1": "132.70"
                                },
                                {
                                    "0": "380",
                                    "1": "132.65"
                                },
                                {
                                    "0": "472",
                                    "1": "131.74"
                                },
                                {
                                    "0": "13",
                                    "1": "131.73"
                                },
                                {
                                    "0": "46",
                                    "1": "131.69"
                                },
                                {
                                    "0": "125",
                                    "1": "131.69"
                                },
                                {
                                    "0": "3",
                                    "1": "130.76"
                                },
                                {
                                    "0": "273",
                                    "1": "130.72"
                                },
                                {
                                    "0": "7",
                                    "1": "130.72"
                                },
                                {
                                    "0": "502",
                                    "1": "130.70"
                                },
                                {
                                    "0": "566",
                                    "1": "130.68"
                                },
                                {
                                    "0": "342",
                                    "1": "130.68"
                                },
                                {
                                    "0": "112",
                                    "1": "129.72"
                                },
                                {
                                    "0": "560",
                                    "1": "129.71"
                                },
                                {
                                    "0": "102",
                                    "1": "129.70"
                                },
                                {
                                    "0": "168",
                                    "1": "129.68"
                                },
                                {
                                    "0": "484",
                                    "1": "128.73"
                                },
                                {
                                    "0": "103",
                                    "1": "128.71"
                                },
                                {
                                    "0": "242",
                                    "1": "128.71"
                                },
                                {
                                    "0": "84",
                                    "1": "128.70"
                                },
                                {
                                    "0": "196",
                                    "1": "128.69"
                                },
                                {
                                    "0": "448",
                                    "1": "127.73"
                                },
                                {
                                    "0": "221",
                                    "1": "127.73"
                                },
                                {
                                    "0": "520",
                                    "1": "127.69"
                                },
                                {
                                    "0": "141",
                                    "1": "127.69"
                                },
                                {
                                    "0": "38",
                                    "1": "127.66"
                                },
                                {
                                    "0": "200",
                                    "1": "126.74"
                                },
                                {
                                    "0": "206",
                                    "1": "126.73"
                                },
                                {
                                    "0": "146",
                                    "1": "126.73"
                                },
                                {
                                    "0": "436",
                                    "1": "126.73"
                                },
                                {
                                    "0": "108",
                                    "1": "126.72"
                                },
                                {
                                    "0": "114",
                                    "1": "126.70"
                                },
                                {
                                    "0": "426",
                                    "1": "125.74"
                                },
                                {
                                    "0": "482",
                                    "1": "125.74"
                                },
                                {
                                    "0": "295",
                                    "1": "125.72"
                                },
                                {
                                    "0": "147",
                                    "1": "125.68"
                                },
                                {
                                    "0": "354",
                                    "1": "125.67"
                                },
                                {
                                    "0": "45",
                                    "1": "124.74"
                                },
                                {
                                    "0": "89",
                                    "1": "124.71"
                                },
                                {
                                    "0": "198",
                                    "1": "124.68"
                                },
                                {
                                    "0": "129",
                                    "1": "124.66"
                                },
                                {
                                    "0": "2",
                                    "1": "123.74"
                                },
                                {
                                    "0": "300",
                                    "1": "123.74"
                                },
                                {
                                    "0": "506",
                                    "1": "123.72"
                                },
                                {
                                    "0": "371",
                                    "1": "123.71"
                                },
                                {
                                    "0": "51",
                                    "1": "123.70"
                                },
                                {
                                    "0": "27",
                                    "1": "123.70"
                                },
                                {
                                    "0": "30",
                                    "1": "123.66"
                                },
                                {
                                    "0": "434",
                                    "1": "122.74"
                                },
                                {
                                    "0": "92",
                                    "1": "122.74"
                                },
                                {
                                    "0": "535",
                                    "1": "122.72"
                                },
                                {
                                    "0": "163",
                                    "1": "122.71"
                                },
                                {
                                    "0": "244",
                                    "1": "122.70"
                                },
                                {
                                    "0": "473",
                                    "1": "122.69"
                                },
                                {
                                    "0": "508",
                                    "1": "121.77"
                                },
                                {
                                    "0": "166",
                                    "1": "121.73"
                                },
                                {
                                    "0": "497",
                                    "1": "121.73"
                                },
                                {
                                    "0": "451",
                                    "1": "121.70"
                                },
                                {
                                    "0": "438",
                                    "1": "121.70"
                                },
                                {
                                    "0": "406",
                                    "1": "121.69"
                                },
                                {
                                    "0": "491",
                                    "1": "120.75"
                                },
                                {
                                    "0": "423",
                                    "1": "120.74"
                                },
                                {
                                    "0": "179",
                                    "1": "120.74"
                                },
                                {
                                    "0": "499",
                                    "1": "120.71"
                                },
                                {
                                    "0": "122",
                                    "1": "120.70"
                                },
                                {
                                    "0": "59",
                                    "1": "119.76"
                                },
                                {
                                    "0": "389",
                                    "1": "119.75"
                                },
                                {
                                    "0": "487",
                                    "1": "119.74"
                                },
                                {
                                    "0": "306",
                                    "1": "119.72"
                                },
                                {
                                    "0": "207",
                                    "1": "119.72"
                                },
                                {
                                    "0": "82",
                                    "1": "118.76"
                                },
                                {
                                    "0": "41",
                                    "1": "118.75"
                                },
                                {
                                    "0": "589",
                                    "1": "118.75"
                                },
                                {
                                    "0": "565",
                                    "1": "118.73"
                                },
                                {
                                    "0": "128",
                                    "1": "118.70"
                                },
                                {
                                    "0": "35",
                                    "1": "118.70"
                                },
                                {
                                    "0": "230",
                                    "1": "118.69"
                                },
                                {
                                    "0": "583",
                                    "1": "117.77"
                                },
                                {
                                    "0": "285",
                                    "1": "117.77"
                                },
                                {
                                    "0": "585",
                                    "1": "117.76"
                                },
                                {
                                    "0": "504",
                                    "1": "117.75"
                                },
                                {
                                    "0": "421",
                                    "1": "117.75"
                                },
                                {
                                    "0": "573",
                                    "1": "117.72"
                                },
                                {
                                    "0": "49",
                                    "1": "116.76"
                                },
                                {
                                    "0": "149",
                                    "1": "116.75"
                                },
                                {
                                    "0": "253",
                                    "1": "116.74"
                                },
                                {
                                    "0": "274",
                                    "1": "116.73"
                                },
                                {
                                    "0": "263",
                                    "1": "116.73"
                                },
                                {
                                    "0": "71",
                                    "1": "116.72"
                                },
                                {
                                    "0": "356",
                                    "1": "116.71"
                                },
                                {
                                    "0": "512",
                                    "1": "115.74"
                                },
                                {
                                    "0": "56",
                                    "1": "115.74"
                                },
                                {
                                    "0": "529",
                                    "1": "115.72"
                                },
                                {
                                    "0": "393",
                                    "1": "115.71"
                                },
                                {
                                    "0": "158",
                                    "1": "115.70"
                                },
                                {
                                    "0": "279",
                                    "1": "114.76"
                                },
                                {
                                    "0": "54",
                                    "1": "114.74"
                                },
                                {
                                    "0": "584",
                                    "1": "114.73"
                                },
                                {
                                    "0": "262",
                                    "1": "114.73"
                                },
                                {
                                    "0": "107",
                                    "1": "114.72"
                                },
                                {
                                    "0": "388",
                                    "1": "114.72"
                                },
                                {
                                    "0": "1",
                                    "1": "114.70"
                                },
                                {
                                    "0": "433",
                                    "1": "113.77"
                                },
                                {
                                    "0": "309",
                                    "1": "113.75"
                                },
                                {
                                    "0": "266",
                                    "1": "113.74"
                                },
                                {
                                    "0": "302",
                                    "1": "113.74"
                                },
                                {
                                    "0": "139",
                                    "1": "113.73"
                                },
                                {
                                    "0": "569",
                                    "1": "113.73"
                                },
                                {
                                    "0": "416",
                                    "1": "113.72"
                                },
                                {
                                    "0": "314",
                                    "1": "113.71"
                                },
                                {
                                    "0": "260",
                                    "1": "113.70"
                                },
                                {
                                    "0": "540",
                                    "1": "112.76"
                                },
                                {
                                    "0": "582",
                                    "1": "112.76"
                                },
                                {
                                    "0": "63",
                                    "1": "112.75"
                                },
                                {
                                    "0": "32",
                                    "1": "112.74"
                                },
                                {
                                    "0": "131",
                                    "1": "112.73"
                                },
                                {
                                    "0": "485",
                                    "1": "112.72"
                                },
                                {
                                    "0": "453",
                                    "1": "111.77"
                                },
                                {
                                    "0": "337",
                                    "1": "111.76"
                                },
                                {
                                    "0": "225",
                                    "1": "111.76"
                                },
                                {
                                    "0": "577",
                                    "1": "111.74"
                                },
                                {
                                    "0": "173",
                                    "1": "111.73"
                                },
                                {
                                    "0": "579",
                                    "1": "111.73"
                                },
                                {
                                    "0": "113",
                                    "1": "111.73"
                                },
                                {
                                    "0": "186",
                                    "1": "111.71"
                                },
                                {
                                    "0": "592",
                                    "1": "111.71"
                                },
                                {
                                    "0": "42",
                                    "1": "111.71"
                                },
                                {
                                    "0": "531",
                                    "1": "110.77"
                                },
                                {
                                    "0": "258",
                                    "1": "110.76"
                                },
                                {
                                    "0": "495",
                                    "1": "110.76"
                                },
                                {
                                    "0": "515",
                                    "1": "110.74"
                                },
                                {
                                    "0": "154",
                                    "1": "110.73"
                                },
                                {
                                    "0": "213",
                                    "1": "110.73"
                                },
                                {
                                    "0": "559",
                                    "1": "110.72"
                                },
                                {
                                    "0": "90",
                                    "1": "110.72"
                                },
                                {
                                    "0": "595",
                                    "1": "110.71"
                                },
                                {
                                    "0": "241",
                                    "1": "110.68"
                                },
                                {
                                    "0": "170",
                                    "1": "109.77"
                                },
                                {
                                    "0": "536",
                                    "1": "109.77"
                                },
                                {
                                    "0": "575",
                                    "1": "109.76"
                                },
                                {
                                    "0": "220",
                                    "1": "109.75"
                                },
                                {
                                    "0": "16",
                                    "1": "109.75"
                                },
                                {
                                    "0": "538",
                                    "1": "109.73"
                                },
                                {
                                    "0": "376",
                                    "1": "109.73"
                                },
                                {
                                    "0": "447",
                                    "1": "109.73"
                                },
                                {
                                    "0": "386",
                                    "1": "109.72"
                                },
                                {
                                    "0": "446",
                                    "1": "109.72"
                                },
                                {
                                    "0": "481",
                                    "1": "109.72"
                                },
                                {
                                    "0": "424",
                                    "1": "109.71"
                                },
                                {
                                    "0": "284",
                                    "1": "108.78"
                                },
                                {
                                    "0": "594",
                                    "1": "108.77"
                                },
                                {
                                    "0": "590",
                                    "1": "108.76"
                                },
                                {
                                    "0": "277",
                                    "1": "108.76"
                                },
                                {
                                    "0": "518",
                                    "1": "108.75"
                                },
                                {
                                    "0": "334",
                                    "1": "108.75"
                                },
                                {
                                    "0": "574",
                                    "1": "108.73"
                                },
                                {
                                    "0": "239",
                                    "1": "108.72"
                                },
                                {
                                    "0": "167",
                                    "1": "108.71"
                                },
                                {
                                    "0": "293",
                                    "1": "107.79"
                                },
                                {
                                    "0": "571",
                                    "1": "107.78"
                                },
                                {
                                    "0": "427",
                                    "1": "107.77"
                                },
                                {
                                    "0": "332",
                                    "1": "107.74"
                                },
                                {
                                    "0": "441",
                                    "1": "107.73"
                                },
                                {
                                    "0": "145",
                                    "1": "107.73"
                                },
                                {
                                    "0": "588",
                                    "1": "107.73"
                                },
                                {
                                    "0": "157",
                                    "1": "107.71"
                                },
                                {
                                    "0": "254",
                                    "1": "107.70"
                                },
                                {
                                    "0": "418",
                                    "1": "107.70"
                                },
                                {
                                    "0": "91",
                                    "1": "107.66"
                                },
                                {
                                    "0": "477",
                                    "1": "106.79"
                                },
                                {
                                    "0": "343",
                                    "1": "106.77"
                                },
                                {
                                    "0": "240",
                                    "1": "106.77"
                                },
                                {
                                    "0": "155",
                                    "1": "106.76"
                                },
                                {
                                    "0": "234",
                                    "1": "106.75"
                                },
                                {
                                    "0": "471",
                                    "1": "106.74"
                                },
                                {
                                    "0": "116",
                                    "1": "106.74"
                                },
                                {
                                    "0": "23",
                                    "1": "106.73"
                                },
                                {
                                    "0": "457",
                                    "1": "106.73"
                                },
                                {
                                    "0": "160",
                                    "1": "106.73"
                                },
                                {
                                    "0": "52",
                                    "1": "106.72"
                                },
                                {
                                    "0": "138",
                                    "1": "106.68"
                                },
                                {
                                    "0": "127",
                                    "1": "105.78"
                                },
                                {
                                    "0": "490",
                                    "1": "105.78"
                                },
                                {
                                    "0": "331",
                                    "1": "105.78"
                                },
                                {
                                    "0": "193",
                                    "1": "105.77"
                                },
                                {
                                    "0": "294",
                                    "1": "105.77"
                                },
                                {
                                    "0": "58",
                                    "1": "105.76"
                                },
                                {
                                    "0": "400",
                                    "1": "105.76"
                                },
                                {
                                    "0": "396",
                                    "1": "105.74"
                                },
                                {
                                    "0": "40",
                                    "1": "105.74"
                                },
                                {
                                    "0": "96",
                                    "1": "105.73"
                                },
                                {
                                    "0": "444",
                                    "1": "105.72"
                                },
                                {
                                    "0": "28",
                                    "1": "105.70"
                                },
                                {
                                    "0": "345",
                                    "1": "104.79"
                                },
                                {
                                    "0": "493",
                                    "1": "104.78"
                                },
                                {
                                    "0": "289",
                                    "1": "104.76"
                                },
                                {
                                    "0": "121",
                                    "1": "104.75"
                                },
                                {
                                    "0": "171",
                                    "1": "104.75"
                                },
                                {
                                    "0": "407",
                                    "1": "104.74"
                                },
                                {
                                    "0": "31",
                                    "1": "104.74"
                                },
                                {
                                    "0": "25",
                                    "1": "104.73"
                                },
                                {
                                    "0": "397",
                                    "1": "104.72"
                                },
                                {
                                    "0": "442",
                                    "1": "104.71"
                                },
                                {
                                    "0": "341",
                                    "1": "103.78"
                                },
                                {
                                    "0": "296",
                                    "1": "103.77"
                                },
                                {
                                    "0": "280",
                                    "1": "103.77"
                                },
                                {
                                    "0": "214",
                                    "1": "103.74"
                                },
                                {
                                    "0": "202",
                                    "1": "103.74"
                                },
                                {
                                    "0": "245",
                                    "1": "103.74"
                                },
                                {
                                    "0": "20",
                                    "1": "103.73"
                                },
                                {
                                    "0": "408",
                                    "1": "103.73"
                                },
                                {
                                    "0": "292",
                                    "1": "102.78"
                                },
                                {
                                    "0": "553",
                                    "1": "102.77"
                                },
                                {
                                    "0": "510",
                                    "1": "102.77"
                                },
                                {
                                    "0": "587",
                                    "1": "102.76"
                                },
                                {
                                    "0": "98",
                                    "1": "102.76"
                                },
                                {
                                    "0": "126",
                                    "1": "102.75"
                                },
                                {
                                    "0": "190",
                                    "1": "102.75"
                                },
                                {
                                    "0": "44",
                                    "1": "101.79"
                                },
                                {
                                    "0": "466",
                                    "1": "101.78"
                                },
                                {
                                    "0": "100",
                                    "1": "101.77"
                                },
                                {
                                    "0": "593",
                                    "1": "101.76"
                                },
                                {
                                    "0": "405",
                                    "1": "101.70"
                                },
                                {
                                    "0": "486",
                                    "1": "100.77"
                                },
                                {
                                    "0": "517",
                                    "1": "100.76"
                                },
                                {
                                    "0": "572",
                                    "1": "100.76"
                                },
                                {
                                    "0": "219",
                                    "1": "100.75"
                                },
                                {
                                    "0": "251",
                                    "1": "100.75"
                                },
                                {
                                    "0": "135",
                                    "1": "100.72"
                                },
                                {
                                    "0": "519",
                                    "1": "99.78"
                                },
                                {
                                    "0": "11",
                                    "1": "99.77"
                                },
                                {
                                    "0": "57",
                                    "1": "99.74"
                                },
                                {
                                    "0": "297",
                                    "1": "99.74"
                                },
                                {
                                    "0": "563",
                                    "1": "99.73"
                                },
                                {
                                    "0": "503",
                                    "1": "99.72"
                                },
                                {
                                    "0": "452",
                                    "1": "99.71"
                                },
                                {
                                    "0": "381",
                                    "1": "99.68"
                                },
                                {
                                    "0": "19",
                                    "1": "98.82"
                                },
                                {
                                    "0": "329",
                                    "1": "98.77"
                                },
                                {
                                    "0": "537",
                                    "1": "98.76"
                                },
                                {
                                    "0": "175",
                                    "1": "98.76"
                                },
                                {
                                    "0": "264",
                                    "1": "98.75"
                                },
                                {
                                    "0": "425",
                                    "1": "98.75"
                                },
                                {
                                    "0": "374",
                                    "1": "98.75"
                                },
                                {
                                    "0": "580",
                                    "1": "98.74"
                                },
                                {
                                    "0": "65",
                                    "1": "97.80"
                                },
                                {
                                    "0": "367",
                                    "1": "97.80"
                                },
                                {
                                    "0": "460",
                                    "1": "97.79"
                                },
                                {
                                    "0": "409",
                                    "1": "97.78"
                                },
                                {
                                    "0": "192",
                                    "1": "97.78"
                                },
                                {
                                    "0": "475",
                                    "1": "97.78"
                                },
                                {
                                    "0": "562",
                                    "1": "97.78"
                                },
                                {
                                    "0": "123",
                                    "1": "97.77"
                                },
                                {
                                    "0": "256",
                                    "1": "97.75"
                                },
                                {
                                    "0": "581",
                                    "1": "97.75"
                                },
                                {
                                    "0": "268",
                                    "1": "96.79"
                                },
                                {
                                    "0": "379",
                                    "1": "96.79"
                                },
                                {
                                    "0": "269",
                                    "1": "96.79"
                                },
                                {
                                    "0": "352",
                                    "1": "96.78"
                                },
                                {
                                    "0": "83",
                                    "1": "96.78"
                                },
                                {
                                    "0": "14",
                                    "1": "96.77"
                                },
                                {
                                    "0": "414",
                                    "1": "96.77"
                                },
                                {
                                    "0": "286",
                                    "1": "96.76"
                                },
                                {
                                    "0": "445",
                                    "1": "96.76"
                                },
                                {
                                    "0": "317",
                                    "1": "96.76"
                                },
                                {
                                    "0": "500",
                                    "1": "96.75"
                                },
                                {
                                    "0": "422",
                                    "1": "96.75"
                                },
                                {
                                    "0": "74",
                                    "1": "96.74"
                                },
                                {
                                    "0": "554",
                                    "1": "95.80"
                                },
                                {
                                    "0": "578",
                                    "1": "95.79"
                                },
                                {
                                    "0": "106",
                                    "1": "95.79"
                                },
                                {
                                    "0": "180",
                                    "1": "95.78"
                                },
                                {
                                    "0": "324",
                                    "1": "95.78"
                                },
                                {
                                    "0": "541",
                                    "1": "95.78"
                                },
                                {
                                    "0": "488",
                                    "1": "95.78"
                                },
                                {
                                    "0": "339",
                                    "1": "95.76"
                                },
                                {
                                    "0": "199",
                                    "1": "95.76"
                                },
                                {
                                    "0": "456",
                                    "1": "95.76"
                                },
                                {
                                    "0": "132",
                                    "1": "95.72"
                                },
                                {
                                    "0": "22",
                                    "1": "94.81"
                                },
                                {
                                    "0": "150",
                                    "1": "94.78"
                                },
                                {
                                    "0": "68",
                                    "1": "94.78"
                                },
                                {
                                    "0": "276",
                                    "1": "94.77"
                                },
                                {
                                    "0": "161",
                                    "1": "94.76"
                                },
                                {
                                    "0": "546",
                                    "1": "94.76"
                                },
                                {
                                    "0": "153",
                                    "1": "94.76"
                                },
                                {
                                    "0": "10",
                                    "1": "94.76"
                                },
                                {
                                    "0": "111",
                                    "1": "94.75"
                                },
                                {
                                    "0": "321",
                                    "1": "93.83"
                                },
                                {
                                    "0": "432",
                                    "1": "93.80"
                                },
                                {
                                    "0": "528",
                                    "1": "93.80"
                                },
                                {
                                    "0": "319",
                                    "1": "93.79"
                                },
                                {
                                    "0": "443",
                                    "1": "93.79"
                                },
                                {
                                    "0": "105",
                                    "1": "93.78"
                                },
                                {
                                    "0": "336",
                                    "1": "93.78"
                                },
                                {
                                    "0": "385",
                                    "1": "93.76"
                                },
                                {
                                    "0": "383",
                                    "1": "93.75"
                                },
                                {
                                    "0": "229",
                                    "1": "93.75"
                                },
                                {
                                    "0": "377",
                                    "1": "93.74"
                                },
                                {
                                    "0": "12",
                                    "1": "93.74"
                                },
                                {
                                    "0": "47",
                                    "1": "92.81"
                                },
                                {
                                    "0": "307",
                                    "1": "92.80"
                                },
                                {
                                    "0": "544",
                                    "1": "92.80"
                                },
                                {
                                    "0": "81",
                                    "1": "92.79"
                                },
                                {
                                    "0": "365",
                                    "1": "92.79"
                                },
                                {
                                    "0": "511",
                                    "1": "92.78"
                                },
                                {
                                    "0": "431",
                                    "1": "92.78"
                                },
                                {
                                    "0": "516",
                                    "1": "92.76"
                                },
                                {
                                    "0": "182",
                                    "1": "92.76"
                                },
                                {
                                    "0": "474",
                                    "1": "92.75"
                                },
                                {
                                    "0": "188",
                                    "1": "92.75"
                                },
                                {
                                    "0": "275",
                                    "1": "92.75"
                                },
                                {
                                    "0": "505",
                                    "1": "91.81"
                                },
                                {
                                    "0": "489",
                                    "1": "91.81"
                                },
                                {
                                    "0": "212",
                                    "1": "91.80"
                                },
                                {
                                    "0": "37",
                                    "1": "91.79"
                                },
                                {
                                    "0": "201",
                                    "1": "91.78"
                                },
                                {
                                    "0": "417",
                                    "1": "91.78"
                                },
                                {
                                    "0": "392",
                                    "1": "91.77"
                                },
                                {
                                    "0": "323",
                                    "1": "91.75"
                                },
                                {
                                    "0": "570",
                                    "1": "91.75"
                                },
                                {
                                    "0": "64",
                                    "1": "91.70"
                                },
                                {
                                    "0": "261",
                                    "1": "90.78"
                                },
                                {
                                    "0": "216",
                                    "1": "90.78"
                                },
                                {
                                    "0": "99",
                                    "1": "90.77"
                                },
                                {
                                    "0": "36",
                                    "1": "90.75"
                                },
                                {
                                    "0": "461",
                                    "1": "90.73"
                                },
                                {
                                    "0": "552",
                                    "1": "89.80"
                                },
                                {
                                    "0": "43",
                                    "1": "89.78"
                                },
                                {
                                    "0": "364",
                                    "1": "89.78"
                                },
                                {
                                    "0": "333",
                                    "1": "89.78"
                                },
                                {
                                    "0": "73",
                                    "1": "89.78"
                                },
                                {
                                    "0": "235",
                                    "1": "89.77"
                                },
                                {
                                    "0": "233",
                                    "1": "89.77"
                                },
                                {
                                    "0": "507",
                                    "1": "89.77"
                                },
                                {
                                    "0": "156",
                                    "1": "89.77"
                                },
                                {
                                    "0": "69",
                                    "1": "89.77"
                                },
                                {
                                    "0": "463",
                                    "1": "89.76"
                                },
                                {
                                    "0": "34",
                                    "1": "89.76"
                                },
                                {
                                    "0": "361",
                                    "1": "89.71"
                                },
                                {
                                    "0": "247",
                                    "1": "88.81"
                                },
                                {
                                    "0": "249",
                                    "1": "88.81"
                                },
                                {
                                    "0": "33",
                                    "1": "88.80"
                                },
                                {
                                    "0": "375",
                                    "1": "88.80"
                                },
                                {
                                    "0": "415",
                                    "1": "88.78"
                                },
                                {
                                    "0": "60",
                                    "1": "88.78"
                                },
                                {
                                    "0": "231",
                                    "1": "88.77"
                                },
                                {
                                    "0": "53",
                                    "1": "88.76"
                                },
                                {
                                    "0": "133",
                                    "1": "88.75"
                                },
                                {
                                    "0": "72",
                                    "1": "88.73"
                                },
                                {
                                    "0": "17",
                                    "1": "87.82"
                                },
                                {
                                    "0": "203",
                                    "1": "87.81"
                                },
                                {
                                    "0": "523",
                                    "1": "87.80"
                                },
                                {
                                    "0": "305",
                                    "1": "87.80"
                                },
                                {
                                    "0": "476",
                                    "1": "87.80"
                                },
                                {
                                    "0": "547",
                                    "1": "87.80"
                                },
                                {
                                    "0": "226",
                                    "1": "87.79"
                                },
                                {
                                    "0": "189",
                                    "1": "87.79"
                                },
                                {
                                    "0": "130",
                                    "1": "87.78"
                                },
                                {
                                    "0": "597",
                                    "1": "87.77"
                                },
                                {
                                    "0": "351",
                                    "1": "87.77"
                                },
                                {
                                    "0": "509",
                                    "1": "86.82"
                                },
                                {
                                    "0": "478",
                                    "1": "86.81"
                                },
                                {
                                    "0": "501",
                                    "1": "86.81"
                                },
                                {
                                    "0": "238",
                                    "1": "86.81"
                                },
                                {
                                    "0": "195",
                                    "1": "86.81"
                                },
                                {
                                    "0": "67",
                                    "1": "86.80"
                                },
                                {
                                    "0": "169",
                                    "1": "86.80"
                                },
                                {
                                    "0": "217",
                                    "1": "86.79"
                                },
                                {
                                    "0": "232",
                                    "1": "86.77"
                                },
                                {
                                    "0": "101",
                                    "1": "86.77"
                                },
                                {
                                    "0": "419",
                                    "1": "86.76"
                                },
                                {
                                    "0": "228",
                                    "1": "86.75"
                                },
                                {
                                    "0": "561",
                                    "1": "86.75"
                                },
                                {
                                    "0": "208",
                                    "1": "86.75"
                                },
                                {
                                    "0": "115",
                                    "1": "86.73"
                                },
                                {
                                    "0": "567",
                                    "1": "85.80"
                                },
                                {
                                    "0": "437",
                                    "1": "85.80"
                                },
                                {
                                    "0": "382",
                                    "1": "85.78"
                                },
                                {
                                    "0": "359",
                                    "1": "85.78"
                                },
                                {
                                    "0": "455",
                                    "1": "85.78"
                                },
                                {
                                    "0": "24",
                                    "1": "85.77"
                                },
                                {
                                    "0": "8",
                                    "1": "85.77"
                                },
                                {
                                    "0": "77",
                                    "1": "85.77"
                                },
                                {
                                    "0": "450",
                                    "1": "85.75"
                                },
                                {
                                    "0": "542",
                                    "1": "84.84"
                                },
                                {
                                    "0": "55",
                                    "1": "84.81"
                                },
                                {
                                    "0": "545",
                                    "1": "84.81"
                                },
                                {
                                    "0": "539",
                                    "1": "84.80"
                                },
                                {
                                    "0": "88",
                                    "1": "84.80"
                                },
                                {
                                    "0": "299",
                                    "1": "84.79"
                                },
                                {
                                    "0": "6",
                                    "1": "84.75"
                                },
                                {
                                    "0": "140",
                                    "1": "83.82"
                                },
                                {
                                    "0": "480",
                                    "1": "83.81"
                                },
                                {
                                    "0": "143",
                                    "1": "83.80"
                                },
                                {
                                    "0": "440",
                                    "1": "83.79"
                                },
                                {
                                    "0": "598",
                                    "1": "83.78"
                                },
                                {
                                    "0": "340",
                                    "1": "83.77"
                                },
                                {
                                    "0": "496",
                                    "1": "82.81"
                                },
                                {
                                    "0": "564",
                                    "1": "82.78"
                                },
                                {
                                    "0": "498",
                                    "1": "82.76"
                                },
                                {
                                    "0": "524",
                                    "1": "81.83"
                                },
                                {
                                    "0": "483",
                                    "1": "81.83"
                                },
                                {
                                    "0": "322",
                                    "1": "81.81"
                                },
                                {
                                    "0": "308",
                                    "1": "81.81"
                                },
                                {
                                    "0": "174",
                                    "1": "81.81"
                                },
                                {
                                    "0": "165",
                                    "1": "81.80"
                                },
                                {
                                    "0": "312",
                                    "1": "81.80"
                                },
                                {
                                    "0": "4",
                                    "1": "81.78"
                                },
                                {
                                    "0": "534",
                                    "1": "81.78"
                                },
                                {
                                    "0": "527",
                                    "1": "81.76"
                                },
                                {
                                    "0": "215",
                                    "1": "81.76"
                                },
                                {
                                    "0": "151",
                                    "1": "81.75"
                                },
                                {
                                    "0": "311",
                                    "1": "80.85"
                                },
                                {
                                    "0": "449",
                                    "1": "80.83"
                                },
                                {
                                    "0": "205",
                                    "1": "80.82"
                                },
                                {
                                    "0": "316",
                                    "1": "80.81"
                                },
                                {
                                    "0": "184",
                                    "1": "80.80"
                                },
                                {
                                    "0": "287",
                                    "1": "80.78"
                                },
                                {
                                    "0": "290",
                                    "1": "80.78"
                                },
                                {
                                    "0": "521",
                                    "1": "80.77"
                                },
                                {
                                    "0": "357",
                                    "1": "80.77"
                                },
                                {
                                    "0": "304",
                                    "1": "79.81"
                                },
                                {
                                    "0": "109",
                                    "1": "79.81"
                                },
                                {
                                    "0": "282",
                                    "1": "79.80"
                                },
                                {
                                    "0": "185",
                                    "1": "79.80"
                                },
                                {
                                    "0": "387",
                                    "1": "79.78"
                                },
                                {
                                    "0": "391",
                                    "1": "79.75"
                                },
                                {
                                    "0": "429",
                                    "1": "78.84"
                                },
                                {
                                    "0": "599",
                                    "1": "78.82"
                                },
                                {
                                    "0": "18",
                                    "1": "78.81"
                                },
                                {
                                    "0": "338",
                                    "1": "78.80"
                                },
                                {
                                    "0": "9",
                                    "1": "78.80"
                                },
                                {
                                    "0": "298",
                                    "1": "78.79"
                                },
                                {
                                    "0": "62",
                                    "1": "78.79"
                                },
                                {
                                    "0": "227",
                                    "1": "78.78"
                                },
                                {
                                    "0": "435",
                                    "1": "78.77"
                                },
                                {
                                    "0": "223",
                                    "1": "77.84"
                                },
                                {
                                    "0": "402",
                                    "1": "77.81"
                                },
                                {
                                    "0": "134",
                                    "1": "77.81"
                                },
                                {
                                    "0": "394",
                                    "1": "77.80"
                                },
                                {
                                    "0": "384",
                                    "1": "77.79"
                                },
                                {
                                    "0": "104",
                                    "1": "77.78"
                                },
                                {
                                    "0": "243",
                                    "1": "77.77"
                                },
                                {
                                    "0": "246",
                                    "1": "76.82"
                                },
                                {
                                    "0": "93",
                                    "1": "76.80"
                                },
                                {
                                    "0": "118",
                                    "1": "76.80"
                                },
                                {
                                    "0": "224",
                                    "1": "76.78"
                                },
                                {
                                    "0": "70",
                                    "1": "75.83"
                                },
                                {
                                    "0": "270",
                                    "1": "75.81"
                                },
                                {
                                    "0": "358",
                                    "1": "75.80"
                                },
                                {
                                    "0": "551",
                                    "1": "75.79"
                                },
                                {
                                    "0": "183",
                                    "1": "75.78"
                                },
                                {
                                    "0": "530",
                                    "1": "75.78"
                                },
                                {
                                    "0": "194",
                                    "1": "74.84"
                                },
                                {
                                    "0": "412",
                                    "1": "74.83"
                                },
                                {
                                    "0": "555",
                                    "1": "74.83"
                                },
                                {
                                    "0": "327",
                                    "1": "74.81"
                                },
                                {
                                    "0": "420",
                                    "1": "74.80"
                                },
                                {
                                    "0": "76",
                                    "1": "74.79"
                                },
                                {
                                    "0": "142",
                                    "1": "74.77"
                                },
                                {
                                    "0": "398",
                                    "1": "73.85"
                                },
                                {
                                    "0": "291",
                                    "1": "73.83"
                                },
                                {
                                    "0": "399",
                                    "1": "73.82"
                                },
                                {
                                    "0": "152",
                                    "1": "73.81"
                                },
                                {
                                    "0": "79",
                                    "1": "73.81"
                                },
                                {
                                    "0": "428",
                                    "1": "73.81"
                                },
                                {
                                    "0": "543",
                                    "1": "73.80"
                                },
                                {
                                    "0": "596",
                                    "1": "73.78"
                                },
                                {
                                    "0": "335",
                                    "1": "73.78"
                                },
                                {
                                    "0": "411",
                                    "1": "73.76"
                                },
                                {
                                    "0": "95",
                                    "1": "72.83"
                                },
                                {
                                    "0": "556",
                                    "1": "72.82"
                                },
                                {
                                    "0": "325",
                                    "1": "72.82"
                                },
                                {
                                    "0": "85",
                                    "1": "72.79"
                                },
                                {
                                    "0": "301",
                                    "1": "71.85"
                                },
                                {
                                    "0": "222",
                                    "1": "71.84"
                                },
                                {
                                    "0": "94",
                                    "1": "71.81"
                                },
                                {
                                    "0": "430",
                                    "1": "71.80"
                                },
                                {
                                    "0": "278",
                                    "1": "71.79"
                                },
                                {
                                    "0": "177",
                                    "1": "71.77"
                                },
                                {
                                    "0": "255",
                                    "1": "70.82"
                                },
                                {
                                    "0": "378",
                                    "1": "70.82"
                                },
                                {
                                    "0": "370",
                                    "1": "70.81"
                                },
                                {
                                    "0": "303",
                                    "1": "70.81"
                                },
                                {
                                    "0": "117",
                                    "1": "69.83"
                                },
                                {
                                    "0": "369",
                                    "1": "69.79"
                                },
                                {
                                    "0": "514",
                                    "1": "69.79"
                                },
                                {
                                    "0": "310",
                                    "1": "68.87"
                                },
                                {
                                    "0": "465",
                                    "1": "68.84"
                                },
                                {
                                    "0": "525",
                                    "1": "68.82"
                                },
                                {
                                    "0": "355",
                                    "1": "68.81"
                                },
                                {
                                    "0": "283",
                                    "1": "68.77"
                                },
                                {
                                    "0": "48",
                                    "1": "67.86"
                                },
                                {
                                    "0": "464",
                                    "1": "67.86"
                                },
                                {
                                    "0": "315",
                                    "1": "67.86"
                                },
                                {
                                    "0": "218",
                                    "1": "67.82"
                                },
                                {
                                    "0": "191",
                                    "1": "66.82"
                                },
                                {
                                    "0": "458",
                                    "1": "66.81"
                                },
                                {
                                    "0": "568",
                                    "1": "66.79"
                                },
                                {
                                    "0": "272",
                                    "1": "65.87"
                                },
                                {
                                    "0": "353",
                                    "1": "65.83"
                                },
                                {
                                    "0": "328",
                                    "1": "65.83"
                                },
                                {
                                    "0": "413",
                                    "1": "65.81"
                                },
                                {
                                    "0": "164",
                                    "1": "64.85"
                                },
                                {
                                    "0": "344",
                                    "1": "64.84"
                                },
                                {
                                    "0": "326",
                                    "1": "64.82"
                                },
                                {
                                    "0": "313",
                                    "1": "63.84"
                                },
                                {
                                    "0": "548",
                                    "1": "63.84"
                                },
                                {
                                    "0": "350",
                                    "1": "63.79"
                                },
                                {
                                    "0": "557",
                                    "1": "63.78"
                                },
                                {
                                    "0": "492",
                                    "1": "62.85"
                                },
                                {
                                    "0": "549",
                                    "1": "62.84"
                                },
                                {
                                    "0": "401",
                                    "1": "62.81"
                                },
                                {
                                    "0": "330",
                                    "1": "60.82"
                                },
                                {
                                    "0": "136",
                                    "1": "59.86"
                                },
                                {
                                    "0": "162",
                                    "1": "59.83"
                                },
                                {
                                    "0": "159",
                                    "1": "58.83"
                                },
                                {
                                    "0": "97",
                                    "1": "58.82"
                                },
                                {
                                    "0": "252",
                                    "1": "58.80"
                                },
                                {
                                    "0": "61",
                                    "1": "57.87"
                                },
                                {
                                    "0": "124",
                                    "1": "57.86"
                                },
                                {
                                    "0": "395",
                                    "1": "57.81"
                                },
                                {
                                    "0": "271",
                                    "1": "56.84"
                                },
                                {
                                    "0": "250",
                                    "1": "54.85"
                                },
                                {
                                    "0": "288",
                                    "1": "52.81"
                                },
                                {
                                    "0": "586",
                                    "1": "50.83"
                                },
                                {
                                    "0": "110",
                                    "1": "49.88"
                                },
                                {
                                    "0": "320",
                                    "1": "47.85"
                                },
                                {
                                    "0": "248",
                                    "1": "37.87"
                                },
                                {
                                    "0": "281",
                                    "1": "32.90"
                                },
                                {
                                    "0": "318",
                                    "1": "27.93"
                                }
                            ]
                        },
                        "text/html": [
                            "<table>",
                            "<tr><th>customer_id</th><th>sum</th></tr>",
                            "<tr><td>148</td><td>211.55</td></tr>",
                            "<tr><td>526</td><td>208.58</td></tr>",
                            "<tr><td>178</td><td>194.61</td></tr>",
                            "<tr><td>137</td><td>191.62</td></tr>",
                            "<tr><td>144</td><td>189.60</td></tr>",
                            "<tr><td>459</td><td>183.63</td></tr>",
                            "<tr><td>181</td><td>167.67</td></tr>",
                            "<tr><td>410</td><td>167.62</td></tr>",
                            "<tr><td>236</td><td>166.61</td></tr>",
                            "<tr><td>403</td><td>162.67</td></tr>",
                            "<tr><td>522</td><td>161.68</td></tr>",
                            "<tr><td>469</td><td>158.65</td></tr>",
                            "<tr><td>470</td><td>157.69</td></tr>",
                            "<tr><td>373</td><td>156.66</td></tr>",
                            "<tr><td>259</td><td>154.70</td></tr>",
                            "<tr><td>468</td><td>154.66</td></tr>",
                            "<tr><td>462</td><td>152.69</td></tr>",
                            "<tr><td>372</td><td>152.68</td></tr>",
                            "<tr><td>187</td><td>151.73</td></tr>",
                            "<tr><td>550</td><td>151.69</td></tr>",
                            "<tr><td>176</td><td>151.68</td></tr>",
                            "<tr><td>532</td><td>149.69</td></tr>",
                            "<tr><td>75</td><td>149.61</td></tr>",
                            "<tr><td>209</td><td>147.71</td></tr>",
                            "<tr><td>86</td><td>146.68</td></tr>",
                            "<tr><td>26</td><td>146.68</td></tr>",
                            "<tr><td>21</td><td>146.68</td></tr>",
                            "<tr><td>211</td><td>146.67</td></tr>",
                            "<tr><td>346</td><td>145.70</td></tr>",
                            "<tr><td>366</td><td>145.64</td></tr>",
                            "<tr><td>50</td><td>144.70</td></tr>",
                            "<tr><td>360</td><td>144.68</td></tr>",
                            "<tr><td>348</td><td>144.66</td></tr>",
                            "<tr><td>513</td><td>143.70</td></tr>",
                            "<tr><td>454</td><td>143.68</td></tr>",
                            "<tr><td>347</td><td>142.70</td></tr>",
                            "<tr><td>390</td><td>142.69</td></tr>",
                            "<tr><td>267</td><td>142.67</td></tr>",
                            "<tr><td>257</td><td>142.66</td></tr>",
                            "<tr><td>39</td><td>141.71</td></tr>",
                            "<tr><td>78</td><td>141.69</td></tr>",
                            "<tr><td>362</td><td>140.69</td></tr>",
                            "<tr><td>363</td><td>139.72</td></tr>",
                            "<tr><td>368</td><td>139.69</td></tr>",
                            "<tr><td>119</td><td>139.69</td></tr>",
                            "<tr><td>66</td><td>139.67</td></tr>",
                            "<tr><td>237</td><td>138.69</td></tr>",
                            "<tr><td>29</td><td>138.65</td></tr>",
                            "<tr><td>87</td><td>137.72</td></tr>",
                            "<tr><td>80</td><td>137.70</td></tr>",
                            "<tr><td>439</td><td>137.67</td></tr>",
                            "<tr><td>558</td><td>135.72</td></tr>",
                            "<tr><td>494</td><td>135.70</td></tr>",
                            "<tr><td>576</td><td>135.68</td></tr>",
                            "<tr><td>591</td><td>134.73</td></tr>",
                            "<tr><td>467</td><td>134.72</td></tr>",
                            "<tr><td>479</td><td>134.71</td></tr>",
                            "<tr><td>210</td><td>134.70</td></tr>",
                            "<tr><td>120</td><td>134.70</td></tr>",
                            "<tr><td>204</td><td>134.69</td></tr>",
                            "<tr><td>15</td><td>134.68</td></tr>",
                            "<tr><td>5</td><td>134.65</td></tr>",
                            "<tr><td>349</td><td>133.72</td></tr>",
                            "<tr><td>404</td><td>133.71</td></tr>",
                            "<tr><td>172</td><td>133.70</td></tr>",
                            "<tr><td>197</td><td>133.68</td></tr>",
                            "<tr><td>265</td><td>132.72</td></tr>",
                            "<tr><td>533</td><td>132.70</td></tr>",
                            "<tr><td>380</td><td>132.65</td></tr>",
                            "<tr><td>472</td><td>131.74</td></tr>",
                            "<tr><td>13</td><td>131.73</td></tr>",
                            "<tr><td>46</td><td>131.69</td></tr>",
                            "<tr><td>125</td><td>131.69</td></tr>",
                            "<tr><td>3</td><td>130.76</td></tr>",
                            "<tr><td>273</td><td>130.72</td></tr>",
                            "<tr><td>7</td><td>130.72</td></tr>",
                            "<tr><td>502</td><td>130.70</td></tr>",
                            "<tr><td>566</td><td>130.68</td></tr>",
                            "<tr><td>342</td><td>130.68</td></tr>",
                            "<tr><td>112</td><td>129.72</td></tr>",
                            "<tr><td>560</td><td>129.71</td></tr>",
                            "<tr><td>102</td><td>129.70</td></tr>",
                            "<tr><td>168</td><td>129.68</td></tr>",
                            "<tr><td>484</td><td>128.73</td></tr>",
                            "<tr><td>103</td><td>128.71</td></tr>",
                            "<tr><td>242</td><td>128.71</td></tr>",
                            "<tr><td>84</td><td>128.70</td></tr>",
                            "<tr><td>196</td><td>128.69</td></tr>",
                            "<tr><td>448</td><td>127.73</td></tr>",
                            "<tr><td>221</td><td>127.73</td></tr>",
                            "<tr><td>520</td><td>127.69</td></tr>",
                            "<tr><td>141</td><td>127.69</td></tr>",
                            "<tr><td>38</td><td>127.66</td></tr>",
                            "<tr><td>200</td><td>126.74</td></tr>",
                            "<tr><td>206</td><td>126.73</td></tr>",
                            "<tr><td>146</td><td>126.73</td></tr>",
                            "<tr><td>436</td><td>126.73</td></tr>",
                            "<tr><td>108</td><td>126.72</td></tr>",
                            "<tr><td>114</td><td>126.70</td></tr>",
                            "<tr><td>426</td><td>125.74</td></tr>",
                            "<tr><td>482</td><td>125.74</td></tr>",
                            "<tr><td>295</td><td>125.72</td></tr>",
                            "<tr><td>147</td><td>125.68</td></tr>",
                            "<tr><td>354</td><td>125.67</td></tr>",
                            "<tr><td>45</td><td>124.74</td></tr>",
                            "<tr><td>89</td><td>124.71</td></tr>",
                            "<tr><td>198</td><td>124.68</td></tr>",
                            "<tr><td>129</td><td>124.66</td></tr>",
                            "<tr><td>2</td><td>123.74</td></tr>",
                            "<tr><td>300</td><td>123.74</td></tr>",
                            "<tr><td>506</td><td>123.72</td></tr>",
                            "<tr><td>371</td><td>123.71</td></tr>",
                            "<tr><td>51</td><td>123.70</td></tr>",
                            "<tr><td>27</td><td>123.70</td></tr>",
                            "<tr><td>30</td><td>123.66</td></tr>",
                            "<tr><td>434</td><td>122.74</td></tr>",
                            "<tr><td>92</td><td>122.74</td></tr>",
                            "<tr><td>535</td><td>122.72</td></tr>",
                            "<tr><td>163</td><td>122.71</td></tr>",
                            "<tr><td>244</td><td>122.70</td></tr>",
                            "<tr><td>473</td><td>122.69</td></tr>",
                            "<tr><td>508</td><td>121.77</td></tr>",
                            "<tr><td>166</td><td>121.73</td></tr>",
                            "<tr><td>497</td><td>121.73</td></tr>",
                            "<tr><td>451</td><td>121.70</td></tr>",
                            "<tr><td>438</td><td>121.70</td></tr>",
                            "<tr><td>406</td><td>121.69</td></tr>",
                            "<tr><td>491</td><td>120.75</td></tr>",
                            "<tr><td>423</td><td>120.74</td></tr>",
                            "<tr><td>179</td><td>120.74</td></tr>",
                            "<tr><td>499</td><td>120.71</td></tr>",
                            "<tr><td>122</td><td>120.70</td></tr>",
                            "<tr><td>59</td><td>119.76</td></tr>",
                            "<tr><td>389</td><td>119.75</td></tr>",
                            "<tr><td>487</td><td>119.74</td></tr>",
                            "<tr><td>306</td><td>119.72</td></tr>",
                            "<tr><td>207</td><td>119.72</td></tr>",
                            "<tr><td>82</td><td>118.76</td></tr>",
                            "<tr><td>41</td><td>118.75</td></tr>",
                            "<tr><td>589</td><td>118.75</td></tr>",
                            "<tr><td>565</td><td>118.73</td></tr>",
                            "<tr><td>128</td><td>118.70</td></tr>",
                            "<tr><td>35</td><td>118.70</td></tr>",
                            "<tr><td>230</td><td>118.69</td></tr>",
                            "<tr><td>583</td><td>117.77</td></tr>",
                            "<tr><td>285</td><td>117.77</td></tr>",
                            "<tr><td>585</td><td>117.76</td></tr>",
                            "<tr><td>504</td><td>117.75</td></tr>",
                            "<tr><td>421</td><td>117.75</td></tr>",
                            "<tr><td>573</td><td>117.72</td></tr>",
                            "<tr><td>49</td><td>116.76</td></tr>",
                            "<tr><td>149</td><td>116.75</td></tr>",
                            "<tr><td>253</td><td>116.74</td></tr>",
                            "<tr><td>274</td><td>116.73</td></tr>",
                            "<tr><td>263</td><td>116.73</td></tr>",
                            "<tr><td>71</td><td>116.72</td></tr>",
                            "<tr><td>356</td><td>116.71</td></tr>",
                            "<tr><td>512</td><td>115.74</td></tr>",
                            "<tr><td>56</td><td>115.74</td></tr>",
                            "<tr><td>529</td><td>115.72</td></tr>",
                            "<tr><td>393</td><td>115.71</td></tr>",
                            "<tr><td>158</td><td>115.70</td></tr>",
                            "<tr><td>279</td><td>114.76</td></tr>",
                            "<tr><td>54</td><td>114.74</td></tr>",
                            "<tr><td>584</td><td>114.73</td></tr>",
                            "<tr><td>262</td><td>114.73</td></tr>",
                            "<tr><td>107</td><td>114.72</td></tr>",
                            "<tr><td>388</td><td>114.72</td></tr>",
                            "<tr><td>1</td><td>114.70</td></tr>",
                            "<tr><td>433</td><td>113.77</td></tr>",
                            "<tr><td>309</td><td>113.75</td></tr>",
                            "<tr><td>266</td><td>113.74</td></tr>",
                            "<tr><td>302</td><td>113.74</td></tr>",
                            "<tr><td>139</td><td>113.73</td></tr>",
                            "<tr><td>569</td><td>113.73</td></tr>",
                            "<tr><td>416</td><td>113.72</td></tr>",
                            "<tr><td>314</td><td>113.71</td></tr>",
                            "<tr><td>260</td><td>113.70</td></tr>",
                            "<tr><td>540</td><td>112.76</td></tr>",
                            "<tr><td>582</td><td>112.76</td></tr>",
                            "<tr><td>63</td><td>112.75</td></tr>",
                            "<tr><td>32</td><td>112.74</td></tr>",
                            "<tr><td>131</td><td>112.73</td></tr>",
                            "<tr><td>485</td><td>112.72</td></tr>",
                            "<tr><td>453</td><td>111.77</td></tr>",
                            "<tr><td>337</td><td>111.76</td></tr>",
                            "<tr><td>225</td><td>111.76</td></tr>",
                            "<tr><td>577</td><td>111.74</td></tr>",
                            "<tr><td>173</td><td>111.73</td></tr>",
                            "<tr><td>579</td><td>111.73</td></tr>",
                            "<tr><td>113</td><td>111.73</td></tr>",
                            "<tr><td>186</td><td>111.71</td></tr>",
                            "<tr><td>592</td><td>111.71</td></tr>",
                            "<tr><td>42</td><td>111.71</td></tr>",
                            "<tr><td>531</td><td>110.77</td></tr>",
                            "<tr><td>258</td><td>110.76</td></tr>",
                            "<tr><td>495</td><td>110.76</td></tr>",
                            "<tr><td>515</td><td>110.74</td></tr>",
                            "<tr><td>154</td><td>110.73</td></tr>",
                            "<tr><td>213</td><td>110.73</td></tr>",
                            "<tr><td>559</td><td>110.72</td></tr>",
                            "<tr><td>90</td><td>110.72</td></tr>",
                            "<tr><td>595</td><td>110.71</td></tr>",
                            "<tr><td>241</td><td>110.68</td></tr>",
                            "<tr><td>170</td><td>109.77</td></tr>",
                            "<tr><td>536</td><td>109.77</td></tr>",
                            "<tr><td>575</td><td>109.76</td></tr>",
                            "<tr><td>220</td><td>109.75</td></tr>",
                            "<tr><td>16</td><td>109.75</td></tr>",
                            "<tr><td>538</td><td>109.73</td></tr>",
                            "<tr><td>376</td><td>109.73</td></tr>",
                            "<tr><td>447</td><td>109.73</td></tr>",
                            "<tr><td>386</td><td>109.72</td></tr>",
                            "<tr><td>446</td><td>109.72</td></tr>",
                            "<tr><td>481</td><td>109.72</td></tr>",
                            "<tr><td>424</td><td>109.71</td></tr>",
                            "<tr><td>284</td><td>108.78</td></tr>",
                            "<tr><td>594</td><td>108.77</td></tr>",
                            "<tr><td>590</td><td>108.76</td></tr>",
                            "<tr><td>277</td><td>108.76</td></tr>",
                            "<tr><td>518</td><td>108.75</td></tr>",
                            "<tr><td>334</td><td>108.75</td></tr>",
                            "<tr><td>574</td><td>108.73</td></tr>",
                            "<tr><td>239</td><td>108.72</td></tr>",
                            "<tr><td>167</td><td>108.71</td></tr>",
                            "<tr><td>293</td><td>107.79</td></tr>",
                            "<tr><td>571</td><td>107.78</td></tr>",
                            "<tr><td>427</td><td>107.77</td></tr>",
                            "<tr><td>332</td><td>107.74</td></tr>",
                            "<tr><td>441</td><td>107.73</td></tr>",
                            "<tr><td>145</td><td>107.73</td></tr>",
                            "<tr><td>588</td><td>107.73</td></tr>",
                            "<tr><td>157</td><td>107.71</td></tr>",
                            "<tr><td>254</td><td>107.70</td></tr>",
                            "<tr><td>418</td><td>107.70</td></tr>",
                            "<tr><td>91</td><td>107.66</td></tr>",
                            "<tr><td>477</td><td>106.79</td></tr>",
                            "<tr><td>343</td><td>106.77</td></tr>",
                            "<tr><td>240</td><td>106.77</td></tr>",
                            "<tr><td>155</td><td>106.76</td></tr>",
                            "<tr><td>234</td><td>106.75</td></tr>",
                            "<tr><td>471</td><td>106.74</td></tr>",
                            "<tr><td>116</td><td>106.74</td></tr>",
                            "<tr><td>23</td><td>106.73</td></tr>",
                            "<tr><td>457</td><td>106.73</td></tr>",
                            "<tr><td>160</td><td>106.73</td></tr>",
                            "<tr><td>52</td><td>106.72</td></tr>",
                            "<tr><td>138</td><td>106.68</td></tr>",
                            "<tr><td>127</td><td>105.78</td></tr>",
                            "<tr><td>490</td><td>105.78</td></tr>",
                            "<tr><td>331</td><td>105.78</td></tr>",
                            "<tr><td>193</td><td>105.77</td></tr>",
                            "<tr><td>294</td><td>105.77</td></tr>",
                            "<tr><td>58</td><td>105.76</td></tr>",
                            "<tr><td>400</td><td>105.76</td></tr>",
                            "<tr><td>396</td><td>105.74</td></tr>",
                            "<tr><td>40</td><td>105.74</td></tr>",
                            "<tr><td>96</td><td>105.73</td></tr>",
                            "<tr><td>444</td><td>105.72</td></tr>",
                            "<tr><td>28</td><td>105.70</td></tr>",
                            "<tr><td>345</td><td>104.79</td></tr>",
                            "<tr><td>493</td><td>104.78</td></tr>",
                            "<tr><td>289</td><td>104.76</td></tr>",
                            "<tr><td>121</td><td>104.75</td></tr>",
                            "<tr><td>171</td><td>104.75</td></tr>",
                            "<tr><td>407</td><td>104.74</td></tr>",
                            "<tr><td>31</td><td>104.74</td></tr>",
                            "<tr><td>25</td><td>104.73</td></tr>",
                            "<tr><td>397</td><td>104.72</td></tr>",
                            "<tr><td>442</td><td>104.71</td></tr>",
                            "<tr><td>341</td><td>103.78</td></tr>",
                            "<tr><td>296</td><td>103.77</td></tr>",
                            "<tr><td>280</td><td>103.77</td></tr>",
                            "<tr><td>214</td><td>103.74</td></tr>",
                            "<tr><td>202</td><td>103.74</td></tr>",
                            "<tr><td>245</td><td>103.74</td></tr>",
                            "<tr><td>20</td><td>103.73</td></tr>",
                            "<tr><td>408</td><td>103.73</td></tr>",
                            "<tr><td>292</td><td>102.78</td></tr>",
                            "<tr><td>553</td><td>102.77</td></tr>",
                            "<tr><td>510</td><td>102.77</td></tr>",
                            "<tr><td>587</td><td>102.76</td></tr>",
                            "<tr><td>98</td><td>102.76</td></tr>",
                            "<tr><td>126</td><td>102.75</td></tr>",
                            "<tr><td>190</td><td>102.75</td></tr>",
                            "<tr><td>44</td><td>101.79</td></tr>",
                            "<tr><td>466</td><td>101.78</td></tr>",
                            "<tr><td>100</td><td>101.77</td></tr>",
                            "<tr><td>593</td><td>101.76</td></tr>",
                            "<tr><td>405</td><td>101.70</td></tr>",
                            "<tr><td>486</td><td>100.77</td></tr>",
                            "<tr><td>517</td><td>100.76</td></tr>",
                            "<tr><td>572</td><td>100.76</td></tr>",
                            "<tr><td>219</td><td>100.75</td></tr>",
                            "<tr><td>251</td><td>100.75</td></tr>",
                            "<tr><td>135</td><td>100.72</td></tr>",
                            "<tr><td>519</td><td>99.78</td></tr>",
                            "<tr><td>11</td><td>99.77</td></tr>",
                            "<tr><td>57</td><td>99.74</td></tr>",
                            "<tr><td>297</td><td>99.74</td></tr>",
                            "<tr><td>563</td><td>99.73</td></tr>",
                            "<tr><td>503</td><td>99.72</td></tr>",
                            "<tr><td>452</td><td>99.71</td></tr>",
                            "<tr><td>381</td><td>99.68</td></tr>",
                            "<tr><td>19</td><td>98.82</td></tr>",
                            "<tr><td>329</td><td>98.77</td></tr>",
                            "<tr><td>537</td><td>98.76</td></tr>",
                            "<tr><td>175</td><td>98.76</td></tr>",
                            "<tr><td>264</td><td>98.75</td></tr>",
                            "<tr><td>425</td><td>98.75</td></tr>",
                            "<tr><td>374</td><td>98.75</td></tr>",
                            "<tr><td>580</td><td>98.74</td></tr>",
                            "<tr><td>65</td><td>97.80</td></tr>",
                            "<tr><td>367</td><td>97.80</td></tr>",
                            "<tr><td>460</td><td>97.79</td></tr>",
                            "<tr><td>409</td><td>97.78</td></tr>",
                            "<tr><td>192</td><td>97.78</td></tr>",
                            "<tr><td>475</td><td>97.78</td></tr>",
                            "<tr><td>562</td><td>97.78</td></tr>",
                            "<tr><td>123</td><td>97.77</td></tr>",
                            "<tr><td>256</td><td>97.75</td></tr>",
                            "<tr><td>581</td><td>97.75</td></tr>",
                            "<tr><td>268</td><td>96.79</td></tr>",
                            "<tr><td>379</td><td>96.79</td></tr>",
                            "<tr><td>269</td><td>96.79</td></tr>",
                            "<tr><td>352</td><td>96.78</td></tr>",
                            "<tr><td>83</td><td>96.78</td></tr>",
                            "<tr><td>14</td><td>96.77</td></tr>",
                            "<tr><td>414</td><td>96.77</td></tr>",
                            "<tr><td>286</td><td>96.76</td></tr>",
                            "<tr><td>445</td><td>96.76</td></tr>",
                            "<tr><td>317</td><td>96.76</td></tr>",
                            "<tr><td>500</td><td>96.75</td></tr>",
                            "<tr><td>422</td><td>96.75</td></tr>",
                            "<tr><td>74</td><td>96.74</td></tr>",
                            "<tr><td>554</td><td>95.80</td></tr>",
                            "<tr><td>578</td><td>95.79</td></tr>",
                            "<tr><td>106</td><td>95.79</td></tr>",
                            "<tr><td>180</td><td>95.78</td></tr>",
                            "<tr><td>324</td><td>95.78</td></tr>",
                            "<tr><td>541</td><td>95.78</td></tr>",
                            "<tr><td>488</td><td>95.78</td></tr>",
                            "<tr><td>339</td><td>95.76</td></tr>",
                            "<tr><td>199</td><td>95.76</td></tr>",
                            "<tr><td>456</td><td>95.76</td></tr>",
                            "<tr><td>132</td><td>95.72</td></tr>",
                            "<tr><td>22</td><td>94.81</td></tr>",
                            "<tr><td>150</td><td>94.78</td></tr>",
                            "<tr><td>68</td><td>94.78</td></tr>",
                            "<tr><td>276</td><td>94.77</td></tr>",
                            "<tr><td>161</td><td>94.76</td></tr>",
                            "<tr><td>546</td><td>94.76</td></tr>",
                            "<tr><td>153</td><td>94.76</td></tr>",
                            "<tr><td>10</td><td>94.76</td></tr>",
                            "<tr><td>111</td><td>94.75</td></tr>",
                            "<tr><td>321</td><td>93.83</td></tr>",
                            "<tr><td>432</td><td>93.80</td></tr>",
                            "<tr><td>528</td><td>93.80</td></tr>",
                            "<tr><td>319</td><td>93.79</td></tr>",
                            "<tr><td>443</td><td>93.79</td></tr>",
                            "<tr><td>105</td><td>93.78</td></tr>",
                            "<tr><td>336</td><td>93.78</td></tr>",
                            "<tr><td>385</td><td>93.76</td></tr>",
                            "<tr><td>383</td><td>93.75</td></tr>",
                            "<tr><td>229</td><td>93.75</td></tr>",
                            "<tr><td>377</td><td>93.74</td></tr>",
                            "<tr><td>12</td><td>93.74</td></tr>",
                            "<tr><td>47</td><td>92.81</td></tr>",
                            "<tr><td>307</td><td>92.80</td></tr>",
                            "<tr><td>544</td><td>92.80</td></tr>",
                            "<tr><td>81</td><td>92.79</td></tr>",
                            "<tr><td>365</td><td>92.79</td></tr>",
                            "<tr><td>511</td><td>92.78</td></tr>",
                            "<tr><td>431</td><td>92.78</td></tr>",
                            "<tr><td>516</td><td>92.76</td></tr>",
                            "<tr><td>182</td><td>92.76</td></tr>",
                            "<tr><td>474</td><td>92.75</td></tr>",
                            "<tr><td>188</td><td>92.75</td></tr>",
                            "<tr><td>275</td><td>92.75</td></tr>",
                            "<tr><td>505</td><td>91.81</td></tr>",
                            "<tr><td>489</td><td>91.81</td></tr>",
                            "<tr><td>212</td><td>91.80</td></tr>",
                            "<tr><td>37</td><td>91.79</td></tr>",
                            "<tr><td>201</td><td>91.78</td></tr>",
                            "<tr><td>417</td><td>91.78</td></tr>",
                            "<tr><td>392</td><td>91.77</td></tr>",
                            "<tr><td>323</td><td>91.75</td></tr>",
                            "<tr><td>570</td><td>91.75</td></tr>",
                            "<tr><td>64</td><td>91.70</td></tr>",
                            "<tr><td>261</td><td>90.78</td></tr>",
                            "<tr><td>216</td><td>90.78</td></tr>",
                            "<tr><td>99</td><td>90.77</td></tr>",
                            "<tr><td>36</td><td>90.75</td></tr>",
                            "<tr><td>461</td><td>90.73</td></tr>",
                            "<tr><td>552</td><td>89.80</td></tr>",
                            "<tr><td>43</td><td>89.78</td></tr>",
                            "<tr><td>364</td><td>89.78</td></tr>",
                            "<tr><td>333</td><td>89.78</td></tr>",
                            "<tr><td>73</td><td>89.78</td></tr>",
                            "<tr><td>235</td><td>89.77</td></tr>",
                            "<tr><td>233</td><td>89.77</td></tr>",
                            "<tr><td>507</td><td>89.77</td></tr>",
                            "<tr><td>156</td><td>89.77</td></tr>",
                            "<tr><td>69</td><td>89.77</td></tr>",
                            "<tr><td>463</td><td>89.76</td></tr>",
                            "<tr><td>34</td><td>89.76</td></tr>",
                            "<tr><td>361</td><td>89.71</td></tr>",
                            "<tr><td>247</td><td>88.81</td></tr>",
                            "<tr><td>249</td><td>88.81</td></tr>",
                            "<tr><td>33</td><td>88.80</td></tr>",
                            "<tr><td>375</td><td>88.80</td></tr>",
                            "<tr><td>415</td><td>88.78</td></tr>",
                            "<tr><td>60</td><td>88.78</td></tr>",
                            "<tr><td>231</td><td>88.77</td></tr>",
                            "<tr><td>53</td><td>88.76</td></tr>",
                            "<tr><td>133</td><td>88.75</td></tr>",
                            "<tr><td>72</td><td>88.73</td></tr>",
                            "<tr><td>17</td><td>87.82</td></tr>",
                            "<tr><td>203</td><td>87.81</td></tr>",
                            "<tr><td>523</td><td>87.80</td></tr>",
                            "<tr><td>305</td><td>87.80</td></tr>",
                            "<tr><td>476</td><td>87.80</td></tr>",
                            "<tr><td>547</td><td>87.80</td></tr>",
                            "<tr><td>226</td><td>87.79</td></tr>",
                            "<tr><td>189</td><td>87.79</td></tr>",
                            "<tr><td>130</td><td>87.78</td></tr>",
                            "<tr><td>597</td><td>87.77</td></tr>",
                            "<tr><td>351</td><td>87.77</td></tr>",
                            "<tr><td>509</td><td>86.82</td></tr>",
                            "<tr><td>478</td><td>86.81</td></tr>",
                            "<tr><td>501</td><td>86.81</td></tr>",
                            "<tr><td>238</td><td>86.81</td></tr>",
                            "<tr><td>195</td><td>86.81</td></tr>",
                            "<tr><td>67</td><td>86.80</td></tr>",
                            "<tr><td>169</td><td>86.80</td></tr>",
                            "<tr><td>217</td><td>86.79</td></tr>",
                            "<tr><td>232</td><td>86.77</td></tr>",
                            "<tr><td>101</td><td>86.77</td></tr>",
                            "<tr><td>419</td><td>86.76</td></tr>",
                            "<tr><td>228</td><td>86.75</td></tr>",
                            "<tr><td>561</td><td>86.75</td></tr>",
                            "<tr><td>208</td><td>86.75</td></tr>",
                            "<tr><td>115</td><td>86.73</td></tr>",
                            "<tr><td>567</td><td>85.80</td></tr>",
                            "<tr><td>437</td><td>85.80</td></tr>",
                            "<tr><td>382</td><td>85.78</td></tr>",
                            "<tr><td>359</td><td>85.78</td></tr>",
                            "<tr><td>455</td><td>85.78</td></tr>",
                            "<tr><td>24</td><td>85.77</td></tr>",
                            "<tr><td>8</td><td>85.77</td></tr>",
                            "<tr><td>77</td><td>85.77</td></tr>",
                            "<tr><td>450</td><td>85.75</td></tr>",
                            "<tr><td>542</td><td>84.84</td></tr>",
                            "<tr><td>55</td><td>84.81</td></tr>",
                            "<tr><td>545</td><td>84.81</td></tr>",
                            "<tr><td>539</td><td>84.80</td></tr>",
                            "<tr><td>88</td><td>84.80</td></tr>",
                            "<tr><td>299</td><td>84.79</td></tr>",
                            "<tr><td>6</td><td>84.75</td></tr>",
                            "<tr><td>140</td><td>83.82</td></tr>",
                            "<tr><td>480</td><td>83.81</td></tr>",
                            "<tr><td>143</td><td>83.80</td></tr>",
                            "<tr><td>440</td><td>83.79</td></tr>",
                            "<tr><td>598</td><td>83.78</td></tr>",
                            "<tr><td>340</td><td>83.77</td></tr>",
                            "<tr><td>496</td><td>82.81</td></tr>",
                            "<tr><td>564</td><td>82.78</td></tr>",
                            "<tr><td>498</td><td>82.76</td></tr>",
                            "<tr><td>524</td><td>81.83</td></tr>",
                            "<tr><td>483</td><td>81.83</td></tr>",
                            "<tr><td>322</td><td>81.81</td></tr>",
                            "<tr><td>308</td><td>81.81</td></tr>",
                            "<tr><td>174</td><td>81.81</td></tr>",
                            "<tr><td>165</td><td>81.80</td></tr>",
                            "<tr><td>312</td><td>81.80</td></tr>",
                            "<tr><td>4</td><td>81.78</td></tr>",
                            "<tr><td>534</td><td>81.78</td></tr>",
                            "<tr><td>527</td><td>81.76</td></tr>",
                            "<tr><td>215</td><td>81.76</td></tr>",
                            "<tr><td>151</td><td>81.75</td></tr>",
                            "<tr><td>311</td><td>80.85</td></tr>",
                            "<tr><td>449</td><td>80.83</td></tr>",
                            "<tr><td>205</td><td>80.82</td></tr>",
                            "<tr><td>316</td><td>80.81</td></tr>",
                            "<tr><td>184</td><td>80.80</td></tr>",
                            "<tr><td>287</td><td>80.78</td></tr>",
                            "<tr><td>290</td><td>80.78</td></tr>",
                            "<tr><td>521</td><td>80.77</td></tr>",
                            "<tr><td>357</td><td>80.77</td></tr>",
                            "<tr><td>304</td><td>79.81</td></tr>",
                            "<tr><td>109</td><td>79.81</td></tr>",
                            "<tr><td>282</td><td>79.80</td></tr>",
                            "<tr><td>185</td><td>79.80</td></tr>",
                            "<tr><td>387</td><td>79.78</td></tr>",
                            "<tr><td>391</td><td>79.75</td></tr>",
                            "<tr><td>429</td><td>78.84</td></tr>",
                            "<tr><td>599</td><td>78.82</td></tr>",
                            "<tr><td>18</td><td>78.81</td></tr>",
                            "<tr><td>338</td><td>78.80</td></tr>",
                            "<tr><td>9</td><td>78.80</td></tr>",
                            "<tr><td>298</td><td>78.79</td></tr>",
                            "<tr><td>62</td><td>78.79</td></tr>",
                            "<tr><td>227</td><td>78.78</td></tr>",
                            "<tr><td>435</td><td>78.77</td></tr>",
                            "<tr><td>223</td><td>77.84</td></tr>",
                            "<tr><td>402</td><td>77.81</td></tr>",
                            "<tr><td>134</td><td>77.81</td></tr>",
                            "<tr><td>394</td><td>77.80</td></tr>",
                            "<tr><td>384</td><td>77.79</td></tr>",
                            "<tr><td>104</td><td>77.78</td></tr>",
                            "<tr><td>243</td><td>77.77</td></tr>",
                            "<tr><td>246</td><td>76.82</td></tr>",
                            "<tr><td>93</td><td>76.80</td></tr>",
                            "<tr><td>118</td><td>76.80</td></tr>",
                            "<tr><td>224</td><td>76.78</td></tr>",
                            "<tr><td>70</td><td>75.83</td></tr>",
                            "<tr><td>270</td><td>75.81</td></tr>",
                            "<tr><td>358</td><td>75.80</td></tr>",
                            "<tr><td>551</td><td>75.79</td></tr>",
                            "<tr><td>183</td><td>75.78</td></tr>",
                            "<tr><td>530</td><td>75.78</td></tr>",
                            "<tr><td>194</td><td>74.84</td></tr>",
                            "<tr><td>412</td><td>74.83</td></tr>",
                            "<tr><td>555</td><td>74.83</td></tr>",
                            "<tr><td>327</td><td>74.81</td></tr>",
                            "<tr><td>420</td><td>74.80</td></tr>",
                            "<tr><td>76</td><td>74.79</td></tr>",
                            "<tr><td>142</td><td>74.77</td></tr>",
                            "<tr><td>398</td><td>73.85</td></tr>",
                            "<tr><td>291</td><td>73.83</td></tr>",
                            "<tr><td>399</td><td>73.82</td></tr>",
                            "<tr><td>152</td><td>73.81</td></tr>",
                            "<tr><td>79</td><td>73.81</td></tr>",
                            "<tr><td>428</td><td>73.81</td></tr>",
                            "<tr><td>543</td><td>73.80</td></tr>",
                            "<tr><td>596</td><td>73.78</td></tr>",
                            "<tr><td>335</td><td>73.78</td></tr>",
                            "<tr><td>411</td><td>73.76</td></tr>",
                            "<tr><td>95</td><td>72.83</td></tr>",
                            "<tr><td>556</td><td>72.82</td></tr>",
                            "<tr><td>325</td><td>72.82</td></tr>",
                            "<tr><td>85</td><td>72.79</td></tr>",
                            "<tr><td>301</td><td>71.85</td></tr>",
                            "<tr><td>222</td><td>71.84</td></tr>",
                            "<tr><td>94</td><td>71.81</td></tr>",
                            "<tr><td>430</td><td>71.80</td></tr>",
                            "<tr><td>278</td><td>71.79</td></tr>",
                            "<tr><td>177</td><td>71.77</td></tr>",
                            "<tr><td>255</td><td>70.82</td></tr>",
                            "<tr><td>378</td><td>70.82</td></tr>",
                            "<tr><td>370</td><td>70.81</td></tr>",
                            "<tr><td>303</td><td>70.81</td></tr>",
                            "<tr><td>117</td><td>69.83</td></tr>",
                            "<tr><td>369</td><td>69.79</td></tr>",
                            "<tr><td>514</td><td>69.79</td></tr>",
                            "<tr><td>310</td><td>68.87</td></tr>",
                            "<tr><td>465</td><td>68.84</td></tr>",
                            "<tr><td>525</td><td>68.82</td></tr>",
                            "<tr><td>355</td><td>68.81</td></tr>",
                            "<tr><td>283</td><td>68.77</td></tr>",
                            "<tr><td>48</td><td>67.86</td></tr>",
                            "<tr><td>464</td><td>67.86</td></tr>",
                            "<tr><td>315</td><td>67.86</td></tr>",
                            "<tr><td>218</td><td>67.82</td></tr>",
                            "<tr><td>191</td><td>66.82</td></tr>",
                            "<tr><td>458</td><td>66.81</td></tr>",
                            "<tr><td>568</td><td>66.79</td></tr>",
                            "<tr><td>272</td><td>65.87</td></tr>",
                            "<tr><td>353</td><td>65.83</td></tr>",
                            "<tr><td>328</td><td>65.83</td></tr>",
                            "<tr><td>413</td><td>65.81</td></tr>",
                            "<tr><td>164</td><td>64.85</td></tr>",
                            "<tr><td>344</td><td>64.84</td></tr>",
                            "<tr><td>326</td><td>64.82</td></tr>",
                            "<tr><td>313</td><td>63.84</td></tr>",
                            "<tr><td>548</td><td>63.84</td></tr>",
                            "<tr><td>350</td><td>63.79</td></tr>",
                            "<tr><td>557</td><td>63.78</td></tr>",
                            "<tr><td>492</td><td>62.85</td></tr>",
                            "<tr><td>549</td><td>62.84</td></tr>",
                            "<tr><td>401</td><td>62.81</td></tr>",
                            "<tr><td>330</td><td>60.82</td></tr>",
                            "<tr><td>136</td><td>59.86</td></tr>",
                            "<tr><td>162</td><td>59.83</td></tr>",
                            "<tr><td>159</td><td>58.83</td></tr>",
                            "<tr><td>97</td><td>58.82</td></tr>",
                            "<tr><td>252</td><td>58.80</td></tr>",
                            "<tr><td>61</td><td>57.87</td></tr>",
                            "<tr><td>124</td><td>57.86</td></tr>",
                            "<tr><td>395</td><td>57.81</td></tr>",
                            "<tr><td>271</td><td>56.84</td></tr>",
                            "<tr><td>250</td><td>54.85</td></tr>",
                            "<tr><td>288</td><td>52.81</td></tr>",
                            "<tr><td>586</td><td>50.83</td></tr>",
                            "<tr><td>110</td><td>49.88</td></tr>",
                            "<tr><td>320</td><td>47.85</td></tr>",
                            "<tr><td>248</td><td>37.87</td></tr>",
                            "<tr><td>281</td><td>32.90</td></tr>",
                            "<tr><td>318</td><td>27.93</td></tr>",
                            "</table>"
                        ]
                    }
                }
            ],
            "execution_count": 19
        }
    ]
}