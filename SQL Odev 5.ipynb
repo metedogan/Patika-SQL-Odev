{
    "metadata": {
        "kernelspec": {
            "name": "SQL",
            "display_name": "SQL",
            "language": "sql"
        },
        "language_info": {
            "name": "sql",
            "version": ""
        }
    },
    "nbformat_minor": 2,
    "nbformat": 4,
    "cells": [
        {
            "cell_type": "markdown",
            "source": [
                "- film tablosunda bulunan ve film ismi (title) 'n' karakteri ile biten en uzun (length) 5 filmi sıralayınız."
            ],
            "metadata": {
                "azdata_cell_guid": "48ce160d-986e-4b0d-a790-6a7c6233a809"
            },
            "attachments": {}
        },
        {
            "cell_type": "code",
            "source": [
                "SELECT title, length FROM film\r\n",
                "WHERE title LIKE '%n'\r\n",
                "ORDER BY length DESC\r\n",
                "LIMIT 5;"
            ],
            "metadata": {
                "azdata_cell_guid": "362b7b92-f6a5-4bf8-ad67-2d2bc57aed45",
                "language": "sql"
            },
            "outputs": [
                {
                    "output_type": "display_data",
                    "data": {
                        "text/html": "(5 row(s) affected)"
                    },
                    "metadata": {}
                },
                {
                    "output_type": "display_data",
                    "data": {
                        "text/html": "Total execution time: 00:00:00.003"
                    },
                    "metadata": {}
                },
                {
                    "output_type": "execute_result",
                    "metadata": {},
                    "execution_count": 1,
                    "data": {
                        "application/vnd.dataresource+json": {
                            "schema": {
                                "fields": [
                                    {
                                        "name": "title"
                                    },
                                    {
                                        "name": "length"
                                    }
                                ]
                            },
                            "data": [
                                {
                                    "0": "Soldiers Evolution",
                                    "1": "185"
                                },
                                {
                                    "0": "Sorority Queen",
                                    "1": "184"
                                },
                                {
                                    "0": "King Evolution",
                                    "1": "184"
                                },
                                {
                                    "0": "Frontier Cabin",
                                    "1": "183"
                                },
                                {
                                    "0": "Wife Turn",
                                    "1": "183"
                                }
                            ]
                        },
                        "text/html": [
                            "<table>",
                            "<tr><th>title</th><th>length</th></tr>",
                            "<tr><td>Soldiers Evolution</td><td>185</td></tr>",
                            "<tr><td>Sorority Queen</td><td>184</td></tr>",
                            "<tr><td>King Evolution</td><td>184</td></tr>",
                            "<tr><td>Frontier Cabin</td><td>183</td></tr>",
                            "<tr><td>Wife Turn</td><td>183</td></tr>",
                            "</table>"
                        ]
                    }
                }
            ],
            "execution_count": 1
        },
        {
            "cell_type": "markdown",
            "source": [
                "- film tablosunda bulunan ve film ismi (title) 'n' karakteri ile biten en kısa (length) ikinci(6,7,8,9,10) 5 filmi(6,7,8,9,10) sıralayınız."
            ],
            "metadata": {
                "azdata_cell_guid": "fd32b0da-3f1b-43b9-9de9-ad927d5c64a4"
            },
            "attachments": {}
        },
        {
            "cell_type": "code",
            "source": [
                "SELECT title, length FROM film\r\n",
                "WHERE title LIKE '%n'\r\n",
                "ORDER BY length \r\n",
                "OFFSET 5\r\n",
                "LIMIT 5;"
            ],
            "metadata": {
                "azdata_cell_guid": "e92b2bfc-221f-4dcf-8fc1-79b7a214992d",
                "language": "sql"
            },
            "outputs": [
                {
                    "output_type": "display_data",
                    "data": {
                        "text/html": "(5 row(s) affected)"
                    },
                    "metadata": {}
                },
                {
                    "output_type": "display_data",
                    "data": {
                        "text/html": "Total execution time: 00:00:00.003"
                    },
                    "metadata": {}
                },
                {
                    "output_type": "execute_result",
                    "metadata": {},
                    "execution_count": 2,
                    "data": {
                        "application/vnd.dataresource+json": {
                            "schema": {
                                "fields": [
                                    {
                                        "name": "title"
                                    },
                                    {
                                        "name": "length"
                                    }
                                ]
                            },
                            "data": [
                                {
                                    "0": "Jekyll Frogmen",
                                    "1": "58"
                                },
                                {
                                    "0": "Daughter Madigan",
                                    "1": "59"
                                },
                                {
                                    "0": "Room Roman",
                                    "1": "60"
                                },
                                {
                                    "0": "Camelot Vacation",
                                    "1": "61"
                                },
                                {
                                    "0": "Birds Perdition",
                                    "1": "61"
                                }
                            ]
                        },
                        "text/html": [
                            "<table>",
                            "<tr><th>title</th><th>length</th></tr>",
                            "<tr><td>Jekyll Frogmen</td><td>58</td></tr>",
                            "<tr><td>Daughter Madigan</td><td>59</td></tr>",
                            "<tr><td>Room Roman</td><td>60</td></tr>",
                            "<tr><td>Camelot Vacation</td><td>61</td></tr>",
                            "<tr><td>Birds Perdition</td><td>61</td></tr>",
                            "</table>"
                        ]
                    }
                }
            ],
            "execution_count": 2
        },
        {
            "cell_type": "markdown",
            "source": [
                "- customer tablosunda bulunan last\\_name sütununa göre azalan yapılan sıralamada store\\_id 1 olmak koşuluyla ilk 4 veriyi sıralayınız."
            ],
            "metadata": {
                "azdata_cell_guid": "82ecc540-e4eb-490e-a23b-42e563de7661"
            },
            "attachments": {}
        },
        {
            "cell_type": "code",
            "source": [
                "SELECT last_name FROM customer\r\n",
                "WHERE store_id = 1\r\n",
                "ORDER BY last_name DESC\r\n",
                "LIMIT 4;"
            ],
            "metadata": {
                "azdata_cell_guid": "5e34668d-61a3-4aff-94c9-ad0e36bdf646",
                "language": "sql"
            },
            "outputs": [
                {
                    "output_type": "display_data",
                    "data": {
                        "text/html": "(4 row(s) affected)"
                    },
                    "metadata": {}
                },
                {
                    "output_type": "display_data",
                    "data": {
                        "text/html": "Total execution time: 00:00:00.008"
                    },
                    "metadata": {}
                },
                {
                    "output_type": "execute_result",
                    "metadata": {},
                    "execution_count": 3,
                    "data": {
                        "application/vnd.dataresource+json": {
                            "schema": {
                                "fields": [
                                    {
                                        "name": "last_name"
                                    }
                                ]
                            },
                            "data": [
                                {
                                    "0": "Young"
                                },
                                {
                                    "0": "Yanez"
                                },
                                {
                                    "0": "Wyman"
                                },
                                {
                                    "0": "Woods"
                                }
                            ]
                        },
                        "text/html": [
                            "<table>",
                            "<tr><th>last_name</th></tr>",
                            "<tr><td>Young</td></tr>",
                            "<tr><td>Yanez</td></tr>",
                            "<tr><td>Wyman</td></tr>",
                            "<tr><td>Woods</td></tr>",
                            "</table>"
                        ]
                    }
                }
            ],
            "execution_count": 3
        }
    ]
}