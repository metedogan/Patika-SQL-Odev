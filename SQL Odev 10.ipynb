{
    "metadata": {
        "kernelspec": {
            "name": "SQL",
            "display_name": "SQL",
            "language": "sql"
        },
        "language_info": {
            "name": "sql",
            "version": ""
        }
    },
    "nbformat_minor": 2,
    "nbformat": 4,
    "cells": [
        {
            "cell_type": "markdown",
            "source": [
                "- city tablosu ile country tablosunda bulunan şehir (city) ve ülke (country) isimlerini birlikte görebileceğimiz LEFT JOIN sorgusunu yazınız."
            ],
            "metadata": {
                "language": "sql",
                "azdata_cell_guid": "519b9b93-cad2-4656-97bd-708a8abdc9b8"
            },
            "attachments": {}
        },
        {
            "cell_type": "code",
            "source": [
                "SELECT city, country\r\n",
                "FROM city\r\n",
                "LEFT JOIN country\r\n",
                "ON country.country_id = city.country_id;"
            ],
            "metadata": {
                "azdata_cell_guid": "0d36c148-ee6e-45e1-a803-50afbce3b029",
                "language": "sql"
            },
            "outputs": [
                {
                    "output_type": "error",
                    "evalue": "relation \"city\" does not exist",
                    "ename": "",
                    "traceback": []
                },
                {
                    "output_type": "display_data",
                    "data": {
                        "text/html": "Total execution time: 00:00:00"
                    },
                    "metadata": {}
                }
            ],
            "execution_count": 2
        },
        {
            "cell_type": "markdown",
            "source": [
                "- customer tablosu ile payment tablosunda bulunan payment\\_id ile customer tablosundaki first\\_name ve last\\_name isimlerini birlikte görebileceğimiz RIGHT JOIN sorgusunu yazınız."
            ],
            "metadata": {
                "language": "sql",
                "azdata_cell_guid": "8012a334-f43a-4e5c-a9d7-214614b85d9a"
            },
            "attachments": {}
        },
        {
            "cell_type": "code",
            "source": [
                "SELECT payment_id, first_name, last_name\r\n",
                "FROM payment\r\n",
                "RIGHT JOIN customer\r\n",
                "ON payment.customer_id = customer.customer_id;"
            ],
            "metadata": {
                "language": "sql",
                "azdata_cell_guid": "cb1bed4e-81fa-483b-a759-22019188d6be"
            },
            "outputs": [],
            "execution_count": null
        },
        {
            "cell_type": "markdown",
            "source": [
                "### \n",
                "\n",
                "- customer tablosu ile rental tablosunda bulunan rental\\_id ile customer tablosundaki first\\_name ve last\\_name isimlerini birlikte görebileceğimiz FULL JOIN sorgusunu yazınız."
            ],
            "metadata": {
                "language": "sql",
                "azdata_cell_guid": "a82a5057-1388-4d0c-9f10-300b9cb1ba2d"
            },
            "attachments": {}
        },
        {
            "cell_type": "code",
            "source": [
                "SELECT rental_id, first_name, last_name\r\n",
                "FROM rental\r\n",
                "FULL JOIN customer\r\n",
                "ON rental.customer_id = customer.customer_id;"
            ],
            "metadata": {
                "language": "sql",
                "azdata_cell_guid": "1972c9ce-1918-483d-b1f8-8a29ddde73da"
            },
            "outputs": [],
            "execution_count": null
        }
    ]
}